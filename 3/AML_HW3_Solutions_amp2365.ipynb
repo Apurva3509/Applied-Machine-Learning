{
  "cells": [
    {
      "cell_type": "markdown",
      "id": "66705c23",
      "metadata": {
        "id": "66705c23"
      },
      "source": [
        "## Homework 3: Imbalanced Datasets\n",
        "\n",
        "### Submission Instructions:\n",
        "\n",
        "1. Submit a PDF File on GradeScope:\n",
        "\n",
        "- Please prepare your solutions neatly and compile them into a single PDF file.\n",
        "- Submit this PDF file on GradeScope before the specified deadline.\n",
        "- Ensure that your submission is clearly labeled with your UNI ID\n",
        "- Ensure that your solutions are entirely original and free from any form of plagiarism.\n",
        "\n",
        "\n",
        "2. Submit a .ipynb File + PDF File on Courseworks:\n",
        "\n",
        "- Alongside the PDF submission on GradeScope, also submit your Notebook (.ipynb) file and its corresponding PDF version on the Courseworks platform.\n",
        "- The Notebook should contain your code, explanations, and any additional details necessary for understanding your solutions.\n",
        "\n",
        "Please try to name your soltution file in the following format - AML_HW3_Solutions_UNI\n",
        "\n",
        "Dataset Location -  The dataset you will be using for this assignment is called 'onlinefraud.csv'. You can find it in coursworks 'Files' section under the 'datasets' folder.\n",
        "\n",
        "### GIST:\n",
        "The goal of this assignment is to build a model that can reliably classify online payments into two categories - fraudulent and non-fradulent. You will notice that, without much effort, you can build a model that gives you a very high ‘accuracy’ score for the given dataset. However, this metric is misleading since the model cannot correctly classify instances of the minority class (‘1’ in this case). This can be attributed to the  inherent imbalance present in the target class of the dataset.  \n",
        "\n",
        "To solve this issue, you will need to employ certain ML techniques that are designed to counter class imbalance. Hence, the focus of this assignment will be towards addressing class imbalance and testing the model using different evaluation metrics other than just accuracy."
      ]
    },
    {
      "cell_type": "markdown",
      "id": "e1c6bf98",
      "metadata": {
        "id": "e1c6bf98"
      },
      "source": [
        "## Name:  Apurva Patel\n",
        "\n",
        "## UNI: amp2365"
      ]
    },
    {
      "cell_type": "code",
      "source": [
        "from google.colab import drive\n",
        "drive.mount('/content/drive')"
      ],
      "metadata": {
        "colab": {
          "base_uri": "https://localhost:8080/"
        },
        "id": "AQndgdC60SW4",
        "outputId": "d704c18c-9b66-48ea-b17b-a43512445401"
      },
      "id": "AQndgdC60SW4",
      "execution_count": 1,
      "outputs": [
        {
          "output_type": "stream",
          "name": "stdout",
          "text": [
            "Mounted at /content/drive\n"
          ]
        }
      ]
    },
    {
      "cell_type": "code",
      "execution_count": 2,
      "id": "be718f27",
      "metadata": {
        "id": "be718f27"
      },
      "outputs": [],
      "source": [
        "import numpy as np\n",
        "import pandas as pd\n",
        "import matplotlib.pyplot as plt\n",
        "import seaborn as sns\n",
        "\n",
        "#Import below any other package you need for your solution"
      ]
    },
    {
      "cell_type": "code",
      "source": [
        "frauddf=pd.read_csv('/content/drive/MyDrive/AML_3/onlinefraud.csv')"
      ],
      "metadata": {
        "id": "5t6CVeK_8yg-"
      },
      "id": "5t6CVeK_8yg-",
      "execution_count": 4,
      "outputs": []
    },
    {
      "cell_type": "code",
      "source": [
        "frauddf.head()"
      ],
      "metadata": {
        "id": "AQyO6Z718_Tz",
        "outputId": "312c296c-e9b1-47ce-b5a3-552e9dcf841f",
        "colab": {
          "base_uri": "https://localhost:8080/",
          "height": 236
        }
      },
      "id": "AQyO6Z718_Tz",
      "execution_count": 5,
      "outputs": [
        {
          "output_type": "execute_result",
          "data": {
            "text/plain": [
              "   step      type    amount     nameOrig  oldbalanceOrg  ...     nameDest  \\\n",
              "0     1   PAYMENT   9839.64  C1231006815       170136.0  ...  M1979787155   \n",
              "1     1   PAYMENT   1864.28  C1666544295        21249.0  ...  M2044282225   \n",
              "2     1  TRANSFER    181.00  C1305486145          181.0  ...   C553264065   \n",
              "3     1  CASH_OUT    181.00   C840083671          181.0  ...    C38997010   \n",
              "4     1   PAYMENT  11668.14  C2048537720        41554.0  ...  M1230701703   \n",
              "\n",
              "  oldbalanceDest  newbalanceDest  isFraud  isFlaggedFraud  \n",
              "0            0.0             0.0        0               0  \n",
              "1            0.0             0.0        0               0  \n",
              "2            0.0             0.0        1               0  \n",
              "3        21182.0             0.0        1               0  \n",
              "4            0.0             0.0        0               0  \n",
              "\n",
              "[5 rows x 11 columns]"
            ],
            "text/html": [
              "\n",
              "  <div id=\"df-e27f6746-93df-410b-ac2a-3ec70a06153b\" class=\"colab-df-container\">\n",
              "    <div>\n",
              "<style scoped>\n",
              "    .dataframe tbody tr th:only-of-type {\n",
              "        vertical-align: middle;\n",
              "    }\n",
              "\n",
              "    .dataframe tbody tr th {\n",
              "        vertical-align: top;\n",
              "    }\n",
              "\n",
              "    .dataframe thead th {\n",
              "        text-align: right;\n",
              "    }\n",
              "</style>\n",
              "<table border=\"1\" class=\"dataframe\">\n",
              "  <thead>\n",
              "    <tr style=\"text-align: right;\">\n",
              "      <th></th>\n",
              "      <th>step</th>\n",
              "      <th>type</th>\n",
              "      <th>amount</th>\n",
              "      <th>nameOrig</th>\n",
              "      <th>oldbalanceOrg</th>\n",
              "      <th>...</th>\n",
              "      <th>nameDest</th>\n",
              "      <th>oldbalanceDest</th>\n",
              "      <th>newbalanceDest</th>\n",
              "      <th>isFraud</th>\n",
              "      <th>isFlaggedFraud</th>\n",
              "    </tr>\n",
              "  </thead>\n",
              "  <tbody>\n",
              "    <tr>\n",
              "      <th>0</th>\n",
              "      <td>1</td>\n",
              "      <td>PAYMENT</td>\n",
              "      <td>9839.64</td>\n",
              "      <td>C1231006815</td>\n",
              "      <td>170136.0</td>\n",
              "      <td>...</td>\n",
              "      <td>M1979787155</td>\n",
              "      <td>0.0</td>\n",
              "      <td>0.0</td>\n",
              "      <td>0</td>\n",
              "      <td>0</td>\n",
              "    </tr>\n",
              "    <tr>\n",
              "      <th>1</th>\n",
              "      <td>1</td>\n",
              "      <td>PAYMENT</td>\n",
              "      <td>1864.28</td>\n",
              "      <td>C1666544295</td>\n",
              "      <td>21249.0</td>\n",
              "      <td>...</td>\n",
              "      <td>M2044282225</td>\n",
              "      <td>0.0</td>\n",
              "      <td>0.0</td>\n",
              "      <td>0</td>\n",
              "      <td>0</td>\n",
              "    </tr>\n",
              "    <tr>\n",
              "      <th>2</th>\n",
              "      <td>1</td>\n",
              "      <td>TRANSFER</td>\n",
              "      <td>181.00</td>\n",
              "      <td>C1305486145</td>\n",
              "      <td>181.0</td>\n",
              "      <td>...</td>\n",
              "      <td>C553264065</td>\n",
              "      <td>0.0</td>\n",
              "      <td>0.0</td>\n",
              "      <td>1</td>\n",
              "      <td>0</td>\n",
              "    </tr>\n",
              "    <tr>\n",
              "      <th>3</th>\n",
              "      <td>1</td>\n",
              "      <td>CASH_OUT</td>\n",
              "      <td>181.00</td>\n",
              "      <td>C840083671</td>\n",
              "      <td>181.0</td>\n",
              "      <td>...</td>\n",
              "      <td>C38997010</td>\n",
              "      <td>21182.0</td>\n",
              "      <td>0.0</td>\n",
              "      <td>1</td>\n",
              "      <td>0</td>\n",
              "    </tr>\n",
              "    <tr>\n",
              "      <th>4</th>\n",
              "      <td>1</td>\n",
              "      <td>PAYMENT</td>\n",
              "      <td>11668.14</td>\n",
              "      <td>C2048537720</td>\n",
              "      <td>41554.0</td>\n",
              "      <td>...</td>\n",
              "      <td>M1230701703</td>\n",
              "      <td>0.0</td>\n",
              "      <td>0.0</td>\n",
              "      <td>0</td>\n",
              "      <td>0</td>\n",
              "    </tr>\n",
              "  </tbody>\n",
              "</table>\n",
              "<p>5 rows × 11 columns</p>\n",
              "</div>\n",
              "    <div class=\"colab-df-buttons\">\n",
              "\n",
              "  <div class=\"colab-df-container\">\n",
              "    <button class=\"colab-df-convert\" onclick=\"convertToInteractive('df-e27f6746-93df-410b-ac2a-3ec70a06153b')\"\n",
              "            title=\"Convert this dataframe to an interactive table.\"\n",
              "            style=\"display:none;\">\n",
              "\n",
              "  <svg xmlns=\"http://www.w3.org/2000/svg\" height=\"24px\" viewBox=\"0 -960 960 960\">\n",
              "    <path d=\"M120-120v-720h720v720H120Zm60-500h600v-160H180v160Zm220 220h160v-160H400v160Zm0 220h160v-160H400v160ZM180-400h160v-160H180v160Zm440 0h160v-160H620v160ZM180-180h160v-160H180v160Zm440 0h160v-160H620v160Z\"/>\n",
              "  </svg>\n",
              "    </button>\n",
              "\n",
              "  <style>\n",
              "    .colab-df-container {\n",
              "      display:flex;\n",
              "      gap: 12px;\n",
              "    }\n",
              "\n",
              "    .colab-df-convert {\n",
              "      background-color: #E8F0FE;\n",
              "      border: none;\n",
              "      border-radius: 50%;\n",
              "      cursor: pointer;\n",
              "      display: none;\n",
              "      fill: #1967D2;\n",
              "      height: 32px;\n",
              "      padding: 0 0 0 0;\n",
              "      width: 32px;\n",
              "    }\n",
              "\n",
              "    .colab-df-convert:hover {\n",
              "      background-color: #E2EBFA;\n",
              "      box-shadow: 0px 1px 2px rgba(60, 64, 67, 0.3), 0px 1px 3px 1px rgba(60, 64, 67, 0.15);\n",
              "      fill: #174EA6;\n",
              "    }\n",
              "\n",
              "    .colab-df-buttons div {\n",
              "      margin-bottom: 4px;\n",
              "    }\n",
              "\n",
              "    [theme=dark] .colab-df-convert {\n",
              "      background-color: #3B4455;\n",
              "      fill: #D2E3FC;\n",
              "    }\n",
              "\n",
              "    [theme=dark] .colab-df-convert:hover {\n",
              "      background-color: #434B5C;\n",
              "      box-shadow: 0px 1px 3px 1px rgba(0, 0, 0, 0.15);\n",
              "      filter: drop-shadow(0px 1px 2px rgba(0, 0, 0, 0.3));\n",
              "      fill: #FFFFFF;\n",
              "    }\n",
              "  </style>\n",
              "\n",
              "    <script>\n",
              "      const buttonEl =\n",
              "        document.querySelector('#df-e27f6746-93df-410b-ac2a-3ec70a06153b button.colab-df-convert');\n",
              "      buttonEl.style.display =\n",
              "        google.colab.kernel.accessAllowed ? 'block' : 'none';\n",
              "\n",
              "      async function convertToInteractive(key) {\n",
              "        const element = document.querySelector('#df-e27f6746-93df-410b-ac2a-3ec70a06153b');\n",
              "        const dataTable =\n",
              "          await google.colab.kernel.invokeFunction('convertToInteractive',\n",
              "                                                    [key], {});\n",
              "        if (!dataTable) return;\n",
              "\n",
              "        const docLinkHtml = 'Like what you see? Visit the ' +\n",
              "          '<a target=\"_blank\" href=https://colab.research.google.com/notebooks/data_table.ipynb>data table notebook</a>'\n",
              "          + ' to learn more about interactive tables.';\n",
              "        element.innerHTML = '';\n",
              "        dataTable['output_type'] = 'display_data';\n",
              "        await google.colab.output.renderOutput(dataTable, element);\n",
              "        const docLink = document.createElement('div');\n",
              "        docLink.innerHTML = docLinkHtml;\n",
              "        element.appendChild(docLink);\n",
              "      }\n",
              "    </script>\n",
              "  </div>\n",
              "\n",
              "\n",
              "<div id=\"df-714e449e-2fc9-423e-a478-4a8904fe8780\">\n",
              "  <button class=\"colab-df-quickchart\" onclick=\"quickchart('df-714e449e-2fc9-423e-a478-4a8904fe8780')\"\n",
              "            title=\"Suggest charts\"\n",
              "            style=\"display:none;\">\n",
              "\n",
              "<svg xmlns=\"http://www.w3.org/2000/svg\" height=\"24px\"viewBox=\"0 0 24 24\"\n",
              "     width=\"24px\">\n",
              "    <g>\n",
              "        <path d=\"M19 3H5c-1.1 0-2 .9-2 2v14c0 1.1.9 2 2 2h14c1.1 0 2-.9 2-2V5c0-1.1-.9-2-2-2zM9 17H7v-7h2v7zm4 0h-2V7h2v10zm4 0h-2v-4h2v4z\"/>\n",
              "    </g>\n",
              "</svg>\n",
              "  </button>\n",
              "\n",
              "<style>\n",
              "  .colab-df-quickchart {\n",
              "      --bg-color: #E8F0FE;\n",
              "      --fill-color: #1967D2;\n",
              "      --hover-bg-color: #E2EBFA;\n",
              "      --hover-fill-color: #174EA6;\n",
              "      --disabled-fill-color: #AAA;\n",
              "      --disabled-bg-color: #DDD;\n",
              "  }\n",
              "\n",
              "  [theme=dark] .colab-df-quickchart {\n",
              "      --bg-color: #3B4455;\n",
              "      --fill-color: #D2E3FC;\n",
              "      --hover-bg-color: #434B5C;\n",
              "      --hover-fill-color: #FFFFFF;\n",
              "      --disabled-bg-color: #3B4455;\n",
              "      --disabled-fill-color: #666;\n",
              "  }\n",
              "\n",
              "  .colab-df-quickchart {\n",
              "    background-color: var(--bg-color);\n",
              "    border: none;\n",
              "    border-radius: 50%;\n",
              "    cursor: pointer;\n",
              "    display: none;\n",
              "    fill: var(--fill-color);\n",
              "    height: 32px;\n",
              "    padding: 0;\n",
              "    width: 32px;\n",
              "  }\n",
              "\n",
              "  .colab-df-quickchart:hover {\n",
              "    background-color: var(--hover-bg-color);\n",
              "    box-shadow: 0 1px 2px rgba(60, 64, 67, 0.3), 0 1px 3px 1px rgba(60, 64, 67, 0.15);\n",
              "    fill: var(--button-hover-fill-color);\n",
              "  }\n",
              "\n",
              "  .colab-df-quickchart-complete:disabled,\n",
              "  .colab-df-quickchart-complete:disabled:hover {\n",
              "    background-color: var(--disabled-bg-color);\n",
              "    fill: var(--disabled-fill-color);\n",
              "    box-shadow: none;\n",
              "  }\n",
              "\n",
              "  .colab-df-spinner {\n",
              "    border: 2px solid var(--fill-color);\n",
              "    border-color: transparent;\n",
              "    border-bottom-color: var(--fill-color);\n",
              "    animation:\n",
              "      spin 1s steps(1) infinite;\n",
              "  }\n",
              "\n",
              "  @keyframes spin {\n",
              "    0% {\n",
              "      border-color: transparent;\n",
              "      border-bottom-color: var(--fill-color);\n",
              "      border-left-color: var(--fill-color);\n",
              "    }\n",
              "    20% {\n",
              "      border-color: transparent;\n",
              "      border-left-color: var(--fill-color);\n",
              "      border-top-color: var(--fill-color);\n",
              "    }\n",
              "    30% {\n",
              "      border-color: transparent;\n",
              "      border-left-color: var(--fill-color);\n",
              "      border-top-color: var(--fill-color);\n",
              "      border-right-color: var(--fill-color);\n",
              "    }\n",
              "    40% {\n",
              "      border-color: transparent;\n",
              "      border-right-color: var(--fill-color);\n",
              "      border-top-color: var(--fill-color);\n",
              "    }\n",
              "    60% {\n",
              "      border-color: transparent;\n",
              "      border-right-color: var(--fill-color);\n",
              "    }\n",
              "    80% {\n",
              "      border-color: transparent;\n",
              "      border-right-color: var(--fill-color);\n",
              "      border-bottom-color: var(--fill-color);\n",
              "    }\n",
              "    90% {\n",
              "      border-color: transparent;\n",
              "      border-bottom-color: var(--fill-color);\n",
              "    }\n",
              "  }\n",
              "</style>\n",
              "\n",
              "  <script>\n",
              "    async function quickchart(key) {\n",
              "      const quickchartButtonEl =\n",
              "        document.querySelector('#' + key + ' button');\n",
              "      quickchartButtonEl.disabled = true;  // To prevent multiple clicks.\n",
              "      quickchartButtonEl.classList.add('colab-df-spinner');\n",
              "      try {\n",
              "        const charts = await google.colab.kernel.invokeFunction(\n",
              "            'suggestCharts', [key], {});\n",
              "      } catch (error) {\n",
              "        console.error('Error during call to suggestCharts:', error);\n",
              "      }\n",
              "      quickchartButtonEl.classList.remove('colab-df-spinner');\n",
              "      quickchartButtonEl.classList.add('colab-df-quickchart-complete');\n",
              "    }\n",
              "    (() => {\n",
              "      let quickchartButtonEl =\n",
              "        document.querySelector('#df-714e449e-2fc9-423e-a478-4a8904fe8780 button');\n",
              "      quickchartButtonEl.style.display =\n",
              "        google.colab.kernel.accessAllowed ? 'block' : 'none';\n",
              "    })();\n",
              "  </script>\n",
              "</div>\n",
              "    </div>\n",
              "  </div>\n"
            ],
            "application/vnd.google.colaboratory.intrinsic+json": {
              "type": "dataframe",
              "variable_name": "frauddf"
            }
          },
          "metadata": {},
          "execution_count": 5
        }
      ]
    },
    {
      "cell_type": "code",
      "source": [
        "frauddf.columns"
      ],
      "metadata": {
        "id": "P2shKwNO9JQ7",
        "outputId": "883d5391-6481-40d6-deb0-186418fe8b3f",
        "colab": {
          "base_uri": "https://localhost:8080/"
        }
      },
      "id": "P2shKwNO9JQ7",
      "execution_count": 8,
      "outputs": [
        {
          "output_type": "execute_result",
          "data": {
            "text/plain": [
              "Index(['step', 'type', 'amount', 'nameOrig', 'oldbalanceOrg', 'newbalanceOrig',\n",
              "       'nameDest', 'oldbalanceDest', 'newbalanceDest', 'isFraud',\n",
              "       'isFlaggedFraud'],\n",
              "      dtype='object')"
            ]
          },
          "metadata": {},
          "execution_count": 8
        }
      ]
    },
    {
      "cell_type": "code",
      "source": [
        "frauddf['isFraud'].value_counts()"
      ],
      "metadata": {
        "id": "7GfTLAGZ9mC8",
        "outputId": "25a12b92-c153-4b33-8ea9-cf5e508d2ed3",
        "colab": {
          "base_uri": "https://localhost:8080/"
        }
      },
      "id": "7GfTLAGZ9mC8",
      "execution_count": 9,
      "outputs": [
        {
          "output_type": "execute_result",
          "data": {
            "text/plain": [
              "0    6354407\n",
              "1       8213\n",
              "Name: isFraud, dtype: int64"
            ]
          },
          "metadata": {},
          "execution_count": 9
        }
      ]
    },
    {
      "cell_type": "code",
      "source": [
        "print(f'Percentage of minority class: {(8213 / (8213 + 6354407)) * 100:.5f}%')"
      ],
      "metadata": {
        "id": "J0mbafEd99sF",
        "outputId": "b162f805-62c2-45a1-a095-b6c1bbabec88",
        "colab": {
          "base_uri": "https://localhost:8080/"
        }
      },
      "id": "J0mbafEd99sF",
      "execution_count": 22,
      "outputs": [
        {
          "output_type": "stream",
          "name": "stdout",
          "text": [
            "Percentage of minority class: 0.12908%\n"
          ]
        }
      ]
    },
    {
      "cell_type": "markdown",
      "id": "33df1cda",
      "metadata": {
        "id": "33df1cda"
      },
      "source": [
        "### **Model Calibration** (USE MODEL AND DATA FROM ASSIGNMENT 2)"
      ]
    },
    {
      "cell_type": "code",
      "execution_count": null,
      "id": "17170730",
      "metadata": {
        "id": "17170730"
      },
      "outputs": [],
      "source": [
        "#Please import the dataset for assignment 2 and implement the HistGradientBoosting Model again.\n",
        "#(The one you trained in part 3.1 of Assignment 2)"
      ]
    },
    {
      "cell_type": "markdown",
      "id": "68aaa855",
      "metadata": {
        "id": "68aaa855"
      },
      "source": [
        "**Estimate the brier score for the HistGradientBoosting model (trained with optimal hyperparameters from Q3.1 in Assignment 2) scored on the test dataset.**"
      ]
    },
    {
      "cell_type": "code",
      "execution_count": null,
      "id": "2fa90eb6",
      "metadata": {
        "id": "2fa90eb6"
      },
      "outputs": [],
      "source": [
        "# Your Code Here"
      ]
    },
    {
      "cell_type": "markdown",
      "id": "d0457124",
      "metadata": {
        "id": "d0457124"
      },
      "source": [
        "**Calibrate the trained HistGradientBoosting model using Platt Scaling. Print the brier score after calibration and plot predicted v.s. actual on test datasets from the calibration method.**"
      ]
    },
    {
      "cell_type": "code",
      "execution_count": null,
      "id": "bf36ddcb",
      "metadata": {
        "id": "bf36ddcb"
      },
      "outputs": [],
      "source": [
        "#Your Code Here"
      ]
    },
    {
      "cell_type": "markdown",
      "id": "4b4e0f2f",
      "metadata": {
        "id": "4b4e0f2f"
      },
      "source": [
        "**Compare the brier scores from the previous two cells above.  Do the calibration methods help in having better predicted probabilities?**"
      ]
    },
    {
      "cell_type": "code",
      "execution_count": null,
      "id": "cd1cfc97",
      "metadata": {
        "id": "cd1cfc97"
      },
      "outputs": [],
      "source": [
        "#Your Code Here"
      ]
    },
    {
      "cell_type": "markdown",
      "id": "8ccf1c7a",
      "metadata": {
        "id": "8ccf1c7a"
      },
      "source": [
        "### **Data Exploration & Cleaning**\n",
        "\n",
        "- The dataset has been downloaded from Kaggle. You are encouraged to check this [link](https://www.kaggle.com/datasets/jainilcoder/online-payment-fraud-detection) to learn more about the dataset you are going to work with.<br> <br>\n",
        "\n",
        "- _OPTIONAL_ : By now, you should be comfortable with data cleaning. Employ all necessary techniques you feel would help improve your dataset. This includes handling missing values, outliers, datatype discrepancies, etc. Other 'preprocessing' techniques have been included later in the assignment. This part is just about cleaning your dataset (data-munging) and will not be graded."
      ]
    },
    {
      "cell_type": "code",
      "execution_count": null,
      "id": "47eefe69",
      "metadata": {
        "id": "47eefe69"
      },
      "outputs": [],
      "source": [
        "#import the dataset"
      ]
    },
    {
      "cell_type": "code",
      "execution_count": null,
      "id": "523035c3",
      "metadata": {
        "id": "523035c3"
      },
      "outputs": [],
      "source": [
        "#Your code here"
      ]
    },
    {
      "cell_type": "markdown",
      "id": "59a5505a",
      "metadata": {
        "id": "59a5505a"
      },
      "source": [
        "### **1. Examining Class Imbalance.**\n",
        "\n",
        "a. Identify the correct target column. A single line comment for the answer is sufficient.</br>\n",
        "b. Examine the class imbalance in the target column. What is its class distribution? Show this information visually using an appropriate scale. </br>\n",
        "c. What is the degree of imbalance? (Mild/Moderate/Extreme)"
      ]
    },
    {
      "cell_type": "code",
      "execution_count": null,
      "id": "a926e845",
      "metadata": {
        "id": "a926e845"
      },
      "outputs": [],
      "source": [
        "#Your code here"
      ]
    },
    {
      "cell_type": "code",
      "execution_count": null,
      "id": "2aecebef",
      "metadata": {
        "id": "2aecebef"
      },
      "outputs": [],
      "source": [
        "#Your code here"
      ]
    },
    {
      "cell_type": "code",
      "execution_count": null,
      "id": "e78a65d5",
      "metadata": {
        "id": "e78a65d5"
      },
      "outputs": [],
      "source": [
        "#Your code here"
      ]
    },
    {
      "cell_type": "markdown",
      "id": "d7691793",
      "metadata": {
        "id": "d7691793"
      },
      "source": [
        "### **2. Pre-processing**\n",
        "\n",
        "a. Encode categorical columns, and scale numerical columns. Drop irrelevant features (if any). </br>\n",
        "b. How did you make this decision about whom to drop? Since there are only 10 features (other than the target column), should we consider including them all? </br>\n",
        "c. Split the dataset into development and test sets. What splitting methodology did you choose, and why? </br>\n",
        "d. Print the shape of the development and test set."
      ]
    },
    {
      "cell_type": "code",
      "execution_count": null,
      "id": "8e167e4c",
      "metadata": {
        "id": "8e167e4c"
      },
      "outputs": [],
      "source": [
        "#Your code here"
      ]
    },
    {
      "cell_type": "code",
      "execution_count": null,
      "id": "6d33d165",
      "metadata": {
        "id": "6d33d165"
      },
      "outputs": [],
      "source": [
        "#Your code here"
      ]
    },
    {
      "cell_type": "code",
      "execution_count": null,
      "id": "6734bb47",
      "metadata": {
        "id": "6734bb47"
      },
      "outputs": [],
      "source": [
        "#Your code here"
      ]
    },
    {
      "cell_type": "code",
      "execution_count": null,
      "id": "22b9a44c",
      "metadata": {
        "id": "22b9a44c"
      },
      "outputs": [],
      "source": [
        "#Your code here"
      ]
    },
    {
      "cell_type": "markdown",
      "id": "c6979767",
      "metadata": {
        "id": "c6979767"
      },
      "source": [
        "### 3.1 Default Dataset\n",
        "Use the Decision tree classifier (use max_depth=10 and random_state=42) model and print the AUC and Average Precision values of 5 Fold Cross Validation </br>"
      ]
    },
    {
      "cell_type": "code",
      "execution_count": null,
      "id": "1f915982",
      "metadata": {
        "id": "1f915982"
      },
      "outputs": [],
      "source": [
        "#Your Code Here"
      ]
    },
    {
      "cell_type": "markdown",
      "id": "95d77c48",
      "metadata": {
        "id": "95d77c48"
      },
      "source": [
        "### 3.2 Balanced Weight\n",
        "\n",
        "a. Here, we are going to use a 'balanced' decision tree clasifier on the same dataset. Use max_depth=10 and random_state=42, and then print the AUC and Average Precision values of 5 Fold Cross Validation."
      ]
    },
    {
      "cell_type": "code",
      "execution_count": null,
      "id": "1f65ec07",
      "metadata": {
        "id": "1f65ec07"
      },
      "outputs": [],
      "source": [
        "#Your Code Here"
      ]
    },
    {
      "cell_type": "markdown",
      "id": "525c1030",
      "metadata": {
        "id": "525c1030"
      },
      "source": [
        "### 3.3 Random Oversampling**\n",
        "\n",
        "a. Perform random oversampling on the development dataset. (Please set random state to 42 while doing this).\n",
        "Examine the target column again. What is its class distribution now? Print the shape of the development set. </br>\n",
        "\n",
        "b. Repear part 3.1 again. Use the Decision tree classifier (use max_depth=10 and random_state=42) model and print the AUC and Average Precision values of 5 Fold Cross Validation"
      ]
    },
    {
      "cell_type": "code",
      "execution_count": null,
      "id": "53f2d3c5",
      "metadata": {
        "id": "53f2d3c5"
      },
      "outputs": [],
      "source": [
        "#Your Code Here"
      ]
    },
    {
      "cell_type": "code",
      "execution_count": null,
      "id": "7213b160",
      "metadata": {
        "id": "7213b160"
      },
      "outputs": [],
      "source": [
        "#Your Code Here"
      ]
    },
    {
      "cell_type": "markdown",
      "id": "e6a7d514",
      "metadata": {
        "id": "e6a7d514"
      },
      "source": [
        "### 3.4 Random Undersampling\n",
        "\n",
        "a. Perform random undersampling on the development dataset. (Please set random state to 42 while doing this).\n",
        "Examine the target column again. What is its class distribution now? Print the shape of the development set. </br>\n",
        "\n",
        "b. Repear part 3.1 again. Use the Decision tree classifier (use max_depth=10 and random_state=42) model and print the AUC and Average Precision values of 5 Fold Cross Validation"
      ]
    },
    {
      "cell_type": "code",
      "execution_count": null,
      "id": "6615a672",
      "metadata": {
        "id": "6615a672"
      },
      "outputs": [],
      "source": [
        "#Your Code Here"
      ]
    },
    {
      "cell_type": "code",
      "execution_count": null,
      "id": "ccbdd66e",
      "metadata": {
        "id": "ccbdd66e"
      },
      "outputs": [],
      "source": [
        "#Your Code Here"
      ]
    },
    {
      "cell_type": "markdown",
      "id": "cf37c9ff",
      "metadata": {
        "id": "cf37c9ff"
      },
      "source": [
        "### 3.5 SMOTE\n",
        "\n",
        "a. Perform Synthetic Minority Oversampling Technique (SMOTE) on the development dataset. (Please set random state to 42 while doing this). Examine the target column again. What is its class distribution now? Print the shape of the development set. </br>\n",
        "\n",
        "b. Repear part 3.1 again. Use the Decision tree classifier (use max_depth=10 and random_state=42) model and print the AUC and Average Precision values of 5 Fold Cross Validation"
      ]
    },
    {
      "cell_type": "code",
      "execution_count": null,
      "id": "7ae99e64",
      "metadata": {
        "id": "7ae99e64"
      },
      "outputs": [],
      "source": [
        "#Your Code Here"
      ]
    },
    {
      "cell_type": "code",
      "execution_count": null,
      "id": "b9a67c9b",
      "metadata": {
        "id": "b9a67c9b"
      },
      "outputs": [],
      "source": [
        "#Your Code Here"
      ]
    },
    {
      "cell_type": "markdown",
      "id": "6703c46b",
      "metadata": {
        "id": "6703c46b"
      },
      "source": [
        "### 3.6 Visual Comparison\n",
        "\n",
        "Prepare a plot comparing the class distribtion of the target column for each of the imbalance techiques used above. Use the default class split as well."
      ]
    },
    {
      "cell_type": "code",
      "execution_count": null,
      "id": "96671c48",
      "metadata": {
        "id": "96671c48"
      },
      "outputs": [],
      "source": [
        "#Your Code Here"
      ]
    },
    {
      "cell_type": "markdown",
      "id": "687e21b6",
      "metadata": {
        "id": "687e21b6"
      },
      "source": [
        "### **4: Model Prediction & Evaluation - AUC Scores**\n",
        "4.1 Make predictions on the test set using the five models that you built and report their AUC values<br>\n",
        "(Five models include models from - Default Baseline, Random Undersampling, Random Oversampling, SMOTE & Balanced Weight). Did the models with high AUC scores on the development set exhibit similar performance on the test set? Explain."
      ]
    },
    {
      "cell_type": "code",
      "execution_count": null,
      "id": "86616c9a",
      "metadata": {
        "id": "86616c9a"
      },
      "outputs": [],
      "source": [
        "#Your Code Here"
      ]
    },
    {
      "cell_type": "markdown",
      "id": "83ca05a9",
      "metadata": {
        "id": "83ca05a9"
      },
      "source": [
        "### **4: Model Prediction & Evaluation - Confusion Matrix**\n",
        "4.2a.Plot Confusion Matrices for all the five models on the test set. Comment on your results and share in detail. Consider precision, recall and f1 scores. <br>\n",
        "4.2b. For the dataset at hand, which evaluation metric matters most according to you?"
      ]
    },
    {
      "cell_type": "code",
      "execution_count": null,
      "id": "e80f5f11",
      "metadata": {
        "id": "e80f5f11"
      },
      "outputs": [],
      "source": [
        "#Your Code Here"
      ]
    },
    {
      "cell_type": "code",
      "execution_count": null,
      "id": "b71968da",
      "metadata": {
        "id": "b71968da"
      },
      "outputs": [],
      "source": [
        "#Your Code Here"
      ]
    },
    {
      "cell_type": "markdown",
      "id": "1e6c8c23",
      "metadata": {
        "id": "1e6c8c23"
      },
      "source": [
        "### **4: Model Prediction & Evaluation - ROC Curves**\n",
        "\n",
        "4.3 Plot ROC for all the five models on the test set in a single plot. Recomment which technique is most appropriate and why."
      ]
    },
    {
      "cell_type": "code",
      "execution_count": null,
      "id": "21f01554",
      "metadata": {
        "id": "21f01554"
      },
      "outputs": [],
      "source": [
        "#Your Code Here"
      ]
    }
  ],
  "metadata": {
    "kernelspec": {
      "display_name": "Python 3 (ipykernel)",
      "language": "python",
      "name": "python3"
    },
    "language_info": {
      "codemirror_mode": {
        "name": "ipython",
        "version": 3
      },
      "file_extension": ".py",
      "mimetype": "text/x-python",
      "name": "python",
      "nbconvert_exporter": "python",
      "pygments_lexer": "ipython3",
      "version": "3.11.4"
    },
    "colab": {
      "provenance": [],
      "toc_visible": true
    }
  },
  "nbformat": 4,
  "nbformat_minor": 5
}