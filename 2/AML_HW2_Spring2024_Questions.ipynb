{
  "cells": [
    {
      "cell_type": "markdown",
      "metadata": {
        "id": "PmmINRw92NZ7"
      },
      "source": [
        "## Homework 2: Trees and Calibration\n",
        "### Instructions:\n",
        "Please upload the .ipynb, .pdf to Github prior to the deadline. Please include your UNI as well.\n",
        "\n",
        "Make sure to use the dataset that we provide in CourseWorks/Classroom.\n",
        "\n",
        "There are a lot of applied questions based on the code results. Please make sure to answer them all. These are primarily to test your understanding of the results your code generate (similar to any Data Science/ML case study interviews)."
      ]
    },
    {
      "cell_type": "markdown",
      "metadata": {
        "id": "Paj_32xL2fBV"
      },
      "source": [
        "## Name:  Apurva Patel\n",
        "\n",
        "## UNI: amp2365"
      ]
    },
    {
      "cell_type": "markdown",
      "metadata": {
        "id": "8F3SYLuF2zk6"
      },
      "source": [
        "## The Dataset\n",
        "\n",
        "\n",
        "### Description\n",
        "\n",
        "The Diabetes Dataset comprises medical data from 768 female patients of Pima Indian heritage, including 8 health-related features and a binary target indicating the presence or absence of diabetes.\n"
      ]
    },
    {
      "cell_type": "code",
      "execution_count": 9,
      "metadata": {
        "id": "K4qKRFeR4x9t"
      },
      "outputs": [],
      "source": [
        "import warnings\n",
        "warnings.filterwarnings(\"ignore\")\n",
        "\n",
        "import numpy as np\n",
        "import pandas as pd\n",
        "import matplotlib.pyplot as plt\n",
        "import seaborn as sns\n",
        "from sklearn.model_selection import train_test_split\n",
        "from sklearn.preprocessing import StandardScaler, MinMaxScaler\n",
        "from sklearn.preprocessing import OrdinalEncoder"
      ]
    },
    {
      "cell_type": "code",
      "source": [
        "from sklearn.tree import DecisionTreeClassifier, plot_tree\n",
        "from sklearn.metrics import accuracy_score\n",
        "from sklearn.pipeline import make_pipeline, Pipeline, FeatureUnion"
      ],
      "metadata": {
        "id": "DezWRKS3DkBY"
      },
      "execution_count": 10,
      "outputs": []
    },
    {
      "cell_type": "markdown",
      "metadata": {
        "id": "9gNer0Ey5ERR"
      },
      "source": [
        "## Question 1: Decision Trees"
      ]
    },
    {
      "cell_type": "markdown",
      "metadata": {
        "id": "spGKpLA65Isu"
      },
      "source": [
        "**1.1: Load the provided dataset**"
      ]
    },
    {
      "cell_type": "code",
      "source": [
        "# url = 'https://raw.githubusercontent.com/Apurva3509/Applied-Machine-Learning/main/2/diabetes.csv?token=GHSAT0AAAAAACNAARHPWYJBTLOL4RDUZJJYZO2KQMQ'\n",
        "# df1 = pd.read_csv(url)"
      ],
      "metadata": {
        "id": "TIIIKt3wTB4H"
      },
      "execution_count": 11,
      "outputs": []
    },
    {
      "cell_type": "code",
      "source": [
        "df1 = pd.read_csv('/content/diabetes.csv')"
      ],
      "metadata": {
        "id": "B-cYCnq_j84Q"
      },
      "execution_count": 12,
      "outputs": []
    },
    {
      "cell_type": "code",
      "source": [
        "df1"
      ],
      "metadata": {
        "id": "QFG6s448TZbK",
        "outputId": "24a589c5-ab4f-4590-9947-4ec114369b3e",
        "colab": {
          "base_uri": "https://localhost:8080/",
          "height": 424
        }
      },
      "execution_count": 13,
      "outputs": [
        {
          "output_type": "execute_result",
          "data": {
            "text/plain": [
              "     Pregnancies  Glucose  BloodPressure  SkinThickness  Insulin   BMI  \\\n",
              "0              6      148             72             35        0  33.6   \n",
              "1              1       85             66             29        0  26.6   \n",
              "2              8      183             64              0        0  23.3   \n",
              "3              1       89             66             23       94  28.1   \n",
              "4              0      137             40             35      168  43.1   \n",
              "..           ...      ...            ...            ...      ...   ...   \n",
              "763           10      101             76             48      180  32.9   \n",
              "764            2      122             70             27        0  36.8   \n",
              "765            5      121             72             23      112  26.2   \n",
              "766            1      126             60              0        0  30.1   \n",
              "767            1       93             70             31        0  30.4   \n",
              "\n",
              "     DiabetesPedigreeFunction  Age  Outcome  \n",
              "0                       0.627   50        1  \n",
              "1                       0.351   31        0  \n",
              "2                       0.672   32        1  \n",
              "3                       0.167   21        0  \n",
              "4                       2.288   33        1  \n",
              "..                        ...  ...      ...  \n",
              "763                     0.171   63        0  \n",
              "764                     0.340   27        0  \n",
              "765                     0.245   30        0  \n",
              "766                     0.349   47        1  \n",
              "767                     0.315   23        0  \n",
              "\n",
              "[768 rows x 9 columns]"
            ],
            "text/html": [
              "\n",
              "  <div id=\"df-3797892f-0910-4c51-95cb-83adf2f92cd1\" class=\"colab-df-container\">\n",
              "    <div>\n",
              "<style scoped>\n",
              "    .dataframe tbody tr th:only-of-type {\n",
              "        vertical-align: middle;\n",
              "    }\n",
              "\n",
              "    .dataframe tbody tr th {\n",
              "        vertical-align: top;\n",
              "    }\n",
              "\n",
              "    .dataframe thead th {\n",
              "        text-align: right;\n",
              "    }\n",
              "</style>\n",
              "<table border=\"1\" class=\"dataframe\">\n",
              "  <thead>\n",
              "    <tr style=\"text-align: right;\">\n",
              "      <th></th>\n",
              "      <th>Pregnancies</th>\n",
              "      <th>Glucose</th>\n",
              "      <th>BloodPressure</th>\n",
              "      <th>SkinThickness</th>\n",
              "      <th>Insulin</th>\n",
              "      <th>BMI</th>\n",
              "      <th>DiabetesPedigreeFunction</th>\n",
              "      <th>Age</th>\n",
              "      <th>Outcome</th>\n",
              "    </tr>\n",
              "  </thead>\n",
              "  <tbody>\n",
              "    <tr>\n",
              "      <th>0</th>\n",
              "      <td>6</td>\n",
              "      <td>148</td>\n",
              "      <td>72</td>\n",
              "      <td>35</td>\n",
              "      <td>0</td>\n",
              "      <td>33.6</td>\n",
              "      <td>0.627</td>\n",
              "      <td>50</td>\n",
              "      <td>1</td>\n",
              "    </tr>\n",
              "    <tr>\n",
              "      <th>1</th>\n",
              "      <td>1</td>\n",
              "      <td>85</td>\n",
              "      <td>66</td>\n",
              "      <td>29</td>\n",
              "      <td>0</td>\n",
              "      <td>26.6</td>\n",
              "      <td>0.351</td>\n",
              "      <td>31</td>\n",
              "      <td>0</td>\n",
              "    </tr>\n",
              "    <tr>\n",
              "      <th>2</th>\n",
              "      <td>8</td>\n",
              "      <td>183</td>\n",
              "      <td>64</td>\n",
              "      <td>0</td>\n",
              "      <td>0</td>\n",
              "      <td>23.3</td>\n",
              "      <td>0.672</td>\n",
              "      <td>32</td>\n",
              "      <td>1</td>\n",
              "    </tr>\n",
              "    <tr>\n",
              "      <th>3</th>\n",
              "      <td>1</td>\n",
              "      <td>89</td>\n",
              "      <td>66</td>\n",
              "      <td>23</td>\n",
              "      <td>94</td>\n",
              "      <td>28.1</td>\n",
              "      <td>0.167</td>\n",
              "      <td>21</td>\n",
              "      <td>0</td>\n",
              "    </tr>\n",
              "    <tr>\n",
              "      <th>4</th>\n",
              "      <td>0</td>\n",
              "      <td>137</td>\n",
              "      <td>40</td>\n",
              "      <td>35</td>\n",
              "      <td>168</td>\n",
              "      <td>43.1</td>\n",
              "      <td>2.288</td>\n",
              "      <td>33</td>\n",
              "      <td>1</td>\n",
              "    </tr>\n",
              "    <tr>\n",
              "      <th>...</th>\n",
              "      <td>...</td>\n",
              "      <td>...</td>\n",
              "      <td>...</td>\n",
              "      <td>...</td>\n",
              "      <td>...</td>\n",
              "      <td>...</td>\n",
              "      <td>...</td>\n",
              "      <td>...</td>\n",
              "      <td>...</td>\n",
              "    </tr>\n",
              "    <tr>\n",
              "      <th>763</th>\n",
              "      <td>10</td>\n",
              "      <td>101</td>\n",
              "      <td>76</td>\n",
              "      <td>48</td>\n",
              "      <td>180</td>\n",
              "      <td>32.9</td>\n",
              "      <td>0.171</td>\n",
              "      <td>63</td>\n",
              "      <td>0</td>\n",
              "    </tr>\n",
              "    <tr>\n",
              "      <th>764</th>\n",
              "      <td>2</td>\n",
              "      <td>122</td>\n",
              "      <td>70</td>\n",
              "      <td>27</td>\n",
              "      <td>0</td>\n",
              "      <td>36.8</td>\n",
              "      <td>0.340</td>\n",
              "      <td>27</td>\n",
              "      <td>0</td>\n",
              "    </tr>\n",
              "    <tr>\n",
              "      <th>765</th>\n",
              "      <td>5</td>\n",
              "      <td>121</td>\n",
              "      <td>72</td>\n",
              "      <td>23</td>\n",
              "      <td>112</td>\n",
              "      <td>26.2</td>\n",
              "      <td>0.245</td>\n",
              "      <td>30</td>\n",
              "      <td>0</td>\n",
              "    </tr>\n",
              "    <tr>\n",
              "      <th>766</th>\n",
              "      <td>1</td>\n",
              "      <td>126</td>\n",
              "      <td>60</td>\n",
              "      <td>0</td>\n",
              "      <td>0</td>\n",
              "      <td>30.1</td>\n",
              "      <td>0.349</td>\n",
              "      <td>47</td>\n",
              "      <td>1</td>\n",
              "    </tr>\n",
              "    <tr>\n",
              "      <th>767</th>\n",
              "      <td>1</td>\n",
              "      <td>93</td>\n",
              "      <td>70</td>\n",
              "      <td>31</td>\n",
              "      <td>0</td>\n",
              "      <td>30.4</td>\n",
              "      <td>0.315</td>\n",
              "      <td>23</td>\n",
              "      <td>0</td>\n",
              "    </tr>\n",
              "  </tbody>\n",
              "</table>\n",
              "<p>768 rows × 9 columns</p>\n",
              "</div>\n",
              "    <div class=\"colab-df-buttons\">\n",
              "\n",
              "  <div class=\"colab-df-container\">\n",
              "    <button class=\"colab-df-convert\" onclick=\"convertToInteractive('df-3797892f-0910-4c51-95cb-83adf2f92cd1')\"\n",
              "            title=\"Convert this dataframe to an interactive table.\"\n",
              "            style=\"display:none;\">\n",
              "\n",
              "  <svg xmlns=\"http://www.w3.org/2000/svg\" height=\"24px\" viewBox=\"0 -960 960 960\">\n",
              "    <path d=\"M120-120v-720h720v720H120Zm60-500h600v-160H180v160Zm220 220h160v-160H400v160Zm0 220h160v-160H400v160ZM180-400h160v-160H180v160Zm440 0h160v-160H620v160ZM180-180h160v-160H180v160Zm440 0h160v-160H620v160Z\"/>\n",
              "  </svg>\n",
              "    </button>\n",
              "\n",
              "  <style>\n",
              "    .colab-df-container {\n",
              "      display:flex;\n",
              "      gap: 12px;\n",
              "    }\n",
              "\n",
              "    .colab-df-convert {\n",
              "      background-color: #E8F0FE;\n",
              "      border: none;\n",
              "      border-radius: 50%;\n",
              "      cursor: pointer;\n",
              "      display: none;\n",
              "      fill: #1967D2;\n",
              "      height: 32px;\n",
              "      padding: 0 0 0 0;\n",
              "      width: 32px;\n",
              "    }\n",
              "\n",
              "    .colab-df-convert:hover {\n",
              "      background-color: #E2EBFA;\n",
              "      box-shadow: 0px 1px 2px rgba(60, 64, 67, 0.3), 0px 1px 3px 1px rgba(60, 64, 67, 0.15);\n",
              "      fill: #174EA6;\n",
              "    }\n",
              "\n",
              "    .colab-df-buttons div {\n",
              "      margin-bottom: 4px;\n",
              "    }\n",
              "\n",
              "    [theme=dark] .colab-df-convert {\n",
              "      background-color: #3B4455;\n",
              "      fill: #D2E3FC;\n",
              "    }\n",
              "\n",
              "    [theme=dark] .colab-df-convert:hover {\n",
              "      background-color: #434B5C;\n",
              "      box-shadow: 0px 1px 3px 1px rgba(0, 0, 0, 0.15);\n",
              "      filter: drop-shadow(0px 1px 2px rgba(0, 0, 0, 0.3));\n",
              "      fill: #FFFFFF;\n",
              "    }\n",
              "  </style>\n",
              "\n",
              "    <script>\n",
              "      const buttonEl =\n",
              "        document.querySelector('#df-3797892f-0910-4c51-95cb-83adf2f92cd1 button.colab-df-convert');\n",
              "      buttonEl.style.display =\n",
              "        google.colab.kernel.accessAllowed ? 'block' : 'none';\n",
              "\n",
              "      async function convertToInteractive(key) {\n",
              "        const element = document.querySelector('#df-3797892f-0910-4c51-95cb-83adf2f92cd1');\n",
              "        const dataTable =\n",
              "          await google.colab.kernel.invokeFunction('convertToInteractive',\n",
              "                                                    [key], {});\n",
              "        if (!dataTable) return;\n",
              "\n",
              "        const docLinkHtml = 'Like what you see? Visit the ' +\n",
              "          '<a target=\"_blank\" href=https://colab.research.google.com/notebooks/data_table.ipynb>data table notebook</a>'\n",
              "          + ' to learn more about interactive tables.';\n",
              "        element.innerHTML = '';\n",
              "        dataTable['output_type'] = 'display_data';\n",
              "        await google.colab.output.renderOutput(dataTable, element);\n",
              "        const docLink = document.createElement('div');\n",
              "        docLink.innerHTML = docLinkHtml;\n",
              "        element.appendChild(docLink);\n",
              "      }\n",
              "    </script>\n",
              "  </div>\n",
              "\n",
              "\n",
              "<div id=\"df-35f3e248-2238-4679-a4e7-d62c3624e881\">\n",
              "  <button class=\"colab-df-quickchart\" onclick=\"quickchart('df-35f3e248-2238-4679-a4e7-d62c3624e881')\"\n",
              "            title=\"Suggest charts\"\n",
              "            style=\"display:none;\">\n",
              "\n",
              "<svg xmlns=\"http://www.w3.org/2000/svg\" height=\"24px\"viewBox=\"0 0 24 24\"\n",
              "     width=\"24px\">\n",
              "    <g>\n",
              "        <path d=\"M19 3H5c-1.1 0-2 .9-2 2v14c0 1.1.9 2 2 2h14c1.1 0 2-.9 2-2V5c0-1.1-.9-2-2-2zM9 17H7v-7h2v7zm4 0h-2V7h2v10zm4 0h-2v-4h2v4z\"/>\n",
              "    </g>\n",
              "</svg>\n",
              "  </button>\n",
              "\n",
              "<style>\n",
              "  .colab-df-quickchart {\n",
              "      --bg-color: #E8F0FE;\n",
              "      --fill-color: #1967D2;\n",
              "      --hover-bg-color: #E2EBFA;\n",
              "      --hover-fill-color: #174EA6;\n",
              "      --disabled-fill-color: #AAA;\n",
              "      --disabled-bg-color: #DDD;\n",
              "  }\n",
              "\n",
              "  [theme=dark] .colab-df-quickchart {\n",
              "      --bg-color: #3B4455;\n",
              "      --fill-color: #D2E3FC;\n",
              "      --hover-bg-color: #434B5C;\n",
              "      --hover-fill-color: #FFFFFF;\n",
              "      --disabled-bg-color: #3B4455;\n",
              "      --disabled-fill-color: #666;\n",
              "  }\n",
              "\n",
              "  .colab-df-quickchart {\n",
              "    background-color: var(--bg-color);\n",
              "    border: none;\n",
              "    border-radius: 50%;\n",
              "    cursor: pointer;\n",
              "    display: none;\n",
              "    fill: var(--fill-color);\n",
              "    height: 32px;\n",
              "    padding: 0;\n",
              "    width: 32px;\n",
              "  }\n",
              "\n",
              "  .colab-df-quickchart:hover {\n",
              "    background-color: var(--hover-bg-color);\n",
              "    box-shadow: 0 1px 2px rgba(60, 64, 67, 0.3), 0 1px 3px 1px rgba(60, 64, 67, 0.15);\n",
              "    fill: var(--button-hover-fill-color);\n",
              "  }\n",
              "\n",
              "  .colab-df-quickchart-complete:disabled,\n",
              "  .colab-df-quickchart-complete:disabled:hover {\n",
              "    background-color: var(--disabled-bg-color);\n",
              "    fill: var(--disabled-fill-color);\n",
              "    box-shadow: none;\n",
              "  }\n",
              "\n",
              "  .colab-df-spinner {\n",
              "    border: 2px solid var(--fill-color);\n",
              "    border-color: transparent;\n",
              "    border-bottom-color: var(--fill-color);\n",
              "    animation:\n",
              "      spin 1s steps(1) infinite;\n",
              "  }\n",
              "\n",
              "  @keyframes spin {\n",
              "    0% {\n",
              "      border-color: transparent;\n",
              "      border-bottom-color: var(--fill-color);\n",
              "      border-left-color: var(--fill-color);\n",
              "    }\n",
              "    20% {\n",
              "      border-color: transparent;\n",
              "      border-left-color: var(--fill-color);\n",
              "      border-top-color: var(--fill-color);\n",
              "    }\n",
              "    30% {\n",
              "      border-color: transparent;\n",
              "      border-left-color: var(--fill-color);\n",
              "      border-top-color: var(--fill-color);\n",
              "      border-right-color: var(--fill-color);\n",
              "    }\n",
              "    40% {\n",
              "      border-color: transparent;\n",
              "      border-right-color: var(--fill-color);\n",
              "      border-top-color: var(--fill-color);\n",
              "    }\n",
              "    60% {\n",
              "      border-color: transparent;\n",
              "      border-right-color: var(--fill-color);\n",
              "    }\n",
              "    80% {\n",
              "      border-color: transparent;\n",
              "      border-right-color: var(--fill-color);\n",
              "      border-bottom-color: var(--fill-color);\n",
              "    }\n",
              "    90% {\n",
              "      border-color: transparent;\n",
              "      border-bottom-color: var(--fill-color);\n",
              "    }\n",
              "  }\n",
              "</style>\n",
              "\n",
              "  <script>\n",
              "    async function quickchart(key) {\n",
              "      const quickchartButtonEl =\n",
              "        document.querySelector('#' + key + ' button');\n",
              "      quickchartButtonEl.disabled = true;  // To prevent multiple clicks.\n",
              "      quickchartButtonEl.classList.add('colab-df-spinner');\n",
              "      try {\n",
              "        const charts = await google.colab.kernel.invokeFunction(\n",
              "            'suggestCharts', [key], {});\n",
              "      } catch (error) {\n",
              "        console.error('Error during call to suggestCharts:', error);\n",
              "      }\n",
              "      quickchartButtonEl.classList.remove('colab-df-spinner');\n",
              "      quickchartButtonEl.classList.add('colab-df-quickchart-complete');\n",
              "    }\n",
              "    (() => {\n",
              "      let quickchartButtonEl =\n",
              "        document.querySelector('#df-35f3e248-2238-4679-a4e7-d62c3624e881 button');\n",
              "      quickchartButtonEl.style.display =\n",
              "        google.colab.kernel.accessAllowed ? 'block' : 'none';\n",
              "    })();\n",
              "  </script>\n",
              "</div>\n",
              "    </div>\n",
              "  </div>\n"
            ],
            "application/vnd.google.colaboratory.intrinsic+json": {
              "type": "dataframe",
              "variable_name": "df1",
              "summary": "{\n  \"name\": \"df1\",\n  \"rows\": 768,\n  \"fields\": [\n    {\n      \"column\": \"Pregnancies\",\n      \"properties\": {\n        \"dtype\": \"number\",\n        \"std\": 3,\n        \"min\": 0,\n        \"max\": 17,\n        \"num_unique_values\": 17,\n        \"samples\": [\n          6,\n          1,\n          3\n        ],\n        \"semantic_type\": \"\",\n        \"description\": \"\"\n      }\n    },\n    {\n      \"column\": \"Glucose\",\n      \"properties\": {\n        \"dtype\": \"number\",\n        \"std\": 31,\n        \"min\": 0,\n        \"max\": 199,\n        \"num_unique_values\": 136,\n        \"samples\": [\n          151,\n          101,\n          112\n        ],\n        \"semantic_type\": \"\",\n        \"description\": \"\"\n      }\n    },\n    {\n      \"column\": \"BloodPressure\",\n      \"properties\": {\n        \"dtype\": \"number\",\n        \"std\": 19,\n        \"min\": 0,\n        \"max\": 122,\n        \"num_unique_values\": 47,\n        \"samples\": [\n          86,\n          46,\n          85\n        ],\n        \"semantic_type\": \"\",\n        \"description\": \"\"\n      }\n    },\n    {\n      \"column\": \"SkinThickness\",\n      \"properties\": {\n        \"dtype\": \"number\",\n        \"std\": 15,\n        \"min\": 0,\n        \"max\": 99,\n        \"num_unique_values\": 51,\n        \"samples\": [\n          7,\n          12,\n          48\n        ],\n        \"semantic_type\": \"\",\n        \"description\": \"\"\n      }\n    },\n    {\n      \"column\": \"Insulin\",\n      \"properties\": {\n        \"dtype\": \"number\",\n        \"std\": 115,\n        \"min\": 0,\n        \"max\": 846,\n        \"num_unique_values\": 186,\n        \"samples\": [\n          52,\n          41,\n          183\n        ],\n        \"semantic_type\": \"\",\n        \"description\": \"\"\n      }\n    },\n    {\n      \"column\": \"BMI\",\n      \"properties\": {\n        \"dtype\": \"number\",\n        \"std\": 7.884160320375446,\n        \"min\": 0.0,\n        \"max\": 67.1,\n        \"num_unique_values\": 248,\n        \"samples\": [\n          19.9,\n          31.0,\n          38.1\n        ],\n        \"semantic_type\": \"\",\n        \"description\": \"\"\n      }\n    },\n    {\n      \"column\": \"DiabetesPedigreeFunction\",\n      \"properties\": {\n        \"dtype\": \"number\",\n        \"std\": 0.3313285950127749,\n        \"min\": 0.078,\n        \"max\": 2.42,\n        \"num_unique_values\": 517,\n        \"samples\": [\n          1.731,\n          0.426,\n          0.138\n        ],\n        \"semantic_type\": \"\",\n        \"description\": \"\"\n      }\n    },\n    {\n      \"column\": \"Age\",\n      \"properties\": {\n        \"dtype\": \"number\",\n        \"std\": 11,\n        \"min\": 21,\n        \"max\": 81,\n        \"num_unique_values\": 52,\n        \"samples\": [\n          60,\n          47,\n          72\n        ],\n        \"semantic_type\": \"\",\n        \"description\": \"\"\n      }\n    },\n    {\n      \"column\": \"Outcome\",\n      \"properties\": {\n        \"dtype\": \"number\",\n        \"std\": 0,\n        \"min\": 0,\n        \"max\": 1,\n        \"num_unique_values\": 2,\n        \"samples\": [\n          0,\n          1\n        ],\n        \"semantic_type\": \"\",\n        \"description\": \"\"\n      }\n    }\n  ]\n}"
            }
          },
          "metadata": {},
          "execution_count": 13
        }
      ]
    },
    {
      "cell_type": "markdown",
      "metadata": {
        "id": "fvwrl_RH5SAS"
      },
      "source": [
        "**1.2: How many instances are there in the dataset for each class (diabetic and non-diabetic patients)? What does this tell you about the balance of the dataset?**"
      ]
    },
    {
      "cell_type": "code",
      "source": [
        "df1['Outcome'].value_counts()"
      ],
      "metadata": {
        "id": "3LfCuS4Dt-Yc",
        "outputId": "1b205934-3d94-4604-93f9-5aeea48ff8e1",
        "colab": {
          "base_uri": "https://localhost:8080/"
        }
      },
      "execution_count": 14,
      "outputs": [
        {
          "output_type": "execute_result",
          "data": {
            "text/plain": [
              "0    500\n",
              "1    268\n",
              "Name: Outcome, dtype: int64"
            ]
          },
          "metadata": {},
          "execution_count": 14
        }
      ]
    },
    {
      "cell_type": "code",
      "execution_count": 15,
      "metadata": {
        "id": "M8mVUEW13LJt",
        "colab": {
          "base_uri": "https://localhost:8080/",
          "height": 388
        },
        "outputId": "08094814-11c3-44dc-d745-21392c094c2e"
      },
      "outputs": [
        {
          "output_type": "display_data",
          "data": {
            "text/plain": [
              "<Figure size 400x400 with 1 Axes>"
            ],
            "image/png": "[encoded data removed]"
          },
          "metadata": {}
        }
      ],
      "source": [
        "## YOUR CODE HERE\n",
        "fig, axes = plt.subplots(1, 1, figsize=(4, 4))\n",
        "sns.countplot(x=df1.Outcome, data=df1)\n",
        "plt.show()\n"
      ]
    },
    {
      "cell_type": "markdown",
      "source": [
        "- There are total 500 occurance of Non diabetic(0) patients and 268 for Diabetic(1).\n",
        "- The data set is clearly imbalanced where the count of Non-diabetic patients is more thant hat of diabetic patients."
      ],
      "metadata": {
        "id": "iFH363t-uPm_"
      }
    },
    {
      "cell_type": "markdown",
      "metadata": {
        "id": "Kivt__ZW5wIB"
      },
      "source": [
        "**1.3: Are there any missing values in the dataset? If so, how will you handle them?**"
      ]
    },
    {
      "cell_type": "code",
      "execution_count": 16,
      "metadata": {
        "id": "D9_Wqbtw5q5d",
        "colab": {
          "base_uri": "https://localhost:8080/"
        },
        "outputId": "c4d6342a-f26f-488c-81f0-60f2ff7f5f1b"
      },
      "outputs": [
        {
          "output_type": "stream",
          "name": "stdout",
          "text": [
            "Missing values in each column:\n",
            "Pregnancies                 0\n",
            "Glucose                     0\n",
            "BloodPressure               0\n",
            "SkinThickness               0\n",
            "Insulin                     0\n",
            "BMI                         0\n",
            "DiabetesPedigreeFunction    0\n",
            "Age                         0\n",
            "Outcome                     0\n",
            "dtype: int64\n"
          ]
        }
      ],
      "source": [
        "## YOUR CODE HERE\n",
        "missing_values = df1.isnull().sum()\n",
        "\n",
        "print(\"Missing values in each column:\")\n",
        "print(missing_values)"
      ]
    },
    {
      "cell_type": "markdown",
      "source": [
        "- No missing values"
      ],
      "metadata": {
        "id": "qgB85EYSu0AO"
      }
    },
    {
      "cell_type": "markdown",
      "metadata": {
        "id": "tde1cAL451-9"
      },
      "source": [
        "**1.4: Split the data into development and test datasets. Which splitting methodology did you choose and why?**\n",
        "\n",
        "**Hint: Based on the distribution of the data, try to use the best splitting strategy."
      ]
    },
    {
      "cell_type": "code",
      "source": [
        "vars = ['Pregnancies', 'Glucose', 'BloodPressure', 'SkinThickness', 'Insulin', 'BMI', 'DiabetesPedigreeFunction', 'Age']\n",
        "\n",
        "\n",
        "corr2 = df1[vars].corr()\n",
        "\n",
        "plt.figure(figsize=(10, 8))\n",
        "sns.heatmap(corr2, annot=True, cmap='cividis')\n",
        "# sns.heatmap(corr2, annot=True, cmap='RdBu')\n",
        "plt.title('Correlation Matrix')\n",
        "plt.show()"
      ],
      "metadata": {
        "id": "Keqcgjob3oq6",
        "outputId": "cb18f605-35d8-42d9-9ab0-ead1ded4e576",
        "colab": {
          "base_uri": "https://localhost:8080/",
          "height": 866
        }
      },
      "execution_count": 17,
      "outputs": [
        {
          "output_type": "display_data",
          "data": {
            "text/plain": [
              "<Figure size 1000x800 with 2 Axes>"
            ],
            "image/png": "[encoded data removed]"
          },
          "metadata": {}
        }
      ]
    },
    {
      "cell_type": "code",
      "source": [
        "df1"
      ],
      "metadata": {
        "id": "PPxLFGLQzaHD",
        "outputId": "187d9837-35e7-4516-e011-daa2dcac9c1b",
        "colab": {
          "base_uri": "https://localhost:8080/",
          "height": 424
        }
      },
      "execution_count": 18,
      "outputs": [
        {
          "output_type": "execute_result",
          "data": {
            "text/plain": [
              "     Pregnancies  Glucose  BloodPressure  SkinThickness  Insulin   BMI  \\\n",
              "0              6      148             72             35        0  33.6   \n",
              "1              1       85             66             29        0  26.6   \n",
              "2              8      183             64              0        0  23.3   \n",
              "3              1       89             66             23       94  28.1   \n",
              "4              0      137             40             35      168  43.1   \n",
              "..           ...      ...            ...            ...      ...   ...   \n",
              "763           10      101             76             48      180  32.9   \n",
              "764            2      122             70             27        0  36.8   \n",
              "765            5      121             72             23      112  26.2   \n",
              "766            1      126             60              0        0  30.1   \n",
              "767            1       93             70             31        0  30.4   \n",
              "\n",
              "     DiabetesPedigreeFunction  Age  Outcome  \n",
              "0                       0.627   50        1  \n",
              "1                       0.351   31        0  \n",
              "2                       0.672   32        1  \n",
              "3                       0.167   21        0  \n",
              "4                       2.288   33        1  \n",
              "..                        ...  ...      ...  \n",
              "763                     0.171   63        0  \n",
              "764                     0.340   27        0  \n",
              "765                     0.245   30        0  \n",
              "766                     0.349   47        1  \n",
              "767                     0.315   23        0  \n",
              "\n",
              "[768 rows x 9 columns]"
            ],
            "text/html": [
              "\n",
              "  <div id=\"df-7afb50c6-0285-4fb7-a47e-c0cd53c7e756\" class=\"colab-df-container\">\n",
              "    <div>\n",
              "<style scoped>\n",
              "    .dataframe tbody tr th:only-of-type {\n",
              "        vertical-align: middle;\n",
              "    }\n",
              "\n",
              "    .dataframe tbody tr th {\n",
              "        vertical-align: top;\n",
              "    }\n",
              "\n",
              "    .dataframe thead th {\n",
              "        text-align: right;\n",
              "    }\n",
              "</style>\n",
              "<table border=\"1\" class=\"dataframe\">\n",
              "  <thead>\n",
              "    <tr style=\"text-align: right;\">\n",
              "      <th></th>\n",
              "      <th>Pregnancies</th>\n",
              "      <th>Glucose</th>\n",
              "      <th>BloodPressure</th>\n",
              "      <th>SkinThickness</th>\n",
              "      <th>Insulin</th>\n",
              "      <th>BMI</th>\n",
              "      <th>DiabetesPedigreeFunction</th>\n",
              "      <th>Age</th>\n",
              "      <th>Outcome</th>\n",
              "    </tr>\n",
              "  </thead>\n",
              "  <tbody>\n",
              "    <tr>\n",
              "      <th>0</th>\n",
              "      <td>6</td>\n",
              "      <td>148</td>\n",
              "      <td>72</td>\n",
              "      <td>35</td>\n",
              "      <td>0</td>\n",
              "      <td>33.6</td>\n",
              "      <td>0.627</td>\n",
              "      <td>50</td>\n",
              "      <td>1</td>\n",
              "    </tr>\n",
              "    <tr>\n",
              "      <th>1</th>\n",
              "      <td>1</td>\n",
              "      <td>85</td>\n",
              "      <td>66</td>\n",
              "      <td>29</td>\n",
              "      <td>0</td>\n",
              "      <td>26.6</td>\n",
              "      <td>0.351</td>\n",
              "      <td>31</td>\n",
              "      <td>0</td>\n",
              "    </tr>\n",
              "    <tr>\n",
              "      <th>2</th>\n",
              "      <td>8</td>\n",
              "      <td>183</td>\n",
              "      <td>64</td>\n",
              "      <td>0</td>\n",
              "      <td>0</td>\n",
              "      <td>23.3</td>\n",
              "      <td>0.672</td>\n",
              "      <td>32</td>\n",
              "      <td>1</td>\n",
              "    </tr>\n",
              "    <tr>\n",
              "      <th>3</th>\n",
              "      <td>1</td>\n",
              "      <td>89</td>\n",
              "      <td>66</td>\n",
              "      <td>23</td>\n",
              "      <td>94</td>\n",
              "      <td>28.1</td>\n",
              "      <td>0.167</td>\n",
              "      <td>21</td>\n",
              "      <td>0</td>\n",
              "    </tr>\n",
              "    <tr>\n",
              "      <th>4</th>\n",
              "      <td>0</td>\n",
              "      <td>137</td>\n",
              "      <td>40</td>\n",
              "      <td>35</td>\n",
              "      <td>168</td>\n",
              "      <td>43.1</td>\n",
              "      <td>2.288</td>\n",
              "      <td>33</td>\n",
              "      <td>1</td>\n",
              "    </tr>\n",
              "    <tr>\n",
              "      <th>...</th>\n",
              "      <td>...</td>\n",
              "      <td>...</td>\n",
              "      <td>...</td>\n",
              "      <td>...</td>\n",
              "      <td>...</td>\n",
              "      <td>...</td>\n",
              "      <td>...</td>\n",
              "      <td>...</td>\n",
              "      <td>...</td>\n",
              "    </tr>\n",
              "    <tr>\n",
              "      <th>763</th>\n",
              "      <td>10</td>\n",
              "      <td>101</td>\n",
              "      <td>76</td>\n",
              "      <td>48</td>\n",
              "      <td>180</td>\n",
              "      <td>32.9</td>\n",
              "      <td>0.171</td>\n",
              "      <td>63</td>\n",
              "      <td>0</td>\n",
              "    </tr>\n",
              "    <tr>\n",
              "      <th>764</th>\n",
              "      <td>2</td>\n",
              "      <td>122</td>\n",
              "      <td>70</td>\n",
              "      <td>27</td>\n",
              "      <td>0</td>\n",
              "      <td>36.8</td>\n",
              "      <td>0.340</td>\n",
              "      <td>27</td>\n",
              "      <td>0</td>\n",
              "    </tr>\n",
              "    <tr>\n",
              "      <th>765</th>\n",
              "      <td>5</td>\n",
              "      <td>121</td>\n",
              "      <td>72</td>\n",
              "      <td>23</td>\n",
              "      <td>112</td>\n",
              "      <td>26.2</td>\n",
              "      <td>0.245</td>\n",
              "      <td>30</td>\n",
              "      <td>0</td>\n",
              "    </tr>\n",
              "    <tr>\n",
              "      <th>766</th>\n",
              "      <td>1</td>\n",
              "      <td>126</td>\n",
              "      <td>60</td>\n",
              "      <td>0</td>\n",
              "      <td>0</td>\n",
              "      <td>30.1</td>\n",
              "      <td>0.349</td>\n",
              "      <td>47</td>\n",
              "      <td>1</td>\n",
              "    </tr>\n",
              "    <tr>\n",
              "      <th>767</th>\n",
              "      <td>1</td>\n",
              "      <td>93</td>\n",
              "      <td>70</td>\n",
              "      <td>31</td>\n",
              "      <td>0</td>\n",
              "      <td>30.4</td>\n",
              "      <td>0.315</td>\n",
              "      <td>23</td>\n",
              "      <td>0</td>\n",
              "    </tr>\n",
              "  </tbody>\n",
              "</table>\n",
              "<p>768 rows × 9 columns</p>\n",
              "</div>\n",
              "    <div class=\"colab-df-buttons\">\n",
              "\n",
              "  <div class=\"colab-df-container\">\n",
              "    <button class=\"colab-df-convert\" onclick=\"convertToInteractive('df-7afb50c6-0285-4fb7-a47e-c0cd53c7e756')\"\n",
              "            title=\"Convert this dataframe to an interactive table.\"\n",
              "            style=\"display:none;\">\n",
              "\n",
              "  <svg xmlns=\"http://www.w3.org/2000/svg\" height=\"24px\" viewBox=\"0 -960 960 960\">\n",
              "    <path d=\"M120-120v-720h720v720H120Zm60-500h600v-160H180v160Zm220 220h160v-160H400v160Zm0 220h160v-160H400v160ZM180-400h160v-160H180v160Zm440 0h160v-160H620v160ZM180-180h160v-160H180v160Zm440 0h160v-160H620v160Z\"/>\n",
              "  </svg>\n",
              "    </button>\n",
              "\n",
              "  <style>\n",
              "    .colab-df-container {\n",
              "      display:flex;\n",
              "      gap: 12px;\n",
              "    }\n",
              "\n",
              "    .colab-df-convert {\n",
              "      background-color: #E8F0FE;\n",
              "      border: none;\n",
              "      border-radius: 50%;\n",
              "      cursor: pointer;\n",
              "      display: none;\n",
              "      fill: #1967D2;\n",
              "      height: 32px;\n",
              "      padding: 0 0 0 0;\n",
              "      width: 32px;\n",
              "    }\n",
              "\n",
              "    .colab-df-convert:hover {\n",
              "      background-color: #E2EBFA;\n",
              "      box-shadow: 0px 1px 2px rgba(60, 64, 67, 0.3), 0px 1px 3px 1px rgba(60, 64, 67, 0.15);\n",
              "      fill: #174EA6;\n",
              "    }\n",
              "\n",
              "    .colab-df-buttons div {\n",
              "      margin-bottom: 4px;\n",
              "    }\n",
              "\n",
              "    [theme=dark] .colab-df-convert {\n",
              "      background-color: #3B4455;\n",
              "      fill: #D2E3FC;\n",
              "    }\n",
              "\n",
              "    [theme=dark] .colab-df-convert:hover {\n",
              "      background-color: #434B5C;\n",
              "      box-shadow: 0px 1px 3px 1px rgba(0, 0, 0, 0.15);\n",
              "      filter: drop-shadow(0px 1px 2px rgba(0, 0, 0, 0.3));\n",
              "      fill: #FFFFFF;\n",
              "    }\n",
              "  </style>\n",
              "\n",
              "    <script>\n",
              "      const buttonEl =\n",
              "        document.querySelector('#df-7afb50c6-0285-4fb7-a47e-c0cd53c7e756 button.colab-df-convert');\n",
              "      buttonEl.style.display =\n",
              "        google.colab.kernel.accessAllowed ? 'block' : 'none';\n",
              "\n",
              "      async function convertToInteractive(key) {\n",
              "        const element = document.querySelector('#df-7afb50c6-0285-4fb7-a47e-c0cd53c7e756');\n",
              "        const dataTable =\n",
              "          await google.colab.kernel.invokeFunction('convertToInteractive',\n",
              "                                                    [key], {});\n",
              "        if (!dataTable) return;\n",
              "\n",
              "        const docLinkHtml = 'Like what you see? Visit the ' +\n",
              "          '<a target=\"_blank\" href=https://colab.research.google.com/notebooks/data_table.ipynb>data table notebook</a>'\n",
              "          + ' to learn more about interactive tables.';\n",
              "        element.innerHTML = '';\n",
              "        dataTable['output_type'] = 'display_data';\n",
              "        await google.colab.output.renderOutput(dataTable, element);\n",
              "        const docLink = document.createElement('div');\n",
              "        docLink.innerHTML = docLinkHtml;\n",
              "        element.appendChild(docLink);\n",
              "      }\n",
              "    </script>\n",
              "  </div>\n",
              "\n",
              "\n",
              "<div id=\"df-ffe2dbc5-6fba-445c-addc-263beecb34a4\">\n",
              "  <button class=\"colab-df-quickchart\" onclick=\"quickchart('df-ffe2dbc5-6fba-445c-addc-263beecb34a4')\"\n",
              "            title=\"Suggest charts\"\n",
              "            style=\"display:none;\">\n",
              "\n",
              "<svg xmlns=\"http://www.w3.org/2000/svg\" height=\"24px\"viewBox=\"0 0 24 24\"\n",
              "     width=\"24px\">\n",
              "    <g>\n",
              "        <path d=\"M19 3H5c-1.1 0-2 .9-2 2v14c0 1.1.9 2 2 2h14c1.1 0 2-.9 2-2V5c0-1.1-.9-2-2-2zM9 17H7v-7h2v7zm4 0h-2V7h2v10zm4 0h-2v-4h2v4z\"/>\n",
              "    </g>\n",
              "</svg>\n",
              "  </button>\n",
              "\n",
              "<style>\n",
              "  .colab-df-quickchart {\n",
              "      --bg-color: #E8F0FE;\n",
              "      --fill-color: #1967D2;\n",
              "      --hover-bg-color: #E2EBFA;\n",
              "      --hover-fill-color: #174EA6;\n",
              "      --disabled-fill-color: #AAA;\n",
              "      --disabled-bg-color: #DDD;\n",
              "  }\n",
              "\n",
              "  [theme=dark] .colab-df-quickchart {\n",
              "      --bg-color: #3B4455;\n",
              "      --fill-color: #D2E3FC;\n",
              "      --hover-bg-color: #434B5C;\n",
              "      --hover-fill-color: #FFFFFF;\n",
              "      --disabled-bg-color: #3B4455;\n",
              "      --disabled-fill-color: #666;\n",
              "  }\n",
              "\n",
              "  .colab-df-quickchart {\n",
              "    background-color: var(--bg-color);\n",
              "    border: none;\n",
              "    border-radius: 50%;\n",
              "    cursor: pointer;\n",
              "    display: none;\n",
              "    fill: var(--fill-color);\n",
              "    height: 32px;\n",
              "    padding: 0;\n",
              "    width: 32px;\n",
              "  }\n",
              "\n",
              "  .colab-df-quickchart:hover {\n",
              "    background-color: var(--hover-bg-color);\n",
              "    box-shadow: 0 1px 2px rgba(60, 64, 67, 0.3), 0 1px 3px 1px rgba(60, 64, 67, 0.15);\n",
              "    fill: var(--button-hover-fill-color);\n",
              "  }\n",
              "\n",
              "  .colab-df-quickchart-complete:disabled,\n",
              "  .colab-df-quickchart-complete:disabled:hover {\n",
              "    background-color: var(--disabled-bg-color);\n",
              "    fill: var(--disabled-fill-color);\n",
              "    box-shadow: none;\n",
              "  }\n",
              "\n",
              "  .colab-df-spinner {\n",
              "    border: 2px solid var(--fill-color);\n",
              "    border-color: transparent;\n",
              "    border-bottom-color: var(--fill-color);\n",
              "    animation:\n",
              "      spin 1s steps(1) infinite;\n",
              "  }\n",
              "\n",
              "  @keyframes spin {\n",
              "    0% {\n",
              "      border-color: transparent;\n",
              "      border-bottom-color: var(--fill-color);\n",
              "      border-left-color: var(--fill-color);\n",
              "    }\n",
              "    20% {\n",
              "      border-color: transparent;\n",
              "      border-left-color: var(--fill-color);\n",
              "      border-top-color: var(--fill-color);\n",
              "    }\n",
              "    30% {\n",
              "      border-color: transparent;\n",
              "      border-left-color: var(--fill-color);\n",
              "      border-top-color: var(--fill-color);\n",
              "      border-right-color: var(--fill-color);\n",
              "    }\n",
              "    40% {\n",
              "      border-color: transparent;\n",
              "      border-right-color: var(--fill-color);\n",
              "      border-top-color: var(--fill-color);\n",
              "    }\n",
              "    60% {\n",
              "      border-color: transparent;\n",
              "      border-right-color: var(--fill-color);\n",
              "    }\n",
              "    80% {\n",
              "      border-color: transparent;\n",
              "      border-right-color: var(--fill-color);\n",
              "      border-bottom-color: var(--fill-color);\n",
              "    }\n",
              "    90% {\n",
              "      border-color: transparent;\n",
              "      border-bottom-color: var(--fill-color);\n",
              "    }\n",
              "  }\n",
              "</style>\n",
              "\n",
              "  <script>\n",
              "    async function quickchart(key) {\n",
              "      const quickchartButtonEl =\n",
              "        document.querySelector('#' + key + ' button');\n",
              "      quickchartButtonEl.disabled = true;  // To prevent multiple clicks.\n",
              "      quickchartButtonEl.classList.add('colab-df-spinner');\n",
              "      try {\n",
              "        const charts = await google.colab.kernel.invokeFunction(\n",
              "            'suggestCharts', [key], {});\n",
              "      } catch (error) {\n",
              "        console.error('Error during call to suggestCharts:', error);\n",
              "      }\n",
              "      quickchartButtonEl.classList.remove('colab-df-spinner');\n",
              "      quickchartButtonEl.classList.add('colab-df-quickchart-complete');\n",
              "    }\n",
              "    (() => {\n",
              "      let quickchartButtonEl =\n",
              "        document.querySelector('#df-ffe2dbc5-6fba-445c-addc-263beecb34a4 button');\n",
              "      quickchartButtonEl.style.display =\n",
              "        google.colab.kernel.accessAllowed ? 'block' : 'none';\n",
              "    })();\n",
              "  </script>\n",
              "</div>\n",
              "    </div>\n",
              "  </div>\n"
            ],
            "application/vnd.google.colaboratory.intrinsic+json": {
              "type": "dataframe",
              "variable_name": "df1",
              "summary": "{\n  \"name\": \"df1\",\n  \"rows\": 768,\n  \"fields\": [\n    {\n      \"column\": \"Pregnancies\",\n      \"properties\": {\n        \"dtype\": \"number\",\n        \"std\": 3,\n        \"min\": 0,\n        \"max\": 17,\n        \"num_unique_values\": 17,\n        \"samples\": [\n          6,\n          1,\n          3\n        ],\n        \"semantic_type\": \"\",\n        \"description\": \"\"\n      }\n    },\n    {\n      \"column\": \"Glucose\",\n      \"properties\": {\n        \"dtype\": \"number\",\n        \"std\": 31,\n        \"min\": 0,\n        \"max\": 199,\n        \"num_unique_values\": 136,\n        \"samples\": [\n          151,\n          101,\n          112\n        ],\n        \"semantic_type\": \"\",\n        \"description\": \"\"\n      }\n    },\n    {\n      \"column\": \"BloodPressure\",\n      \"properties\": {\n        \"dtype\": \"number\",\n        \"std\": 19,\n        \"min\": 0,\n        \"max\": 122,\n        \"num_unique_values\": 47,\n        \"samples\": [\n          86,\n          46,\n          85\n        ],\n        \"semantic_type\": \"\",\n        \"description\": \"\"\n      }\n    },\n    {\n      \"column\": \"SkinThickness\",\n      \"properties\": {\n        \"dtype\": \"number\",\n        \"std\": 15,\n        \"min\": 0,\n        \"max\": 99,\n        \"num_unique_values\": 51,\n        \"samples\": [\n          7,\n          12,\n          48\n        ],\n        \"semantic_type\": \"\",\n        \"description\": \"\"\n      }\n    },\n    {\n      \"column\": \"Insulin\",\n      \"properties\": {\n        \"dtype\": \"number\",\n        \"std\": 115,\n        \"min\": 0,\n        \"max\": 846,\n        \"num_unique_values\": 186,\n        \"samples\": [\n          52,\n          41,\n          183\n        ],\n        \"semantic_type\": \"\",\n        \"description\": \"\"\n      }\n    },\n    {\n      \"column\": \"BMI\",\n      \"properties\": {\n        \"dtype\": \"number\",\n        \"std\": 7.884160320375446,\n        \"min\": 0.0,\n        \"max\": 67.1,\n        \"num_unique_values\": 248,\n        \"samples\": [\n          19.9,\n          31.0,\n          38.1\n        ],\n        \"semantic_type\": \"\",\n        \"description\": \"\"\n      }\n    },\n    {\n      \"column\": \"DiabetesPedigreeFunction\",\n      \"properties\": {\n        \"dtype\": \"number\",\n        \"std\": 0.3313285950127749,\n        \"min\": 0.078,\n        \"max\": 2.42,\n        \"num_unique_values\": 517,\n        \"samples\": [\n          1.731,\n          0.426,\n          0.138\n        ],\n        \"semantic_type\": \"\",\n        \"description\": \"\"\n      }\n    },\n    {\n      \"column\": \"Age\",\n      \"properties\": {\n        \"dtype\": \"number\",\n        \"std\": 11,\n        \"min\": 21,\n        \"max\": 81,\n        \"num_unique_values\": 52,\n        \"samples\": [\n          60,\n          47,\n          72\n        ],\n        \"semantic_type\": \"\",\n        \"description\": \"\"\n      }\n    },\n    {\n      \"column\": \"Outcome\",\n      \"properties\": {\n        \"dtype\": \"number\",\n        \"std\": 0,\n        \"min\": 0,\n        \"max\": 1,\n        \"num_unique_values\": 2,\n        \"samples\": [\n          0,\n          1\n        ],\n        \"semantic_type\": \"\",\n        \"description\": \"\"\n      }\n    }\n  ]\n}"
            }
          },
          "metadata": {},
          "execution_count": 18
        }
      ]
    },
    {
      "cell_type": "code",
      "source": [
        "columns = ['Pregnancies', 'Glucose', 'BloodPressure', 'SkinThickness', 'Insulin', 'BMI', 'DiabetesPedigreeFunction', 'Age']\n",
        "\n",
        "for column_name in columns:\n",
        "    counts = df1[column_name].value_counts()\n",
        "    # print(f\"Unique values and their frequencies for column '{column_name}':\")\n",
        "    # print(counts)\n",
        "    # print()"
      ],
      "metadata": {
        "id": "bGvTsjCLzZP0"
      },
      "execution_count": 19,
      "outputs": []
    },
    {
      "cell_type": "code",
      "execution_count": 20,
      "metadata": {
        "id": "1jsR9wdG6CmC"
      },
      "outputs": [],
      "source": [
        "## YOUR CODE HERE\n",
        "df1_X = df1.drop(columns=['Outcome'])\n",
        "df1_y = df1['Outcome']"
      ]
    },
    {
      "cell_type": "code",
      "source": [
        "print('Shape of feature vectors: ', df1_X.shape)\n",
        "print('Shape of target vector: ', df1_y.shape)"
      ],
      "metadata": {
        "id": "DyVzWHlxygVw",
        "outputId": "b3b17a45-0cb8-451e-eb24-a310a96b4e56",
        "colab": {
          "base_uri": "https://localhost:8080/"
        }
      },
      "execution_count": 21,
      "outputs": [
        {
          "output_type": "stream",
          "name": "stdout",
          "text": [
            "Shape of feature vectors:  (768, 8)\n",
            "Shape of target vector:  (768,)\n"
          ]
        }
      ]
    },
    {
      "cell_type": "code",
      "source": [
        "df1_y_array = df1_y.to_numpy()\n",
        "df1_y = df1_y_array.reshape(-1, 1)\n",
        "\n",
        "print(df1_y.shape)"
      ],
      "metadata": {
        "id": "3UMfB48v1SoE",
        "outputId": "80193669-057b-4854-cb97-5b88654ff763",
        "colab": {
          "base_uri": "https://localhost:8080/"
        }
      },
      "execution_count": 22,
      "outputs": [
        {
          "output_type": "stream",
          "name": "stdout",
          "text": [
            "(768, 1)\n"
          ]
        }
      ]
    },
    {
      "cell_type": "code",
      "source": [
        "X_train, X_test, y_train, y_test = train_test_split(df1_X, df1_y, test_size=0.2, random_state=42, stratify=df1_y)\n",
        "# X_train, X_val, y_train, y_val = train_test_split(X_dev, y_dev, test_size=0.25, random_state=42, stratify=y_dev)\n",
        "\n",
        "print(\"Shape of X_train:\", X_train.shape)\n",
        "print(\"Shape of y_train:\", y_train.shape)\n",
        "\n",
        "# print(\"Shape of y_train:\", X_val.shape)\n",
        "# print(\"Shape of y_train:\", y_val.shape)\n",
        "\n",
        "print(\"Shape of X_test:\", X_test.shape)\n",
        "print(\"Shape of y_test:\", y_test.shape)"
      ],
      "metadata": {
        "id": "N3e_TywpBNee",
        "outputId": "463063a5-6ff8-4c01-f47a-ddec997a63d4",
        "colab": {
          "base_uri": "https://localhost:8080/"
        }
      },
      "execution_count": 23,
      "outputs": [
        {
          "output_type": "stream",
          "name": "stdout",
          "text": [
            "Shape of X_train: (614, 8)\n",
            "Shape of y_train: (614, 1)\n",
            "Shape of X_test: (154, 8)\n",
            "Shape of y_test: (154, 1)\n"
          ]
        }
      ]
    },
    {
      "cell_type": "markdown",
      "metadata": {
        "id": "cg5UnTg_6Bxm"
      },
      "source": [
        "**1.5: Build a decision tree classifier to predict the onset of diabetes. What criterion (e.g., Gini impurity, entropy) did you choose for splitting, and why?**"
      ]
    },
    {
      "cell_type": "markdown",
      "source": [
        "- I am using gini to split because I know that gini is a measure of absolute purity and splitting is made easy when directly compared with absolute values.\n",
        "\n",
        "- Also as per their formula, entropy has a log function which can slow the process if we dont keep a max depth for the tree."
      ],
      "metadata": {
        "id": "mM58rAE-SEiV"
      }
    },
    {
      "cell_type": "code",
      "source": [
        "pipe_gini = DecisionTreeClassifier(max_depth=10, criterion='gini')\n",
        "pipe_gini.fit(X_train, y_train)\n",
        "print(\"Gini to split\")\n",
        "print(\"Accuracy Score on Train set: \", pipe_gini.score(X_train, y_train))\n",
        "print(\"Accuracy Score on Test set: \", pipe_gini.score(X_test, y_test))"
      ],
      "metadata": {
        "id": "1I5w-jL7E9WI",
        "outputId": "fcf942df-57e8-477d-b8a4-b187888f88fb",
        "colab": {
          "base_uri": "https://localhost:8080/"
        }
      },
      "execution_count": 24,
      "outputs": [
        {
          "output_type": "stream",
          "name": "stdout",
          "text": [
            "Gini to split\n",
            "Accuracy Score on Train set:  0.9511400651465798\n",
            "Accuracy Score on Test set:  0.7272727272727273\n"
          ]
        }
      ]
    },
    {
      "cell_type": "markdown",
      "metadata": {
        "id": "iqMP3tIT6Orb"
      },
      "source": [
        "**1.6: Evaluate your model using accuracy, precision, recall, and F1-score. What do these metrics reveal about your model's performance?**"
      ]
    },
    {
      "cell_type": "code",
      "source": [
        "from sklearn.metrics import accuracy_score, precision_score, recall_score, f1_score"
      ],
      "metadata": {
        "id": "gS6JlXv-Gbko"
      },
      "execution_count": 25,
      "outputs": []
    },
    {
      "cell_type": "code",
      "source": [
        "y_pred = pipe_gini.predict(X_test)\n",
        "\n",
        "accuracy = accuracy_score(y_test, y_pred)\n",
        "precision = precision_score(y_test, y_pred)\n",
        "recall = recall_score(y_test, y_pred)\n",
        "f1 = f1_score(y_test, y_pred)\n",
        "\n",
        "print(\"Accuracy:\", accuracy)\n",
        "print(\"Precision:\", precision)\n",
        "print(\"Recall:\", recall)\n",
        "print(\"F1 score:\", f1)\n"
      ],
      "metadata": {
        "id": "Coiirj7HYA_H",
        "outputId": "fbc3fc69-db8d-4680-e0cb-24667cc07124",
        "colab": {
          "base_uri": "https://localhost:8080/"
        }
      },
      "execution_count": 26,
      "outputs": [
        {
          "output_type": "stream",
          "name": "stdout",
          "text": [
            "Accuracy: 0.7272727272727273\n",
            "Precision: 0.6428571428571429\n",
            "Recall: 0.5\n",
            "F1 score: 0.5625000000000001\n"
          ]
        }
      ]
    },
    {
      "cell_type": "markdown",
      "source": [
        "1. Accuracy: The model has an accuracy of around 72.08%, meaning it correctly predicts the diabetes outcome for about 72.08% of the instances in the dataset.\n",
        "2. Precision: Precision of approximately 62.8% indicates that when the model predicts a positive outcome (diabetes), it is correct around 62.8% of the time.\n",
        "3. Recall: Recall of about 50% suggests that the model is able to correctly identify around 50% of the actual positive cases.\n",
        "4. F1 Score: The F1 score, which considers both precision and recall, is approximately 55.6%. It provides a balance between precision and recall, giving an overall measure of the model's performance.\n",
        "-\n",
        "These metrics reveal that while the model has decent accuracy, its performance in terms of precision, recall, and F1 score is relatively modest. This could be due to the imbalance in the dataset, as indicated by the lower recall value compared to precision. Improving the model's ability to detect true positives (diabetes cases) while minimizing false positives and false negatives would be crucial for better performance, especially in medical diagnosis tasks like predicting diabetes. Further model tuning, feature engineering, or utilizing techniques to handle imbalanced datasets could potentially enhance the model's performance."
      ],
      "metadata": {
        "id": "67_sdh4crhEL"
      }
    },
    {
      "cell_type": "markdown",
      "metadata": {
        "id": "DxTDRJqj6gfn"
      },
      "source": [
        "**1.8: List the top 3 most important features for this trained tree? How would you justify these features being the most important?**"
      ]
    },
    {
      "cell_type": "code",
      "source": [
        "from sklearn.pipeline import *\n",
        "from sklearn.feature_selection import mutual_info_classif\n"
      ],
      "metadata": {
        "id": "49fYIRYndsC9"
      },
      "execution_count": 27,
      "outputs": []
    },
    {
      "cell_type": "code",
      "source": [
        "features = ['Pregnancies', 'Glucose', 'BloodPressure', 'SkinThickness', 'Insulin', 'BMI', 'DiabetesPedigreeFunction', 'Age']\n",
        "feat_imp = pipe_gini.feature_importances_\n",
        "\n",
        "print(\"Total features: \",len(features))\n",
        "print(\"Weights for features: \", len(feat_imp))"
      ],
      "metadata": {
        "id": "kjx-HO0ChLqf",
        "outputId": "119a82dc-be59-4c39-b982-291d275b819a",
        "colab": {
          "base_uri": "https://localhost:8080/"
        }
      },
      "execution_count": 28,
      "outputs": [
        {
          "output_type": "stream",
          "name": "stdout",
          "text": [
            "Total features:  8\n",
            "Weights for features:  8\n"
          ]
        }
      ]
    },
    {
      "cell_type": "code",
      "source": [
        "ax = sns.barplot(x=list(features), y=list(feat_imp), palette='viridis')\n",
        "ax.set_xlabel('Features')\n",
        "ax.set_ylabel('Importance')\n",
        "ax.set_title('Feature Importances')\n",
        "ax.tick_params(axis='x', rotation=90)\n",
        "plt.show()"
      ],
      "metadata": {
        "id": "h14ByQ0GcTVe",
        "outputId": "00c0db80-fcb5-4e44-c19a-b3ee508e2b77",
        "colab": {
          "base_uri": "https://localhost:8080/",
          "height": 639
        }
      },
      "execution_count": 29,
      "outputs": [
        {
          "output_type": "display_data",
          "data": {
            "text/plain": [
              "<Figure size 640x480 with 1 Axes>"
            ],
            "image/png": "[encoded data removed]"
          },
          "metadata": {}
        }
      ]
    },
    {
      "cell_type": "code",
      "source": [
        "imp_df = pd.DataFrame({'Features': features, 'Weights': feat_imp})\n",
        "imp_sorted = imp_df.sort_values(by = ['Weights'], ascending = False)\n",
        "imp_sorted"
      ],
      "metadata": {
        "id": "3ZZ-JYGdp2q9",
        "outputId": "6b3098b4-f5fa-48ca-823c-a990540c4bc7",
        "colab": {
          "base_uri": "https://localhost:8080/",
          "height": 300
        }
      },
      "execution_count": 30,
      "outputs": [
        {
          "output_type": "execute_result",
          "data": {
            "text/plain": [
              "                   Features   Weights\n",
              "1                   Glucose  0.342339\n",
              "5                       BMI  0.196474\n",
              "7                       Age  0.129601\n",
              "2             BloodPressure  0.093884\n",
              "6  DiabetesPedigreeFunction  0.085114\n",
              "0               Pregnancies  0.078641\n",
              "4                   Insulin  0.050527\n",
              "3             SkinThickness  0.023421"
            ],
            "text/html": [
              "\n",
              "  <div id=\"df-7cb2d7e3-c790-4c32-8ca2-de79b7aefa9f\" class=\"colab-df-container\">\n",
              "    <div>\n",
              "<style scoped>\n",
              "    .dataframe tbody tr th:only-of-type {\n",
              "        vertical-align: middle;\n",
              "    }\n",
              "\n",
              "    .dataframe tbody tr th {\n",
              "        vertical-align: top;\n",
              "    }\n",
              "\n",
              "    .dataframe thead th {\n",
              "        text-align: right;\n",
              "    }\n",
              "</style>\n",
              "<table border=\"1\" class=\"dataframe\">\n",
              "  <thead>\n",
              "    <tr style=\"text-align: right;\">\n",
              "      <th></th>\n",
              "      <th>Features</th>\n",
              "      <th>Weights</th>\n",
              "    </tr>\n",
              "  </thead>\n",
              "  <tbody>\n",
              "    <tr>\n",
              "      <th>1</th>\n",
              "      <td>Glucose</td>\n",
              "      <td>0.342339</td>\n",
              "    </tr>\n",
              "    <tr>\n",
              "      <th>5</th>\n",
              "      <td>BMI</td>\n",
              "      <td>0.196474</td>\n",
              "    </tr>\n",
              "    <tr>\n",
              "      <th>7</th>\n",
              "      <td>Age</td>\n",
              "      <td>0.129601</td>\n",
              "    </tr>\n",
              "    <tr>\n",
              "      <th>2</th>\n",
              "      <td>BloodPressure</td>\n",
              "      <td>0.093884</td>\n",
              "    </tr>\n",
              "    <tr>\n",
              "      <th>6</th>\n",
              "      <td>DiabetesPedigreeFunction</td>\n",
              "      <td>0.085114</td>\n",
              "    </tr>\n",
              "    <tr>\n",
              "      <th>0</th>\n",
              "      <td>Pregnancies</td>\n",
              "      <td>0.078641</td>\n",
              "    </tr>\n",
              "    <tr>\n",
              "      <th>4</th>\n",
              "      <td>Insulin</td>\n",
              "      <td>0.050527</td>\n",
              "    </tr>\n",
              "    <tr>\n",
              "      <th>3</th>\n",
              "      <td>SkinThickness</td>\n",
              "      <td>0.023421</td>\n",
              "    </tr>\n",
              "  </tbody>\n",
              "</table>\n",
              "</div>\n",
              "    <div class=\"colab-df-buttons\">\n",
              "\n",
              "  <div class=\"colab-df-container\">\n",
              "    <button class=\"colab-df-convert\" onclick=\"convertToInteractive('df-7cb2d7e3-c790-4c32-8ca2-de79b7aefa9f')\"\n",
              "            title=\"Convert this dataframe to an interactive table.\"\n",
              "            style=\"display:none;\">\n",
              "\n",
              "  <svg xmlns=\"http://www.w3.org/2000/svg\" height=\"24px\" viewBox=\"0 -960 960 960\">\n",
              "    <path d=\"M120-120v-720h720v720H120Zm60-500h600v-160H180v160Zm220 220h160v-160H400v160Zm0 220h160v-160H400v160ZM180-400h160v-160H180v160Zm440 0h160v-160H620v160ZM180-180h160v-160H180v160Zm440 0h160v-160H620v160Z\"/>\n",
              "  </svg>\n",
              "    </button>\n",
              "\n",
              "  <style>\n",
              "    .colab-df-container {\n",
              "      display:flex;\n",
              "      gap: 12px;\n",
              "    }\n",
              "\n",
              "    .colab-df-convert {\n",
              "      background-color: #E8F0FE;\n",
              "      border: none;\n",
              "      border-radius: 50%;\n",
              "      cursor: pointer;\n",
              "      display: none;\n",
              "      fill: #1967D2;\n",
              "      height: 32px;\n",
              "      padding: 0 0 0 0;\n",
              "      width: 32px;\n",
              "    }\n",
              "\n",
              "    .colab-df-convert:hover {\n",
              "      background-color: #E2EBFA;\n",
              "      box-shadow: 0px 1px 2px rgba(60, 64, 67, 0.3), 0px 1px 3px 1px rgba(60, 64, 67, 0.15);\n",
              "      fill: #174EA6;\n",
              "    }\n",
              "\n",
              "    .colab-df-buttons div {\n",
              "      margin-bottom: 4px;\n",
              "    }\n",
              "\n",
              "    [theme=dark] .colab-df-convert {\n",
              "      background-color: #3B4455;\n",
              "      fill: #D2E3FC;\n",
              "    }\n",
              "\n",
              "    [theme=dark] .colab-df-convert:hover {\n",
              "      background-color: #434B5C;\n",
              "      box-shadow: 0px 1px 3px 1px rgba(0, 0, 0, 0.15);\n",
              "      filter: drop-shadow(0px 1px 2px rgba(0, 0, 0, 0.3));\n",
              "      fill: #FFFFFF;\n",
              "    }\n",
              "  </style>\n",
              "\n",
              "    <script>\n",
              "      const buttonEl =\n",
              "        document.querySelector('#df-7cb2d7e3-c790-4c32-8ca2-de79b7aefa9f button.colab-df-convert');\n",
              "      buttonEl.style.display =\n",
              "        google.colab.kernel.accessAllowed ? 'block' : 'none';\n",
              "\n",
              "      async function convertToInteractive(key) {\n",
              "        const element = document.querySelector('#df-7cb2d7e3-c790-4c32-8ca2-de79b7aefa9f');\n",
              "        const dataTable =\n",
              "          await google.colab.kernel.invokeFunction('convertToInteractive',\n",
              "                                                    [key], {});\n",
              "        if (!dataTable) return;\n",
              "\n",
              "        const docLinkHtml = 'Like what you see? Visit the ' +\n",
              "          '<a target=\"_blank\" href=https://colab.research.google.com/notebooks/data_table.ipynb>data table notebook</a>'\n",
              "          + ' to learn more about interactive tables.';\n",
              "        element.innerHTML = '';\n",
              "        dataTable['output_type'] = 'display_data';\n",
              "        await google.colab.output.renderOutput(dataTable, element);\n",
              "        const docLink = document.createElement('div');\n",
              "        docLink.innerHTML = docLinkHtml;\n",
              "        element.appendChild(docLink);\n",
              "      }\n",
              "    </script>\n",
              "  </div>\n",
              "\n",
              "\n",
              "<div id=\"df-d2bcc015-8b94-4c6e-a8c9-e1d9aae2cd77\">\n",
              "  <button class=\"colab-df-quickchart\" onclick=\"quickchart('df-d2bcc015-8b94-4c6e-a8c9-e1d9aae2cd77')\"\n",
              "            title=\"Suggest charts\"\n",
              "            style=\"display:none;\">\n",
              "\n",
              "<svg xmlns=\"http://www.w3.org/2000/svg\" height=\"24px\"viewBox=\"0 0 24 24\"\n",
              "     width=\"24px\">\n",
              "    <g>\n",
              "        <path d=\"M19 3H5c-1.1 0-2 .9-2 2v14c0 1.1.9 2 2 2h14c1.1 0 2-.9 2-2V5c0-1.1-.9-2-2-2zM9 17H7v-7h2v7zm4 0h-2V7h2v10zm4 0h-2v-4h2v4z\"/>\n",
              "    </g>\n",
              "</svg>\n",
              "  </button>\n",
              "\n",
              "<style>\n",
              "  .colab-df-quickchart {\n",
              "      --bg-color: #E8F0FE;\n",
              "      --fill-color: #1967D2;\n",
              "      --hover-bg-color: #E2EBFA;\n",
              "      --hover-fill-color: #174EA6;\n",
              "      --disabled-fill-color: #AAA;\n",
              "      --disabled-bg-color: #DDD;\n",
              "  }\n",
              "\n",
              "  [theme=dark] .colab-df-quickchart {\n",
              "      --bg-color: #3B4455;\n",
              "      --fill-color: #D2E3FC;\n",
              "      --hover-bg-color: #434B5C;\n",
              "      --hover-fill-color: #FFFFFF;\n",
              "      --disabled-bg-color: #3B4455;\n",
              "      --disabled-fill-color: #666;\n",
              "  }\n",
              "\n",
              "  .colab-df-quickchart {\n",
              "    background-color: var(--bg-color);\n",
              "    border: none;\n",
              "    border-radius: 50%;\n",
              "    cursor: pointer;\n",
              "    display: none;\n",
              "    fill: var(--fill-color);\n",
              "    height: 32px;\n",
              "    padding: 0;\n",
              "    width: 32px;\n",
              "  }\n",
              "\n",
              "  .colab-df-quickchart:hover {\n",
              "    background-color: var(--hover-bg-color);\n",
              "    box-shadow: 0 1px 2px rgba(60, 64, 67, 0.3), 0 1px 3px 1px rgba(60, 64, 67, 0.15);\n",
              "    fill: var(--button-hover-fill-color);\n",
              "  }\n",
              "\n",
              "  .colab-df-quickchart-complete:disabled,\n",
              "  .colab-df-quickchart-complete:disabled:hover {\n",
              "    background-color: var(--disabled-bg-color);\n",
              "    fill: var(--disabled-fill-color);\n",
              "    box-shadow: none;\n",
              "  }\n",
              "\n",
              "  .colab-df-spinner {\n",
              "    border: 2px solid var(--fill-color);\n",
              "    border-color: transparent;\n",
              "    border-bottom-color: var(--fill-color);\n",
              "    animation:\n",
              "      spin 1s steps(1) infinite;\n",
              "  }\n",
              "\n",
              "  @keyframes spin {\n",
              "    0% {\n",
              "      border-color: transparent;\n",
              "      border-bottom-color: var(--fill-color);\n",
              "      border-left-color: var(--fill-color);\n",
              "    }\n",
              "    20% {\n",
              "      border-color: transparent;\n",
              "      border-left-color: var(--fill-color);\n",
              "      border-top-color: var(--fill-color);\n",
              "    }\n",
              "    30% {\n",
              "      border-color: transparent;\n",
              "      border-left-color: var(--fill-color);\n",
              "      border-top-color: var(--fill-color);\n",
              "      border-right-color: var(--fill-color);\n",
              "    }\n",
              "    40% {\n",
              "      border-color: transparent;\n",
              "      border-right-color: var(--fill-color);\n",
              "      border-top-color: var(--fill-color);\n",
              "    }\n",
              "    60% {\n",
              "      border-color: transparent;\n",
              "      border-right-color: var(--fill-color);\n",
              "    }\n",
              "    80% {\n",
              "      border-color: transparent;\n",
              "      border-right-color: var(--fill-color);\n",
              "      border-bottom-color: var(--fill-color);\n",
              "    }\n",
              "    90% {\n",
              "      border-color: transparent;\n",
              "      border-bottom-color: var(--fill-color);\n",
              "    }\n",
              "  }\n",
              "</style>\n",
              "\n",
              "  <script>\n",
              "    async function quickchart(key) {\n",
              "      const quickchartButtonEl =\n",
              "        document.querySelector('#' + key + ' button');\n",
              "      quickchartButtonEl.disabled = true;  // To prevent multiple clicks.\n",
              "      quickchartButtonEl.classList.add('colab-df-spinner');\n",
              "      try {\n",
              "        const charts = await google.colab.kernel.invokeFunction(\n",
              "            'suggestCharts', [key], {});\n",
              "      } catch (error) {\n",
              "        console.error('Error during call to suggestCharts:', error);\n",
              "      }\n",
              "      quickchartButtonEl.classList.remove('colab-df-spinner');\n",
              "      quickchartButtonEl.classList.add('colab-df-quickchart-complete');\n",
              "    }\n",
              "    (() => {\n",
              "      let quickchartButtonEl =\n",
              "        document.querySelector('#df-d2bcc015-8b94-4c6e-a8c9-e1d9aae2cd77 button');\n",
              "      quickchartButtonEl.style.display =\n",
              "        google.colab.kernel.accessAllowed ? 'block' : 'none';\n",
              "    })();\n",
              "  </script>\n",
              "</div>\n",
              "    </div>\n",
              "  </div>\n"
            ],
            "application/vnd.google.colaboratory.intrinsic+json": {
              "type": "dataframe",
              "variable_name": "imp_sorted",
              "summary": "{\n  \"name\": \"imp_sorted\",\n  \"rows\": 8,\n  \"fields\": [\n    {\n      \"column\": \"Features\",\n      \"properties\": {\n        \"dtype\": \"string\",\n        \"num_unique_values\": 8,\n        \"samples\": [\n          \"BMI\",\n          \"Pregnancies\",\n          \"Glucose\"\n        ],\n        \"semantic_type\": \"\",\n        \"description\": \"\"\n      }\n    },\n    {\n      \"column\": \"Weights\",\n      \"properties\": {\n        \"dtype\": \"number\",\n        \"std\": 0.10207743246599545,\n        \"min\": 0.023420914677681287,\n        \"max\": 0.3423385952518845,\n        \"num_unique_values\": 8,\n        \"samples\": [\n          0.19647415831843745,\n          0.07864115146183116,\n          0.3423385952518845\n        ],\n        \"semantic_type\": \"\",\n        \"description\": \"\"\n      }\n    }\n  ]\n}"
            }
          },
          "metadata": {},
          "execution_count": 30
        }
      ]
    },
    {
      "cell_type": "code",
      "source": [
        "ax = sns.barplot(x='Features', y='Weights', data=imp_sorted, palette='viridis')\n",
        "ax.set_xlabel('Features')\n",
        "ax.set_ylabel('Importance')\n",
        "ax.set_title('Feature Importances')\n",
        "ax.tick_params(axis='x', rotation=90)\n",
        "plt.show()"
      ],
      "metadata": {
        "id": "4Z4DyfoZqcmb",
        "outputId": "6b0f4378-57e2-4e60-d3ce-1ac1e5d566c7",
        "colab": {
          "base_uri": "https://localhost:8080/",
          "height": 639
        }
      },
      "execution_count": 31,
      "outputs": [
        {
          "output_type": "display_data",
          "data": {
            "text/plain": [
              "<Figure size 640x480 with 1 Axes>"
            ],
            "image/png": "[encoded data removed]"
          },
          "metadata": {}
        }
      ]
    },
    {
      "cell_type": "markdown",
      "source": [
        "The top 3 features are:\n",
        "1. Glucose - It is directly proportionl to the amount of sugar level in body and has the highest weight.\n",
        "2. BMI - It is also relted to diabetes and has a positive influence on making a porediction for diabetes.\n",
        "3. Age - With increase in age we observe a higher chance of having diabetes."
      ],
      "metadata": {
        "id": "8K2rZ_YWkU9-"
      }
    },
    {
      "cell_type": "markdown",
      "metadata": {
        "id": "lFZzklLK6oqx"
      },
      "source": [
        "## Question 2: Random Forests"
      ]
    },
    {
      "cell_type": "markdown",
      "metadata": {
        "id": "lGedQ_QL6sNB"
      },
      "source": [
        "**2.1: Train a Random Forest model on the development dataset using RandomForestClassifier class in sklearn. Use the default parameters. Evaluate the performance of the model on test dataset. Does this perform better than Decision Tree on the test dataset**"
      ]
    },
    {
      "cell_type": "code",
      "source": [
        "features = ['Pregnancies', 'Glucose', 'BloodPressure', 'SkinThickness', 'Insulin', 'BMI', 'DiabetesPedigreeFunction', 'Age']"
      ],
      "metadata": {
        "id": "F45B572ZyNsA"
      },
      "execution_count": 32,
      "outputs": []
    },
    {
      "cell_type": "code",
      "source": [
        "from sklearn.ensemble import RandomForestClassifier, RandomForestRegressor\n",
        "from sklearn.model_selection import RandomizedSearchCV, GridSearchCV\n",
        "from scipy.stats import randint\n",
        "from sklearn.tree import export_graphviz\n",
        "from IPython.display import Image\n",
        "import graphviz"
      ],
      "metadata": {
        "id": "3hygwnn5MohI"
      },
      "execution_count": 33,
      "outputs": []
    },
    {
      "cell_type": "code",
      "execution_count": 34,
      "metadata": {
        "id": "Mf0Qbl1u6f5O",
        "colab": {
          "base_uri": "https://localhost:8080/"
        },
        "outputId": "52c88f01-e55d-4edc-fb0b-fdc5055c3d3b"
      },
      "outputs": [
        {
          "output_type": "stream",
          "name": "stdout",
          "text": [
            "Random Forest accuracy score:  0.7402597402597403\n"
          ]
        }
      ],
      "source": [
        "## YOUR CODE HERE\n",
        "rf_model = RandomForestClassifier()\n",
        "rf_model.fit(X_train, y_train)\n",
        "print(f\"Random Forest accuracy score: \", rf_model.score(X_test, y_test))"
      ]
    },
    {
      "cell_type": "code",
      "source": [
        "# Displaying first 2 trees in the forest\n",
        "for i in range(2):\n",
        "    tree = rf_model.estimators_[i]\n",
        "    dot_data = export_graphviz(tree,\n",
        "                               feature_names=X_train.columns,\n",
        "                               filled=True,\n",
        "                               max_depth=3,\n",
        "                               impurity=False,\n",
        "                               proportion=True)\n",
        "    graph = graphviz.Source(dot_data)\n",
        "    display(graph)"
      ],
      "metadata": {
        "id": "h4in8xKlMkaf",
        "colab": {
          "base_uri": "https://localhost:8080/",
          "height": 1000
        },
        "outputId": "e5d83cdf-47df-4249-bc9f-da12f75f2fdc"
      },
      "execution_count": 35,
      "outputs": [
        {
          "output_type": "display_data",
          "data": {
            "image/svg+xml": "<?xml version=\"1.0\" encoding=\"UTF-8\" standalone=\"no\"?>\n<!DOCTYPE svg PUBLIC \"-//W3C//DTD SVG 1.1//EN\"\n \"http://www.w3.org/Graphics/SVG/1.1/DTD/svg11.dtd\">\n<!-- Generated by graphviz version 2.43.0 (0)\n -->\n<!-- Title: Tree Pages: 1 -->\n<svg width=\"1234pt\" height=\"400pt\"\n viewBox=\"0.00 0.00 1233.50 400.00\" xmlns=\"http://www.w3.org/2000/svg\" xmlns:xlink=\"http://www.w3.org/1999/xlink\">\n<g id=\"graph0\" class=\"graph\" transform=\"scale(1 1) rotate(0) translate(4 396)\">\n<title>Tree</title>\n<polygon fill=\"white\" stroke=\"transparent\" points=\"-4,4 -4,-396 1229.5,-396 1229.5,4 -4,4\"/>\n<!-- 0 -->\n<g id=\"node1\" class=\"node\">\n<title>0</title>\n<polygon fill=\"#f2be99\" stroke=\"black\" points=\"684.5,-392 537.5,-392 537.5,-339 684.5,-339 684.5,-392\"/>\n<text text-anchor=\"middle\" x=\"611\" y=\"-376.8\" font-family=\"Helvetica,sans-Serif\" font-size=\"14.00\">BMI &lt;= 29.65</text>\n<text text-anchor=\"middle\" x=\"611\" y=\"-361.8\" font-family=\"Helvetica,sans-Serif\" font-size=\"14.00\">samples = 100.0%</text>\n<text text-anchor=\"middle\" x=\"611\" y=\"-346.8\" font-family=\"Helvetica,sans-Serif\" font-size=\"14.00\">value = [0.674, 0.326]</text>\n</g>\n<!-- 1 -->\n<g id=\"node2\" class=\"node\">\n<title>1</title>\n<polygon fill=\"#e89051\" stroke=\"black\" points=\"523.5,-303 368.5,-303 368.5,-250 523.5,-250 523.5,-303\"/>\n<text text-anchor=\"middle\" x=\"446\" y=\"-287.8\" font-family=\"Helvetica,sans-Serif\" font-size=\"14.00\">BloodPressure &lt;= 67.0</text>\n<text text-anchor=\"middle\" x=\"446\" y=\"-272.8\" font-family=\"Helvetica,sans-Serif\" font-size=\"14.00\">samples = 37.3%</text>\n<text text-anchor=\"middle\" x=\"446\" y=\"-257.8\" font-family=\"Helvetica,sans-Serif\" font-size=\"14.00\">value = [0.892, 0.108]</text>\n</g>\n<!-- 0&#45;&gt;1 -->\n<g id=\"edge1\" class=\"edge\">\n<title>0&#45;&gt;1</title>\n<path fill=\"none\" stroke=\"black\" d=\"M562.39,-338.87C543.92,-329.13 522.72,-317.95 503.51,-307.82\"/>\n<polygon fill=\"black\" stroke=\"black\" points=\"505.03,-304.67 494.55,-303.1 501.76,-310.86 505.03,-304.67\"/>\n<text text-anchor=\"middle\" x=\"501.94\" y=\"-323.28\" font-family=\"Helvetica,sans-Serif\" font-size=\"14.00\">True</text>\n</g>\n<!-- 50 -->\n<g id=\"node15\" class=\"node\">\n<title>50</title>\n<polygon fill=\"#fbece0\" stroke=\"black\" points=\"900.5,-303 667.5,-303 667.5,-250 900.5,-250 900.5,-303\"/>\n<text text-anchor=\"middle\" x=\"784\" y=\"-287.8\" font-family=\"Helvetica,sans-Serif\" font-size=\"14.00\">DiabetesPedigreeFunction &lt;= 0.528</text>\n<text text-anchor=\"middle\" x=\"784\" y=\"-272.8\" font-family=\"Helvetica,sans-Serif\" font-size=\"14.00\">samples = 62.7%</text>\n<text text-anchor=\"middle\" x=\"784\" y=\"-257.8\" font-family=\"Helvetica,sans-Serif\" font-size=\"14.00\">value = [0.542, 0.458]</text>\n</g>\n<!-- 0&#45;&gt;50 -->\n<g id=\"edge14\" class=\"edge\">\n<title>0&#45;&gt;50</title>\n<path fill=\"none\" stroke=\"black\" d=\"M661.97,-338.87C681.42,-329.09 703.76,-317.85 723.98,-307.68\"/>\n<polygon fill=\"black\" stroke=\"black\" points=\"725.73,-310.72 733.1,-303.1 722.59,-304.47 725.73,-310.72\"/>\n<text text-anchor=\"middle\" x=\"725.24\" y=\"-323.13\" font-family=\"Helvetica,sans-Serif\" font-size=\"14.00\">False</text>\n</g>\n<!-- 2 -->\n<g id=\"node3\" class=\"node\">\n<title>2</title>\n<polygon fill=\"#e5833d\" stroke=\"black\" points=\"291.5,-214 144.5,-214 144.5,-161 291.5,-161 291.5,-214\"/>\n<text text-anchor=\"middle\" x=\"218\" y=\"-198.8\" font-family=\"Helvetica,sans-Serif\" font-size=\"14.00\">Age &lt;= 29.5</text>\n<text text-anchor=\"middle\" x=\"218\" y=\"-183.8\" font-family=\"Helvetica,sans-Serif\" font-size=\"14.00\">samples = 17.9%</text>\n<text text-anchor=\"middle\" x=\"218\" y=\"-168.8\" font-family=\"Helvetica,sans-Serif\" font-size=\"14.00\">value = [0.982, 0.018]</text>\n</g>\n<!-- 1&#45;&gt;2 -->\n<g id=\"edge2\" class=\"edge\">\n<title>1&#45;&gt;2</title>\n<path fill=\"none\" stroke=\"black\" d=\"M379.13,-249.98C352.57,-239.85 321.86,-228.13 294.42,-217.66\"/>\n<polygon fill=\"black\" stroke=\"black\" points=\"295.46,-214.31 284.87,-214.01 292.96,-220.85 295.46,-214.31\"/>\n</g>\n<!-- 9 -->\n<g id=\"node8\" class=\"node\">\n<title>9</title>\n<polygon fill=\"#eb9f68\" stroke=\"black\" points=\"519.5,-214 372.5,-214 372.5,-161 519.5,-161 519.5,-214\"/>\n<text text-anchor=\"middle\" x=\"446\" y=\"-198.8\" font-family=\"Helvetica,sans-Serif\" font-size=\"14.00\">Pregnancies &lt;= 6.5</text>\n<text text-anchor=\"middle\" x=\"446\" y=\"-183.8\" font-family=\"Helvetica,sans-Serif\" font-size=\"14.00\">samples = 19.4%</text>\n<text text-anchor=\"middle\" x=\"446\" y=\"-168.8\" font-family=\"Helvetica,sans-Serif\" font-size=\"14.00\">value = [0.808, 0.192]</text>\n</g>\n<!-- 1&#45;&gt;9 -->\n<g id=\"edge7\" class=\"edge\">\n<title>1&#45;&gt;9</title>\n<path fill=\"none\" stroke=\"black\" d=\"M446,-249.87C446,-241.89 446,-232.93 446,-224.38\"/>\n<polygon fill=\"black\" stroke=\"black\" points=\"449.5,-224.25 446,-214.25 442.5,-224.25 449.5,-224.25\"/>\n</g>\n<!-- 3 -->\n<g id=\"node4\" class=\"node\">\n<title>3</title>\n<polygon fill=\"#e58139\" stroke=\"black\" points=\"122,-117.5 0,-117.5 0,-79.5 122,-79.5 122,-117.5\"/>\n<text text-anchor=\"middle\" x=\"61\" y=\"-102.3\" font-family=\"Helvetica,sans-Serif\" font-size=\"14.00\">samples = 13.3%</text>\n<text text-anchor=\"middle\" x=\"61\" y=\"-87.3\" font-family=\"Helvetica,sans-Serif\" font-size=\"14.00\">value = [1.0, 0.0]</text>\n</g>\n<!-- 2&#45;&gt;3 -->\n<g id=\"edge3\" class=\"edge\">\n<title>2&#45;&gt;3</title>\n<path fill=\"none\" stroke=\"black\" d=\"M171.74,-160.87C149.74,-148.68 123.65,-134.22 102.32,-122.4\"/>\n<polygon fill=\"black\" stroke=\"black\" points=\"103.94,-119.29 93.49,-117.51 100.55,-125.42 103.94,-119.29\"/>\n</g>\n<!-- 4 -->\n<g id=\"node5\" class=\"node\">\n<title>4</title>\n<polygon fill=\"#e88e4d\" stroke=\"black\" points=\"295.5,-125 140.5,-125 140.5,-72 295.5,-72 295.5,-125\"/>\n<text text-anchor=\"middle\" x=\"218\" y=\"-109.8\" font-family=\"Helvetica,sans-Serif\" font-size=\"14.00\">BloodPressure &lt;= 27.0</text>\n<text text-anchor=\"middle\" x=\"218\" y=\"-94.8\" font-family=\"Helvetica,sans-Serif\" font-size=\"14.00\">samples = 4.6%</text>\n<text text-anchor=\"middle\" x=\"218\" y=\"-79.8\" font-family=\"Helvetica,sans-Serif\" font-size=\"14.00\">value = [0.909, 0.091]</text>\n</g>\n<!-- 2&#45;&gt;4 -->\n<g id=\"edge4\" class=\"edge\">\n<title>2&#45;&gt;4</title>\n<path fill=\"none\" stroke=\"black\" d=\"M218,-160.87C218,-152.89 218,-143.93 218,-135.38\"/>\n<polygon fill=\"black\" stroke=\"black\" points=\"221.5,-135.25 218,-125.25 214.5,-135.25 221.5,-135.25\"/>\n</g>\n<!-- 5 -->\n<g id=\"node6\" class=\"node\">\n<title>5</title>\n<polygon fill=\"#c0c0c0\" stroke=\"black\" points=\"209,-36 155,-36 155,0 209,0 209,-36\"/>\n<text text-anchor=\"middle\" x=\"182\" y=\"-14.3\" font-family=\"Helvetica,sans-Serif\" font-size=\"14.00\">(...)</text>\n</g>\n<!-- 4&#45;&gt;5 -->\n<g id=\"edge5\" class=\"edge\">\n<title>4&#45;&gt;5</title>\n<path fill=\"none\" stroke=\"black\" d=\"M206.21,-71.8C202.34,-63.35 198.03,-53.95 194.13,-45.45\"/>\n<polygon fill=\"black\" stroke=\"black\" points=\"197.3,-43.96 189.95,-36.33 190.93,-46.88 197.3,-43.96\"/>\n</g>\n<!-- 8 -->\n<g id=\"node7\" class=\"node\">\n<title>8</title>\n<polygon fill=\"#c0c0c0\" stroke=\"black\" points=\"281,-36 227,-36 227,0 281,0 281,-36\"/>\n<text text-anchor=\"middle\" x=\"254\" y=\"-14.3\" font-family=\"Helvetica,sans-Serif\" font-size=\"14.00\">(...)</text>\n</g>\n<!-- 4&#45;&gt;8 -->\n<g id=\"edge6\" class=\"edge\">\n<title>4&#45;&gt;8</title>\n<path fill=\"none\" stroke=\"black\" d=\"M229.79,-71.8C233.66,-63.35 237.97,-53.95 241.87,-45.45\"/>\n<polygon fill=\"black\" stroke=\"black\" points=\"245.07,-46.88 246.05,-36.33 238.7,-43.96 245.07,-46.88\"/>\n</g>\n<!-- 10 -->\n<g id=\"node9\" class=\"node\">\n<title>10</title>\n<polygon fill=\"#e99457\" stroke=\"black\" points=\"460.5,-125 313.5,-125 313.5,-72 460.5,-72 460.5,-125\"/>\n<text text-anchor=\"middle\" x=\"387\" y=\"-109.8\" font-family=\"Helvetica,sans-Serif\" font-size=\"14.00\">BMI &lt;= 23.3</text>\n<text text-anchor=\"middle\" x=\"387\" y=\"-94.8\" font-family=\"Helvetica,sans-Serif\" font-size=\"14.00\">samples = 14.6%</text>\n<text text-anchor=\"middle\" x=\"387\" y=\"-79.8\" font-family=\"Helvetica,sans-Serif\" font-size=\"14.00\">value = [0.867, 0.133]</text>\n</g>\n<!-- 9&#45;&gt;10 -->\n<g id=\"edge8\" class=\"edge\">\n<title>9&#45;&gt;10</title>\n<path fill=\"none\" stroke=\"black\" d=\"M428.62,-160.87C422.85,-152.36 416.33,-142.75 410.19,-133.7\"/>\n<polygon fill=\"black\" stroke=\"black\" points=\"412.97,-131.56 404.46,-125.25 407.18,-135.49 412.97,-131.56\"/>\n</g>\n<!-- 37 -->\n<g id=\"node12\" class=\"node\">\n<title>37</title>\n<polygon fill=\"#f4caac\" stroke=\"black\" points=\"625.5,-125 478.5,-125 478.5,-72 625.5,-72 625.5,-125\"/>\n<text text-anchor=\"middle\" x=\"552\" y=\"-109.8\" font-family=\"Helvetica,sans-Serif\" font-size=\"14.00\">Age &lt;= 56.0</text>\n<text text-anchor=\"middle\" x=\"552\" y=\"-94.8\" font-family=\"Helvetica,sans-Serif\" font-size=\"14.00\">samples = 4.9%</text>\n<text text-anchor=\"middle\" x=\"552\" y=\"-79.8\" font-family=\"Helvetica,sans-Serif\" font-size=\"14.00\">value = [0.633, 0.367]</text>\n</g>\n<!-- 9&#45;&gt;37 -->\n<g id=\"edge11\" class=\"edge\">\n<title>9&#45;&gt;37</title>\n<path fill=\"none\" stroke=\"black\" d=\"M477.23,-160.87C488.34,-151.75 501.01,-141.35 512.71,-131.75\"/>\n<polygon fill=\"black\" stroke=\"black\" points=\"515.12,-134.3 520.63,-125.25 510.68,-128.89 515.12,-134.3\"/>\n</g>\n<!-- 11 -->\n<g id=\"node10\" class=\"node\">\n<title>11</title>\n<polygon fill=\"#c0c0c0\" stroke=\"black\" points=\"402,-36 348,-36 348,0 402,0 402,-36\"/>\n<text text-anchor=\"middle\" x=\"375\" y=\"-14.3\" font-family=\"Helvetica,sans-Serif\" font-size=\"14.00\">(...)</text>\n</g>\n<!-- 10&#45;&gt;11 -->\n<g id=\"edge9\" class=\"edge\">\n<title>10&#45;&gt;11</title>\n<path fill=\"none\" stroke=\"black\" d=\"M383.07,-71.8C381.82,-63.62 380.43,-54.55 379.17,-46.27\"/>\n<polygon fill=\"black\" stroke=\"black\" points=\"382.62,-45.69 377.65,-36.33 375.7,-46.74 382.62,-45.69\"/>\n</g>\n<!-- 12 -->\n<g id=\"node11\" class=\"node\">\n<title>12</title>\n<polygon fill=\"#c0c0c0\" stroke=\"black\" points=\"474,-36 420,-36 420,0 474,0 474,-36\"/>\n<text text-anchor=\"middle\" x=\"447\" y=\"-14.3\" font-family=\"Helvetica,sans-Serif\" font-size=\"14.00\">(...)</text>\n</g>\n<!-- 10&#45;&gt;12 -->\n<g id=\"edge10\" class=\"edge\">\n<title>10&#45;&gt;12</title>\n<path fill=\"none\" stroke=\"black\" d=\"M406.65,-71.8C413.38,-62.99 420.91,-53.14 427.62,-44.36\"/>\n<polygon fill=\"black\" stroke=\"black\" points=\"430.46,-46.4 433.75,-36.33 424.9,-42.15 430.46,-46.4\"/>\n</g>\n<!-- 38 -->\n<g id=\"node13\" class=\"node\">\n<title>38</title>\n<polygon fill=\"#c0c0c0\" stroke=\"black\" points=\"563,-36 509,-36 509,0 563,0 563,-36\"/>\n<text text-anchor=\"middle\" x=\"536\" y=\"-14.3\" font-family=\"Helvetica,sans-Serif\" font-size=\"14.00\">(...)</text>\n</g>\n<!-- 37&#45;&gt;38 -->\n<g id=\"edge12\" class=\"edge\">\n<title>37&#45;&gt;38</title>\n<path fill=\"none\" stroke=\"black\" d=\"M546.76,-71.8C545.09,-63.62 543.25,-54.55 541.56,-46.27\"/>\n<polygon fill=\"black\" stroke=\"black\" points=\"544.96,-45.43 539.53,-36.33 538.1,-46.83 544.96,-45.43\"/>\n</g>\n<!-- 49 -->\n<g id=\"node14\" class=\"node\">\n<title>49</title>\n<polygon fill=\"#c0c0c0\" stroke=\"black\" points=\"635,-36 581,-36 581,0 635,0 635,-36\"/>\n<text text-anchor=\"middle\" x=\"608\" y=\"-14.3\" font-family=\"Helvetica,sans-Serif\" font-size=\"14.00\">(...)</text>\n</g>\n<!-- 37&#45;&gt;49 -->\n<g id=\"edge13\" class=\"edge\">\n<title>37&#45;&gt;49</title>\n<path fill=\"none\" stroke=\"black\" d=\"M570.34,-71.8C576.56,-63.08 583.5,-53.34 589.72,-44.63\"/>\n<polygon fill=\"black\" stroke=\"black\" points=\"592.68,-46.5 595.64,-36.33 586.98,-42.44 592.68,-46.5\"/>\n</g>\n<!-- 51 -->\n<g id=\"node16\" class=\"node\">\n<title>51</title>\n<polygon fill=\"#f3c6a6\" stroke=\"black\" points=\"857.5,-214 710.5,-214 710.5,-161 857.5,-161 857.5,-214\"/>\n<text text-anchor=\"middle\" x=\"784\" y=\"-198.8\" font-family=\"Helvetica,sans-Serif\" font-size=\"14.00\">BMI &lt;= 47.3</text>\n<text text-anchor=\"middle\" x=\"784\" y=\"-183.8\" font-family=\"Helvetica,sans-Serif\" font-size=\"14.00\">samples = 40.4%</text>\n<text text-anchor=\"middle\" x=\"784\" y=\"-168.8\" font-family=\"Helvetica,sans-Serif\" font-size=\"14.00\">value = [0.645, 0.355]</text>\n</g>\n<!-- 50&#45;&gt;51 -->\n<g id=\"edge15\" class=\"edge\">\n<title>50&#45;&gt;51</title>\n<path fill=\"none\" stroke=\"black\" d=\"M784,-249.87C784,-241.89 784,-232.93 784,-224.38\"/>\n<polygon fill=\"black\" stroke=\"black\" points=\"787.5,-224.25 784,-214.25 780.5,-224.25 787.5,-224.25\"/>\n</g>\n<!-- 122 -->\n<g id=\"node21\" class=\"node\">\n<title>122</title>\n<polygon fill=\"#a4d2f3\" stroke=\"black\" points=\"1090.5,-214 943.5,-214 943.5,-161 1090.5,-161 1090.5,-214\"/>\n<text text-anchor=\"middle\" x=\"1017\" y=\"-198.8\" font-family=\"Helvetica,sans-Serif\" font-size=\"14.00\">Insulin &lt;= 619.5</text>\n<text text-anchor=\"middle\" x=\"1017\" y=\"-183.8\" font-family=\"Helvetica,sans-Serif\" font-size=\"14.00\">samples = 22.3%</text>\n<text text-anchor=\"middle\" x=\"1017\" y=\"-168.8\" font-family=\"Helvetica,sans-Serif\" font-size=\"14.00\">value = [0.351, 0.649]</text>\n</g>\n<!-- 50&#45;&gt;122 -->\n<g id=\"edge20\" class=\"edge\">\n<title>50&#45;&gt;122</title>\n<path fill=\"none\" stroke=\"black\" d=\"M852.33,-249.98C879.6,-239.8 911.14,-228.03 939.27,-217.52\"/>\n<polygon fill=\"black\" stroke=\"black\" points=\"940.52,-220.79 948.67,-214.01 938.08,-214.23 940.52,-220.79\"/>\n</g>\n<!-- 52 -->\n<g id=\"node17\" class=\"node\">\n<title>52</title>\n<polygon fill=\"#f2c09c\" stroke=\"black\" points=\"790.5,-125 643.5,-125 643.5,-72 790.5,-72 790.5,-125\"/>\n<text text-anchor=\"middle\" x=\"717\" y=\"-109.8\" font-family=\"Helvetica,sans-Serif\" font-size=\"14.00\">Glucose &lt;= 158.5</text>\n<text text-anchor=\"middle\" x=\"717\" y=\"-94.8\" font-family=\"Helvetica,sans-Serif\" font-size=\"14.00\">samples = 38.6%</text>\n<text text-anchor=\"middle\" x=\"717\" y=\"-79.8\" font-family=\"Helvetica,sans-Serif\" font-size=\"14.00\">value = [0.667, 0.333]</text>\n</g>\n<!-- 51&#45;&gt;52 -->\n<g id=\"edge16\" class=\"edge\">\n<title>51&#45;&gt;52</title>\n<path fill=\"none\" stroke=\"black\" d=\"M764.26,-160.87C757.64,-152.27 750.15,-142.55 743.12,-133.42\"/>\n<polygon fill=\"black\" stroke=\"black\" points=\"745.7,-131.04 736.83,-125.25 740.16,-135.31 745.7,-131.04\"/>\n</g>\n<!-- 121 -->\n<g id=\"node20\" class=\"node\">\n<title>121</title>\n<polygon fill=\"#399de5\" stroke=\"black\" points=\"925.5,-117.5 808.5,-117.5 808.5,-79.5 925.5,-79.5 925.5,-117.5\"/>\n<text text-anchor=\"middle\" x=\"867\" y=\"-102.3\" font-family=\"Helvetica,sans-Serif\" font-size=\"14.00\">samples = 1.8%</text>\n<text text-anchor=\"middle\" x=\"867\" y=\"-87.3\" font-family=\"Helvetica,sans-Serif\" font-size=\"14.00\">value = [0.0, 1.0]</text>\n</g>\n<!-- 51&#45;&gt;121 -->\n<g id=\"edge19\" class=\"edge\">\n<title>51&#45;&gt;121</title>\n<path fill=\"none\" stroke=\"black\" d=\"M808.45,-160.87C819.25,-149.55 831.92,-136.27 842.7,-124.97\"/>\n<polygon fill=\"black\" stroke=\"black\" points=\"845.45,-127.16 849.82,-117.51 840.39,-122.33 845.45,-127.16\"/>\n</g>\n<!-- 53 -->\n<g id=\"node18\" class=\"node\">\n<title>53</title>\n<polygon fill=\"#c0c0c0\" stroke=\"black\" points=\"726,-36 672,-36 672,0 726,0 726,-36\"/>\n<text text-anchor=\"middle\" x=\"699\" y=\"-14.3\" font-family=\"Helvetica,sans-Serif\" font-size=\"14.00\">(...)</text>\n</g>\n<!-- 52&#45;&gt;53 -->\n<g id=\"edge17\" class=\"edge\">\n<title>52&#45;&gt;53</title>\n<path fill=\"none\" stroke=\"black\" d=\"M711.11,-71.8C709.23,-63.62 707.15,-54.55 705.25,-46.27\"/>\n<polygon fill=\"black\" stroke=\"black\" points=\"708.62,-45.3 702.97,-36.33 701.8,-46.86 708.62,-45.3\"/>\n</g>\n<!-- 114 -->\n<g id=\"node19\" class=\"node\">\n<title>114</title>\n<polygon fill=\"#c0c0c0\" stroke=\"black\" points=\"798,-36 744,-36 744,0 798,0 798,-36\"/>\n<text text-anchor=\"middle\" x=\"771\" y=\"-14.3\" font-family=\"Helvetica,sans-Serif\" font-size=\"14.00\">(...)</text>\n</g>\n<!-- 52&#45;&gt;114 -->\n<g id=\"edge18\" class=\"edge\">\n<title>52&#45;&gt;114</title>\n<path fill=\"none\" stroke=\"black\" d=\"M734.68,-71.8C740.68,-63.08 747.38,-53.34 753.37,-44.63\"/>\n<polygon fill=\"black\" stroke=\"black\" points=\"756.29,-46.55 759.08,-36.33 750.53,-42.59 756.29,-46.55\"/>\n</g>\n<!-- 123 -->\n<g id=\"node22\" class=\"node\">\n<title>123</title>\n<polygon fill=\"#9dcff2\" stroke=\"black\" points=\"1090.5,-125 943.5,-125 943.5,-72 1090.5,-72 1090.5,-125\"/>\n<text text-anchor=\"middle\" x=\"1017\" y=\"-109.8\" font-family=\"Helvetica,sans-Serif\" font-size=\"14.00\">Pregnancies &lt;= 8.5</text>\n<text text-anchor=\"middle\" x=\"1017\" y=\"-94.8\" font-family=\"Helvetica,sans-Serif\" font-size=\"14.00\">samples = 22.0%</text>\n<text text-anchor=\"middle\" x=\"1017\" y=\"-79.8\" font-family=\"Helvetica,sans-Serif\" font-size=\"14.00\">value = [0.336, 0.664]</text>\n</g>\n<!-- 122&#45;&gt;123 -->\n<g id=\"edge21\" class=\"edge\">\n<title>122&#45;&gt;123</title>\n<path fill=\"none\" stroke=\"black\" d=\"M1017,-160.87C1017,-152.89 1017,-143.93 1017,-135.38\"/>\n<polygon fill=\"black\" stroke=\"black\" points=\"1020.5,-135.25 1017,-125.25 1013.5,-135.25 1020.5,-135.25\"/>\n</g>\n<!-- 172 -->\n<g id=\"node25\" class=\"node\">\n<title>172</title>\n<polygon fill=\"#e58139\" stroke=\"black\" points=\"1225.5,-117.5 1108.5,-117.5 1108.5,-79.5 1225.5,-79.5 1225.5,-117.5\"/>\n<text text-anchor=\"middle\" x=\"1167\" y=\"-102.3\" font-family=\"Helvetica,sans-Serif\" font-size=\"14.00\">samples = 0.3%</text>\n<text text-anchor=\"middle\" x=\"1167\" y=\"-87.3\" font-family=\"Helvetica,sans-Serif\" font-size=\"14.00\">value = [1.0, 0.0]</text>\n</g>\n<!-- 122&#45;&gt;172 -->\n<g id=\"edge24\" class=\"edge\">\n<title>122&#45;&gt;172</title>\n<path fill=\"none\" stroke=\"black\" d=\"M1061.19,-160.87C1082.12,-148.73 1106.92,-134.35 1127.25,-122.55\"/>\n<polygon fill=\"black\" stroke=\"black\" points=\"1129.06,-125.55 1135.95,-117.51 1125.55,-119.5 1129.06,-125.55\"/>\n</g>\n<!-- 124 -->\n<g id=\"node23\" class=\"node\">\n<title>124</title>\n<polygon fill=\"#c0c0c0\" stroke=\"black\" points=\"1008,-36 954,-36 954,0 1008,0 1008,-36\"/>\n<text text-anchor=\"middle\" x=\"981\" y=\"-14.3\" font-family=\"Helvetica,sans-Serif\" font-size=\"14.00\">(...)</text>\n</g>\n<!-- 123&#45;&gt;124 -->\n<g id=\"edge22\" class=\"edge\">\n<title>123&#45;&gt;124</title>\n<path fill=\"none\" stroke=\"black\" d=\"M1005.21,-71.8C1001.34,-63.35 997.03,-53.95 993.13,-45.45\"/>\n<polygon fill=\"black\" stroke=\"black\" points=\"996.3,-43.96 988.95,-36.33 989.93,-46.88 996.3,-43.96\"/>\n</g>\n<!-- 171 -->\n<g id=\"node24\" class=\"node\">\n<title>171</title>\n<polygon fill=\"#c0c0c0\" stroke=\"black\" points=\"1080,-36 1026,-36 1026,0 1080,0 1080,-36\"/>\n<text text-anchor=\"middle\" x=\"1053\" y=\"-14.3\" font-family=\"Helvetica,sans-Serif\" font-size=\"14.00\">(...)</text>\n</g>\n<!-- 123&#45;&gt;171 -->\n<g id=\"edge23\" class=\"edge\">\n<title>123&#45;&gt;171</title>\n<path fill=\"none\" stroke=\"black\" d=\"M1028.79,-71.8C1032.66,-63.35 1036.97,-53.95 1040.87,-45.45\"/>\n<polygon fill=\"black\" stroke=\"black\" points=\"1044.07,-46.88 1045.05,-36.33 1037.7,-43.96 1044.07,-46.88\"/>\n</g>\n</g>\n</svg>\n",
            "text/plain": [
              "<graphviz.sources.Source at 0x7f56f6b42c50>"
            ]
          },
          "metadata": {}
        },
        {
          "output_type": "display_data",
          "data": {
            "image/svg+xml": "<?xml version=\"1.0\" encoding=\"UTF-8\" standalone=\"no\"?>\n<!DOCTYPE svg PUBLIC \"-//W3C//DTD SVG 1.1//EN\"\n \"http://www.w3.org/Graphics/SVG/1.1/DTD/svg11.dtd\">\n<!-- Generated by graphviz version 2.43.0 (0)\n -->\n<!-- Title: Tree Pages: 1 -->\n<svg width=\"1422pt\" height=\"400pt\"\n viewBox=\"0.00 0.00 1422.00 400.00\" xmlns=\"http://www.w3.org/2000/svg\" xmlns:xlink=\"http://www.w3.org/1999/xlink\">\n<g id=\"graph0\" class=\"graph\" transform=\"scale(1 1) rotate(0) translate(4 396)\">\n<title>Tree</title>\n<polygon fill=\"white\" stroke=\"transparent\" points=\"-4,4 -4,-396 1418,-396 1418,4 -4,4\"/>\n<!-- 0 -->\n<g id=\"node1\" class=\"node\">\n<title>0</title>\n<polygon fill=\"#f4c9ab\" stroke=\"black\" points=\"662,-392 515,-392 515,-339 662,-339 662,-392\"/>\n<text text-anchor=\"middle\" x=\"588.5\" y=\"-376.8\" font-family=\"Helvetica,sans-Serif\" font-size=\"14.00\">Age &lt;= 27.5</text>\n<text text-anchor=\"middle\" x=\"588.5\" y=\"-361.8\" font-family=\"Helvetica,sans-Serif\" font-size=\"14.00\">samples = 100.0%</text>\n<text text-anchor=\"middle\" x=\"588.5\" y=\"-346.8\" font-family=\"Helvetica,sans-Serif\" font-size=\"14.00\">value = [0.635, 0.365]</text>\n</g>\n<!-- 1 -->\n<g id=\"node2\" class=\"node\">\n<title>1</title>\n<polygon fill=\"#eb9d65\" stroke=\"black\" points=\"503,-303 348,-303 348,-250 503,-250 503,-303\"/>\n<text text-anchor=\"middle\" x=\"425.5\" y=\"-287.8\" font-family=\"Helvetica,sans-Serif\" font-size=\"14.00\">BloodPressure &lt;= 34.0</text>\n<text text-anchor=\"middle\" x=\"425.5\" y=\"-272.8\" font-family=\"Helvetica,sans-Serif\" font-size=\"14.00\">samples = 43.1%</text>\n<text text-anchor=\"middle\" x=\"425.5\" y=\"-257.8\" font-family=\"Helvetica,sans-Serif\" font-size=\"14.00\">value = [0.817, 0.183]</text>\n</g>\n<!-- 0&#45;&gt;1 -->\n<g id=\"edge1\" class=\"edge\">\n<title>0&#45;&gt;1</title>\n<path fill=\"none\" stroke=\"black\" d=\"M540.48,-338.87C522.24,-329.13 501.29,-317.95 482.31,-307.82\"/>\n<polygon fill=\"black\" stroke=\"black\" points=\"483.93,-304.72 473.46,-303.1 480.64,-310.9 483.93,-304.72\"/>\n<text text-anchor=\"middle\" x=\"480.73\" y=\"-323.32\" font-family=\"Helvetica,sans-Serif\" font-size=\"14.00\">True</text>\n</g>\n<!-- 66 -->\n<g id=\"node13\" class=\"node\">\n<title>66</title>\n<polygon fill=\"#fafdfe\" stroke=\"black\" points=\"851,-303 704,-303 704,-250 851,-250 851,-303\"/>\n<text text-anchor=\"middle\" x=\"777.5\" y=\"-287.8\" font-family=\"Helvetica,sans-Serif\" font-size=\"14.00\">BMI &lt;= 27.35</text>\n<text text-anchor=\"middle\" x=\"777.5\" y=\"-272.8\" font-family=\"Helvetica,sans-Serif\" font-size=\"14.00\">samples = 56.9%</text>\n<text text-anchor=\"middle\" x=\"777.5\" y=\"-257.8\" font-family=\"Helvetica,sans-Serif\" font-size=\"14.00\">value = [0.494, 0.506]</text>\n</g>\n<!-- 0&#45;&gt;66 -->\n<g id=\"edge12\" class=\"edge\">\n<title>0&#45;&gt;66</title>\n<path fill=\"none\" stroke=\"black\" d=\"M643.93,-338.98C665.56,-329.03 690.52,-317.54 712.96,-307.21\"/>\n<polygon fill=\"black\" stroke=\"black\" points=\"714.45,-310.38 722.07,-303.01 711.52,-304.02 714.45,-310.38\"/>\n<text text-anchor=\"middle\" x=\"713.41\" y=\"-322.76\" font-family=\"Helvetica,sans-Serif\" font-size=\"14.00\">False</text>\n</g>\n<!-- 2 -->\n<g id=\"node3\" class=\"node\">\n<title>2</title>\n<polygon fill=\"#6ab6ec\" stroke=\"black\" points=\"252,-214 135,-214 135,-161 252,-161 252,-214\"/>\n<text text-anchor=\"middle\" x=\"193.5\" y=\"-198.8\" font-family=\"Helvetica,sans-Serif\" font-size=\"14.00\">Age &lt;= 22.5</text>\n<text text-anchor=\"middle\" x=\"193.5\" y=\"-183.8\" font-family=\"Helvetica,sans-Serif\" font-size=\"14.00\">samples = 1.3%</text>\n<text text-anchor=\"middle\" x=\"193.5\" y=\"-168.8\" font-family=\"Helvetica,sans-Serif\" font-size=\"14.00\">value = [0.2, 0.8]</text>\n</g>\n<!-- 1&#45;&gt;2 -->\n<g id=\"edge2\" class=\"edge\">\n<title>1&#45;&gt;2</title>\n<path fill=\"none\" stroke=\"black\" d=\"M357.46,-249.98C327.3,-238.67 291.89,-225.39 261.7,-214.08\"/>\n<polygon fill=\"black\" stroke=\"black\" points=\"262.7,-210.71 252.1,-210.48 260.24,-217.26 262.7,-210.71\"/>\n</g>\n<!-- 5 -->\n<g id=\"node6\" class=\"node\">\n<title>5</title>\n<polygon fill=\"#ea995e\" stroke=\"black\" points=\"502.5,-214 348.5,-214 348.5,-161 502.5,-161 502.5,-214\"/>\n<text text-anchor=\"middle\" x=\"425.5\" y=\"-198.8\" font-family=\"Helvetica,sans-Serif\" font-size=\"14.00\">SkinThickness &lt;= 30.5</text>\n<text text-anchor=\"middle\" x=\"425.5\" y=\"-183.8\" font-family=\"Helvetica,sans-Serif\" font-size=\"14.00\">samples = 41.9%</text>\n<text text-anchor=\"middle\" x=\"425.5\" y=\"-168.8\" font-family=\"Helvetica,sans-Serif\" font-size=\"14.00\">value = [0.841, 0.159]</text>\n</g>\n<!-- 1&#45;&gt;5 -->\n<g id=\"edge5\" class=\"edge\">\n<title>1&#45;&gt;5</title>\n<path fill=\"none\" stroke=\"black\" d=\"M425.5,-249.87C425.5,-241.89 425.5,-232.93 425.5,-224.38\"/>\n<polygon fill=\"black\" stroke=\"black\" points=\"429,-224.25 425.5,-214.25 422,-224.25 429,-224.25\"/>\n</g>\n<!-- 3 -->\n<g id=\"node4\" class=\"node\">\n<title>3</title>\n<polygon fill=\"#e58139\" stroke=\"black\" points=\"117,-117.5 0,-117.5 0,-79.5 117,-79.5 117,-117.5\"/>\n<text text-anchor=\"middle\" x=\"58.5\" y=\"-102.3\" font-family=\"Helvetica,sans-Serif\" font-size=\"14.00\">samples = 0.3%</text>\n<text text-anchor=\"middle\" x=\"58.5\" y=\"-87.3\" font-family=\"Helvetica,sans-Serif\" font-size=\"14.00\">value = [1.0, 0.0]</text>\n</g>\n<!-- 2&#45;&gt;3 -->\n<g id=\"edge3\" class=\"edge\">\n<title>2&#45;&gt;3</title>\n<path fill=\"none\" stroke=\"black\" d=\"M153.73,-160.87C135.14,-148.89 113.17,-134.73 95.02,-123.03\"/>\n<polygon fill=\"black\" stroke=\"black\" points=\"96.74,-119.98 86.44,-117.51 92.95,-125.87 96.74,-119.98\"/>\n</g>\n<!-- 4 -->\n<g id=\"node5\" class=\"node\">\n<title>4</title>\n<polygon fill=\"#399de5\" stroke=\"black\" points=\"252,-117.5 135,-117.5 135,-79.5 252,-79.5 252,-117.5\"/>\n<text text-anchor=\"middle\" x=\"193.5\" y=\"-102.3\" font-family=\"Helvetica,sans-Serif\" font-size=\"14.00\">samples = 1.0%</text>\n<text text-anchor=\"middle\" x=\"193.5\" y=\"-87.3\" font-family=\"Helvetica,sans-Serif\" font-size=\"14.00\">value = [0.0, 1.0]</text>\n</g>\n<!-- 2&#45;&gt;4 -->\n<g id=\"edge4\" class=\"edge\">\n<title>2&#45;&gt;4</title>\n<path fill=\"none\" stroke=\"black\" d=\"M193.5,-160.87C193.5,-150.42 193.5,-138.3 193.5,-127.61\"/>\n<polygon fill=\"black\" stroke=\"black\" points=\"197,-127.51 193.5,-117.51 190,-127.51 197,-127.51\"/>\n</g>\n<!-- 6 -->\n<g id=\"node7\" class=\"node\">\n<title>6</title>\n<polygon fill=\"#e78c4a\" stroke=\"black\" points=\"417,-125 270,-125 270,-72 417,-72 417,-125\"/>\n<text text-anchor=\"middle\" x=\"343.5\" y=\"-109.8\" font-family=\"Helvetica,sans-Serif\" font-size=\"14.00\">Glucose &lt;= 133.0</text>\n<text text-anchor=\"middle\" x=\"343.5\" y=\"-94.8\" font-family=\"Helvetica,sans-Serif\" font-size=\"14.00\">samples = 30.7%</text>\n<text text-anchor=\"middle\" x=\"343.5\" y=\"-79.8\" font-family=\"Helvetica,sans-Serif\" font-size=\"14.00\">value = [0.923, 0.077]</text>\n</g>\n<!-- 5&#45;&gt;6 -->\n<g id=\"edge6\" class=\"edge\">\n<title>5&#45;&gt;6</title>\n<path fill=\"none\" stroke=\"black\" d=\"M401.34,-160.87C392.99,-152.01 383.51,-141.95 374.68,-132.58\"/>\n<polygon fill=\"black\" stroke=\"black\" points=\"377.18,-130.13 367.77,-125.25 372.08,-134.93 377.18,-130.13\"/>\n</g>\n<!-- 37 -->\n<g id=\"node10\" class=\"node\">\n<title>37</title>\n<polygon fill=\"#f3c5a4\" stroke=\"black\" points=\"582,-125 435,-125 435,-72 582,-72 582,-125\"/>\n<text text-anchor=\"middle\" x=\"508.5\" y=\"-109.8\" font-family=\"Helvetica,sans-Serif\" font-size=\"14.00\">Glucose &lt;= 127.5</text>\n<text text-anchor=\"middle\" x=\"508.5\" y=\"-94.8\" font-family=\"Helvetica,sans-Serif\" font-size=\"14.00\">samples = 11.2%</text>\n<text text-anchor=\"middle\" x=\"508.5\" y=\"-79.8\" font-family=\"Helvetica,sans-Serif\" font-size=\"14.00\">value = [0.649, 0.351]</text>\n</g>\n<!-- 5&#45;&gt;37 -->\n<g id=\"edge9\" class=\"edge\">\n<title>5&#45;&gt;37</title>\n<path fill=\"none\" stroke=\"black\" d=\"M449.95,-160.87C458.41,-152.01 468,-141.95 476.94,-132.58\"/>\n<polygon fill=\"black\" stroke=\"black\" points=\"479.56,-134.9 483.93,-125.25 474.5,-130.07 479.56,-134.9\"/>\n</g>\n<!-- 7 -->\n<g id=\"node8\" class=\"node\">\n<title>7</title>\n<polygon fill=\"#c0c0c0\" stroke=\"black\" points=\"308.5,-36 254.5,-36 254.5,0 308.5,0 308.5,-36\"/>\n<text text-anchor=\"middle\" x=\"281.5\" y=\"-14.3\" font-family=\"Helvetica,sans-Serif\" font-size=\"14.00\">(...)</text>\n</g>\n<!-- 6&#45;&gt;7 -->\n<g id=\"edge7\" class=\"edge\">\n<title>6&#45;&gt;7</title>\n<path fill=\"none\" stroke=\"black\" d=\"M323.2,-71.8C316.24,-62.99 308.46,-53.14 301.53,-44.36\"/>\n<polygon fill=\"black\" stroke=\"black\" points=\"304.13,-42.01 295.19,-36.33 298.64,-46.35 304.13,-42.01\"/>\n</g>\n<!-- 26 -->\n<g id=\"node9\" class=\"node\">\n<title>26</title>\n<polygon fill=\"#c0c0c0\" stroke=\"black\" points=\"380.5,-36 326.5,-36 326.5,0 380.5,0 380.5,-36\"/>\n<text text-anchor=\"middle\" x=\"353.5\" y=\"-14.3\" font-family=\"Helvetica,sans-Serif\" font-size=\"14.00\">(...)</text>\n</g>\n<!-- 6&#45;&gt;26 -->\n<g id=\"edge8\" class=\"edge\">\n<title>6&#45;&gt;26</title>\n<path fill=\"none\" stroke=\"black\" d=\"M346.77,-71.8C347.82,-63.62 348.97,-54.55 350.03,-46.27\"/>\n<polygon fill=\"black\" stroke=\"black\" points=\"353.5,-46.69 351.29,-36.33 346.56,-45.81 353.5,-46.69\"/>\n</g>\n<!-- 38 -->\n<g id=\"node11\" class=\"node\">\n<title>38</title>\n<polygon fill=\"#c0c0c0\" stroke=\"black\" points=\"473.5,-36 419.5,-36 419.5,0 473.5,0 473.5,-36\"/>\n<text text-anchor=\"middle\" x=\"446.5\" y=\"-14.3\" font-family=\"Helvetica,sans-Serif\" font-size=\"14.00\">(...)</text>\n</g>\n<!-- 37&#45;&gt;38 -->\n<g id=\"edge10\" class=\"edge\">\n<title>37&#45;&gt;38</title>\n<path fill=\"none\" stroke=\"black\" d=\"M488.2,-71.8C481.24,-62.99 473.46,-53.14 466.53,-44.36\"/>\n<polygon fill=\"black\" stroke=\"black\" points=\"469.13,-42.01 460.19,-36.33 463.64,-46.35 469.13,-42.01\"/>\n</g>\n<!-- 53 -->\n<g id=\"node12\" class=\"node\">\n<title>53</title>\n<polygon fill=\"#c0c0c0\" stroke=\"black\" points=\"545.5,-36 491.5,-36 491.5,0 545.5,0 545.5,-36\"/>\n<text text-anchor=\"middle\" x=\"518.5\" y=\"-14.3\" font-family=\"Helvetica,sans-Serif\" font-size=\"14.00\">(...)</text>\n</g>\n<!-- 37&#45;&gt;53 -->\n<g id=\"edge11\" class=\"edge\">\n<title>37&#45;&gt;53</title>\n<path fill=\"none\" stroke=\"black\" d=\"M511.77,-71.8C512.82,-63.62 513.97,-54.55 515.03,-46.27\"/>\n<polygon fill=\"black\" stroke=\"black\" points=\"518.5,-46.69 516.29,-36.33 511.56,-45.81 518.5,-46.69\"/>\n</g>\n<!-- 67 -->\n<g id=\"node14\" class=\"node\">\n<title>67</title>\n<polygon fill=\"#e99559\" stroke=\"black\" points=\"851,-214 704,-214 704,-161 851,-161 851,-214\"/>\n<text text-anchor=\"middle\" x=\"777.5\" y=\"-198.8\" font-family=\"Helvetica,sans-Serif\" font-size=\"14.00\">Age &lt;= 49.0</text>\n<text text-anchor=\"middle\" x=\"777.5\" y=\"-183.8\" font-family=\"Helvetica,sans-Serif\" font-size=\"14.00\">samples = 10.4%</text>\n<text text-anchor=\"middle\" x=\"777.5\" y=\"-168.8\" font-family=\"Helvetica,sans-Serif\" font-size=\"14.00\">value = [0.862, 0.138]</text>\n</g>\n<!-- 66&#45;&gt;67 -->\n<g id=\"edge13\" class=\"edge\">\n<title>66&#45;&gt;67</title>\n<path fill=\"none\" stroke=\"black\" d=\"M777.5,-249.87C777.5,-241.89 777.5,-232.93 777.5,-224.38\"/>\n<polygon fill=\"black\" stroke=\"black\" points=\"781,-224.25 777.5,-214.25 774,-224.25 781,-224.25\"/>\n</g>\n<!-- 90 -->\n<g id=\"node21\" class=\"node\">\n<title>90</title>\n<polygon fill=\"#c8e4f8\" stroke=\"black\" points=\"1198.5,-214 1066.5,-214 1066.5,-161 1198.5,-161 1198.5,-214\"/>\n<text text-anchor=\"middle\" x=\"1132.5\" y=\"-198.8\" font-family=\"Helvetica,sans-Serif\" font-size=\"14.00\">Glucose &lt;= 132.5</text>\n<text text-anchor=\"middle\" x=\"1132.5\" y=\"-183.8\" font-family=\"Helvetica,sans-Serif\" font-size=\"14.00\">samples = 46.4%</text>\n<text text-anchor=\"middle\" x=\"1132.5\" y=\"-168.8\" font-family=\"Helvetica,sans-Serif\" font-size=\"14.00\">value = [0.42, 0.58]</text>\n</g>\n<!-- 66&#45;&gt;90 -->\n<g id=\"edge20\" class=\"edge\">\n<title>66&#45;&gt;90</title>\n<path fill=\"none\" stroke=\"black\" d=\"M851.06,-257.47C911.08,-242.76 995.59,-222.05 1056.31,-207.17\"/>\n<polygon fill=\"black\" stroke=\"black\" points=\"1057.34,-210.52 1066.22,-204.74 1055.68,-203.72 1057.34,-210.52\"/>\n</g>\n<!-- 68 -->\n<g id=\"node15\" class=\"node\">\n<title>68</title>\n<polygon fill=\"#e78c49\" stroke=\"black\" points=\"747,-125 600,-125 600,-72 747,-72 747,-125\"/>\n<text text-anchor=\"middle\" x=\"673.5\" y=\"-109.8\" font-family=\"Helvetica,sans-Serif\" font-size=\"14.00\">BMI &lt;= 9.65</text>\n<text text-anchor=\"middle\" x=\"673.5\" y=\"-94.8\" font-family=\"Helvetica,sans-Serif\" font-size=\"14.00\">samples = 6.6%</text>\n<text text-anchor=\"middle\" x=\"673.5\" y=\"-79.8\" font-family=\"Helvetica,sans-Serif\" font-size=\"14.00\">value = [0.923, 0.077]</text>\n</g>\n<!-- 67&#45;&gt;68 -->\n<g id=\"edge14\" class=\"edge\">\n<title>67&#45;&gt;68</title>\n<path fill=\"none\" stroke=\"black\" d=\"M746.86,-160.87C735.95,-151.75 723.53,-141.35 712.05,-131.75\"/>\n<polygon fill=\"black\" stroke=\"black\" points=\"714.2,-128.98 704.28,-125.25 709.71,-134.35 714.2,-128.98\"/>\n</g>\n<!-- 77 -->\n<g id=\"node18\" class=\"node\">\n<title>77</title>\n<polygon fill=\"#eeae80\" stroke=\"black\" points=\"998,-125 765,-125 765,-72 998,-72 998,-125\"/>\n<text text-anchor=\"middle\" x=\"881.5\" y=\"-109.8\" font-family=\"Helvetica,sans-Serif\" font-size=\"14.00\">DiabetesPedigreeFunction &lt;= 0.231</text>\n<text text-anchor=\"middle\" x=\"881.5\" y=\"-94.8\" font-family=\"Helvetica,sans-Serif\" font-size=\"14.00\">samples = 3.8%</text>\n<text text-anchor=\"middle\" x=\"881.5\" y=\"-79.8\" font-family=\"Helvetica,sans-Serif\" font-size=\"14.00\">value = [0.737, 0.263]</text>\n</g>\n<!-- 67&#45;&gt;77 -->\n<g id=\"edge17\" class=\"edge\">\n<title>67&#45;&gt;77</title>\n<path fill=\"none\" stroke=\"black\" d=\"M808.14,-160.87C819.05,-151.75 831.47,-141.35 842.95,-131.75\"/>\n<polygon fill=\"black\" stroke=\"black\" points=\"845.29,-134.35 850.72,-125.25 840.8,-128.98 845.29,-134.35\"/>\n</g>\n<!-- 69 -->\n<g id=\"node16\" class=\"node\">\n<title>69</title>\n<polygon fill=\"#c0c0c0\" stroke=\"black\" points=\"660.5,-36 606.5,-36 606.5,0 660.5,0 660.5,-36\"/>\n<text text-anchor=\"middle\" x=\"633.5\" y=\"-14.3\" font-family=\"Helvetica,sans-Serif\" font-size=\"14.00\">(...)</text>\n</g>\n<!-- 68&#45;&gt;69 -->\n<g id=\"edge15\" class=\"edge\">\n<title>68&#45;&gt;69</title>\n<path fill=\"none\" stroke=\"black\" d=\"M660.4,-71.8C656.1,-63.35 651.31,-53.95 646.98,-45.45\"/>\n<polygon fill=\"black\" stroke=\"black\" points=\"649.99,-43.65 642.33,-36.33 643.75,-46.83 649.99,-43.65\"/>\n</g>\n<!-- 70 -->\n<g id=\"node17\" class=\"node\">\n<title>70</title>\n<polygon fill=\"#c0c0c0\" stroke=\"black\" points=\"732.5,-36 678.5,-36 678.5,0 732.5,0 732.5,-36\"/>\n<text text-anchor=\"middle\" x=\"705.5\" y=\"-14.3\" font-family=\"Helvetica,sans-Serif\" font-size=\"14.00\">(...)</text>\n</g>\n<!-- 68&#45;&gt;70 -->\n<g id=\"edge16\" class=\"edge\">\n<title>68&#45;&gt;70</title>\n<path fill=\"none\" stroke=\"black\" d=\"M683.98,-71.8C687.38,-63.44 691.17,-54.15 694.61,-45.72\"/>\n<polygon fill=\"black\" stroke=\"black\" points=\"697.9,-46.91 698.44,-36.33 691.42,-44.27 697.9,-46.91\"/>\n</g>\n<!-- 78 -->\n<g id=\"node19\" class=\"node\">\n<title>78</title>\n<polygon fill=\"#c0c0c0\" stroke=\"black\" points=\"872.5,-36 818.5,-36 818.5,0 872.5,0 872.5,-36\"/>\n<text text-anchor=\"middle\" x=\"845.5\" y=\"-14.3\" font-family=\"Helvetica,sans-Serif\" font-size=\"14.00\">(...)</text>\n</g>\n<!-- 77&#45;&gt;78 -->\n<g id=\"edge18\" class=\"edge\">\n<title>77&#45;&gt;78</title>\n<path fill=\"none\" stroke=\"black\" d=\"M869.71,-71.8C865.84,-63.35 861.53,-53.95 857.63,-45.45\"/>\n<polygon fill=\"black\" stroke=\"black\" points=\"860.8,-43.96 853.45,-36.33 854.43,-46.88 860.8,-43.96\"/>\n</g>\n<!-- 83 -->\n<g id=\"node20\" class=\"node\">\n<title>83</title>\n<polygon fill=\"#c0c0c0\" stroke=\"black\" points=\"944.5,-36 890.5,-36 890.5,0 944.5,0 944.5,-36\"/>\n<text text-anchor=\"middle\" x=\"917.5\" y=\"-14.3\" font-family=\"Helvetica,sans-Serif\" font-size=\"14.00\">(...)</text>\n</g>\n<!-- 77&#45;&gt;83 -->\n<g id=\"edge19\" class=\"edge\">\n<title>77&#45;&gt;83</title>\n<path fill=\"none\" stroke=\"black\" d=\"M893.29,-71.8C897.16,-63.35 901.47,-53.95 905.37,-45.45\"/>\n<polygon fill=\"black\" stroke=\"black\" points=\"908.57,-46.88 909.55,-36.33 902.2,-43.96 908.57,-46.88\"/>\n</g>\n<!-- 91 -->\n<g id=\"node22\" class=\"node\">\n<title>91</title>\n<polygon fill=\"#f6d2b8\" stroke=\"black\" points=\"1249,-125 1016,-125 1016,-72 1249,-72 1249,-125\"/>\n<text text-anchor=\"middle\" x=\"1132.5\" y=\"-109.8\" font-family=\"Helvetica,sans-Serif\" font-size=\"14.00\">DiabetesPedigreeFunction &lt;= 0.739</text>\n<text text-anchor=\"middle\" x=\"1132.5\" y=\"-94.8\" font-family=\"Helvetica,sans-Serif\" font-size=\"14.00\">samples = 26.4%</text>\n<text text-anchor=\"middle\" x=\"1132.5\" y=\"-79.8\" font-family=\"Helvetica,sans-Serif\" font-size=\"14.00\">value = [0.609, 0.391]</text>\n</g>\n<!-- 90&#45;&gt;91 -->\n<g id=\"edge21\" class=\"edge\">\n<title>90&#45;&gt;91</title>\n<path fill=\"none\" stroke=\"black\" d=\"M1132.5,-160.87C1132.5,-152.89 1132.5,-143.93 1132.5,-135.38\"/>\n<polygon fill=\"black\" stroke=\"black\" points=\"1136,-135.25 1132.5,-125.25 1129,-135.25 1136,-135.25\"/>\n</g>\n<!-- 166 -->\n<g id=\"node25\" class=\"node\">\n<title>166</title>\n<polygon fill=\"#6ab5eb\" stroke=\"black\" points=\"1414,-125 1267,-125 1267,-72 1414,-72 1414,-125\"/>\n<text text-anchor=\"middle\" x=\"1340.5\" y=\"-109.8\" font-family=\"Helvetica,sans-Serif\" font-size=\"14.00\">BMI &lt;= 30.05</text>\n<text text-anchor=\"middle\" x=\"1340.5\" y=\"-94.8\" font-family=\"Helvetica,sans-Serif\" font-size=\"14.00\">samples = 20.1%</text>\n<text text-anchor=\"middle\" x=\"1340.5\" y=\"-79.8\" font-family=\"Helvetica,sans-Serif\" font-size=\"14.00\">value = [0.197, 0.803]</text>\n</g>\n<!-- 90&#45;&gt;166 -->\n<g id=\"edge24\" class=\"edge\">\n<title>90&#45;&gt;166</title>\n<path fill=\"none\" stroke=\"black\" d=\"M1193.5,-160.98C1217.52,-150.94 1245.26,-139.34 1270.12,-128.94\"/>\n<polygon fill=\"black\" stroke=\"black\" points=\"1271.62,-132.1 1279.5,-125.01 1268.92,-125.64 1271.62,-132.1\"/>\n</g>\n<!-- 92 -->\n<g id=\"node23\" class=\"node\">\n<title>92</title>\n<polygon fill=\"#c0c0c0\" stroke=\"black\" points=\"1123.5,-36 1069.5,-36 1069.5,0 1123.5,0 1123.5,-36\"/>\n<text text-anchor=\"middle\" x=\"1096.5\" y=\"-14.3\" font-family=\"Helvetica,sans-Serif\" font-size=\"14.00\">(...)</text>\n</g>\n<!-- 91&#45;&gt;92 -->\n<g id=\"edge22\" class=\"edge\">\n<title>91&#45;&gt;92</title>\n<path fill=\"none\" stroke=\"black\" d=\"M1120.71,-71.8C1116.84,-63.35 1112.53,-53.95 1108.63,-45.45\"/>\n<polygon fill=\"black\" stroke=\"black\" points=\"1111.8,-43.96 1104.45,-36.33 1105.43,-46.88 1111.8,-43.96\"/>\n</g>\n<!-- 157 -->\n<g id=\"node24\" class=\"node\">\n<title>157</title>\n<polygon fill=\"#c0c0c0\" stroke=\"black\" points=\"1195.5,-36 1141.5,-36 1141.5,0 1195.5,0 1195.5,-36\"/>\n<text text-anchor=\"middle\" x=\"1168.5\" y=\"-14.3\" font-family=\"Helvetica,sans-Serif\" font-size=\"14.00\">(...)</text>\n</g>\n<!-- 91&#45;&gt;157 -->\n<g id=\"edge23\" class=\"edge\">\n<title>91&#45;&gt;157</title>\n<path fill=\"none\" stroke=\"black\" d=\"M1144.29,-71.8C1148.16,-63.35 1152.47,-53.95 1156.37,-45.45\"/>\n<polygon fill=\"black\" stroke=\"black\" points=\"1159.57,-46.88 1160.55,-36.33 1153.2,-43.96 1159.57,-46.88\"/>\n</g>\n<!-- 167 -->\n<g id=\"node26\" class=\"node\">\n<title>167</title>\n<polygon fill=\"#c0c0c0\" stroke=\"black\" points=\"1331.5,-36 1277.5,-36 1277.5,0 1331.5,0 1331.5,-36\"/>\n<text text-anchor=\"middle\" x=\"1304.5\" y=\"-14.3\" font-family=\"Helvetica,sans-Serif\" font-size=\"14.00\">(...)</text>\n</g>\n<!-- 166&#45;&gt;167 -->\n<g id=\"edge25\" class=\"edge\">\n<title>166&#45;&gt;167</title>\n<path fill=\"none\" stroke=\"black\" d=\"M1328.71,-71.8C1324.84,-63.35 1320.53,-53.95 1316.63,-45.45\"/>\n<polygon fill=\"black\" stroke=\"black\" points=\"1319.8,-43.96 1312.45,-36.33 1313.43,-46.88 1319.8,-43.96\"/>\n</g>\n<!-- 174 -->\n<g id=\"node27\" class=\"node\">\n<title>174</title>\n<polygon fill=\"#c0c0c0\" stroke=\"black\" points=\"1403.5,-36 1349.5,-36 1349.5,0 1403.5,0 1403.5,-36\"/>\n<text text-anchor=\"middle\" x=\"1376.5\" y=\"-14.3\" font-family=\"Helvetica,sans-Serif\" font-size=\"14.00\">(...)</text>\n</g>\n<!-- 166&#45;&gt;174 -->\n<g id=\"edge26\" class=\"edge\">\n<title>166&#45;&gt;174</title>\n<path fill=\"none\" stroke=\"black\" d=\"M1352.29,-71.8C1356.16,-63.35 1360.47,-53.95 1364.37,-45.45\"/>\n<polygon fill=\"black\" stroke=\"black\" points=\"1367.57,-46.88 1368.55,-36.33 1361.2,-43.96 1367.57,-46.88\"/>\n</g>\n</g>\n</svg>\n",
            "text/plain": [
              "<graphviz.sources.Source at 0x7f56f6ab8af0>"
            ]
          },
          "metadata": {}
        }
      ]
    },
    {
      "cell_type": "code",
      "source": [
        "feature_imp = pd.Series(rf_model.feature_importances_).sort_values(ascending = False)\n",
        "feature_imp"
      ],
      "metadata": {
        "id": "0b-qgWcxNV78",
        "outputId": "1635baac-f1eb-4d74-f21b-f3cde0d435c5",
        "colab": {
          "base_uri": "https://localhost:8080/"
        }
      },
      "execution_count": 36,
      "outputs": [
        {
          "output_type": "execute_result",
          "data": {
            "text/plain": [
              "1    0.267179\n",
              "5    0.152435\n",
              "7    0.136758\n",
              "6    0.123744\n",
              "2    0.090866\n",
              "0    0.086395\n",
              "4    0.073021\n",
              "3    0.069603\n",
              "dtype: float64"
            ]
          },
          "metadata": {},
          "execution_count": 36
        }
      ]
    },
    {
      "cell_type": "markdown",
      "metadata": {
        "id": "qIiSQKS87D6j"
      },
      "source": [
        "**2.2 Does all trees in the trained random forest model have pure leaves? How would you verify this?**"
      ]
    },
    {
      "cell_type": "code",
      "execution_count": 37,
      "metadata": {
        "id": "TIRbd2zd6_1h",
        "colab": {
          "base_uri": "https://localhost:8080/"
        },
        "outputId": "2b760879-573e-483f-c46f-8ab297a5a177"
      },
      "outputs": [
        {
          "output_type": "stream",
          "name": "stdout",
          "text": [
            "T 1: No pure leaves\n",
            "T 2: No pure leaves\n",
            "T 3: No pure leaves\n",
            "T 4: No pure leaves\n",
            "T 5: No pure leaves\n",
            "T 6: No pure leaves\n",
            "T 7: No pure leaves\n",
            "T 8: No pure leaves\n",
            "T 9: No pure leaves\n",
            "T 10: No pure leaves\n",
            "T 11: No pure leaves\n",
            "T 12: No pure leaves\n",
            "T 13: No pure leaves\n",
            "T 14: No pure leaves\n",
            "T 15: No pure leaves\n",
            "T 16: No pure leaves\n",
            "T 17: No pure leaves\n",
            "T 18: No pure leaves\n",
            "T 19: No pure leaves\n",
            "T 20: No pure leaves\n",
            "T 21: No pure leaves\n",
            "T 22: No pure leaves\n",
            "T 23: No pure leaves\n",
            "T 24: No pure leaves\n",
            "T 25: No pure leaves\n",
            "T 26: No pure leaves\n",
            "T 27: No pure leaves\n",
            "T 28: No pure leaves\n",
            "T 29: No pure leaves\n",
            "T 30: No pure leaves\n",
            "T 31: No pure leaves\n",
            "T 32: No pure leaves\n",
            "T 33: No pure leaves\n",
            "T 34: No pure leaves\n",
            "T 35: No pure leaves\n",
            "T 36: No pure leaves\n",
            "T 37: No pure leaves\n",
            "T 38: No pure leaves\n",
            "T 39: No pure leaves\n",
            "T 40: No pure leaves\n",
            "T 41: No pure leaves\n",
            "T 42: No pure leaves\n",
            "T 43: No pure leaves\n",
            "T 44: No pure leaves\n",
            "T 45: No pure leaves\n",
            "T 46: No pure leaves\n",
            "T 47: No pure leaves\n",
            "T 48: No pure leaves\n",
            "T 49: No pure leaves\n",
            "T 50: No pure leaves\n",
            "T 51: No pure leaves\n",
            "T 52: No pure leaves\n",
            "T 53: No pure leaves\n",
            "T 54: No pure leaves\n",
            "T 55: No pure leaves\n",
            "T 56: No pure leaves\n",
            "T 57: No pure leaves\n",
            "T 58: No pure leaves\n",
            "T 59: No pure leaves\n",
            "T 60: No pure leaves\n",
            "T 61: No pure leaves\n",
            "T 62: No pure leaves\n",
            "T 63: No pure leaves\n",
            "T 64: No pure leaves\n",
            "T 65: No pure leaves\n",
            "T 66: No pure leaves\n",
            "T 67: No pure leaves\n",
            "T 68: No pure leaves\n",
            "T 69: No pure leaves\n",
            "T 70: No pure leaves\n",
            "T 71: No pure leaves\n",
            "T 72: No pure leaves\n",
            "T 73: No pure leaves\n",
            "T 74: No pure leaves\n",
            "T 75: No pure leaves\n",
            "T 76: No pure leaves\n",
            "T 77: No pure leaves\n",
            "T 78: No pure leaves\n",
            "T 79: No pure leaves\n",
            "T 80: No pure leaves\n",
            "T 81: No pure leaves\n",
            "T 82: No pure leaves\n",
            "T 83: No pure leaves\n",
            "T 84: No pure leaves\n",
            "T 85: No pure leaves\n",
            "T 86: No pure leaves\n",
            "T 87: No pure leaves\n",
            "T 88: No pure leaves\n",
            "T 89: No pure leaves\n",
            "T 90: No pure leaves\n",
            "T 91: No pure leaves\n",
            "T 92: No pure leaves\n",
            "T 93: No pure leaves\n",
            "T 94: No pure leaves\n",
            "T 95: No pure leaves\n",
            "T 96: No pure leaves\n",
            "T 97: No pure leaves\n",
            "T 98: No pure leaves\n",
            "T 99: No pure leaves\n",
            "T 100: No pure leaves\n"
          ]
        }
      ],
      "source": [
        "## YOUR CODE HERE: I can check if the impurity is 0 for all decision tree and then if 0 then pure leaves\n",
        "for i, tree in enumerate(rf_model.estimators_):\n",
        "    all_pure = all(impurity == 0 for impurity in tree.tree_.impurity)\n",
        "    if all_pure:\n",
        "        print(f\"Tree {i + 1}: All leaves are pure\")\n",
        "    else:\n",
        "        print(f\"T {i + 1}: No pure leaves\")"
      ]
    },
    {
      "cell_type": "code",
      "source": [
        "for i, tree in enumerate(rf_model.estimators_):\n",
        "    leaf_indices = tree.apply(X_train)\n",
        "    leaf_indices = np.unique(leaf_indices)  # Ensure unique leaf indices\n",
        "\n",
        "    all_pure = all(tree.tree_.impurity[node] == 0 for node in leaf_indices)\n",
        "    if all_pure:\n",
        "        print(f\"Tree {i + 1}: Last leaves pure\")\n",
        "    else:\n",
        "        print(f\"Tree {i + 1}: last leaves impure\")"
      ],
      "metadata": {
        "id": "kaKm3PSlfyTA",
        "colab": {
          "base_uri": "https://localhost:8080/"
        },
        "outputId": "7c880790-daab-413f-bdbd-4105307a8a07"
      },
      "execution_count": 38,
      "outputs": [
        {
          "output_type": "stream",
          "name": "stdout",
          "text": [
            "Tree 1: Last leaves pure\n",
            "Tree 2: Last leaves pure\n",
            "Tree 3: Last leaves pure\n",
            "Tree 4: Last leaves pure\n",
            "Tree 5: Last leaves pure\n",
            "Tree 6: Last leaves pure\n",
            "Tree 7: Last leaves pure\n",
            "Tree 8: Last leaves pure\n",
            "Tree 9: Last leaves pure\n",
            "Tree 10: Last leaves pure\n",
            "Tree 11: Last leaves pure\n",
            "Tree 12: Last leaves pure\n",
            "Tree 13: Last leaves pure\n",
            "Tree 14: Last leaves pure\n",
            "Tree 15: Last leaves pure\n",
            "Tree 16: Last leaves pure\n",
            "Tree 17: Last leaves pure\n",
            "Tree 18: Last leaves pure\n",
            "Tree 19: Last leaves pure\n",
            "Tree 20: Last leaves pure\n",
            "Tree 21: Last leaves pure\n",
            "Tree 22: Last leaves pure\n",
            "Tree 23: Last leaves pure\n",
            "Tree 24: Last leaves pure\n",
            "Tree 25: Last leaves pure\n",
            "Tree 26: Last leaves pure\n",
            "Tree 27: Last leaves pure\n",
            "Tree 28: Last leaves pure\n",
            "Tree 29: Last leaves pure\n",
            "Tree 30: Last leaves pure\n",
            "Tree 31: Last leaves pure\n",
            "Tree 32: Last leaves pure\n",
            "Tree 33: Last leaves pure\n",
            "Tree 34: Last leaves pure\n",
            "Tree 35: Last leaves pure\n",
            "Tree 36: Last leaves pure\n",
            "Tree 37: Last leaves pure\n",
            "Tree 38: Last leaves pure\n",
            "Tree 39: Last leaves pure\n",
            "Tree 40: Last leaves pure\n",
            "Tree 41: Last leaves pure\n",
            "Tree 42: Last leaves pure\n",
            "Tree 43: Last leaves pure\n",
            "Tree 44: Last leaves pure\n",
            "Tree 45: Last leaves pure\n",
            "Tree 46: Last leaves pure\n",
            "Tree 47: Last leaves pure\n",
            "Tree 48: Last leaves pure\n",
            "Tree 49: Last leaves pure\n",
            "Tree 50: Last leaves pure\n",
            "Tree 51: Last leaves pure\n",
            "Tree 52: Last leaves pure\n",
            "Tree 53: Last leaves pure\n",
            "Tree 54: Last leaves pure\n",
            "Tree 55: Last leaves pure\n",
            "Tree 56: Last leaves pure\n",
            "Tree 57: Last leaves pure\n",
            "Tree 58: Last leaves pure\n",
            "Tree 59: Last leaves pure\n",
            "Tree 60: Last leaves pure\n",
            "Tree 61: Last leaves pure\n",
            "Tree 62: Last leaves pure\n",
            "Tree 63: Last leaves pure\n",
            "Tree 64: Last leaves pure\n",
            "Tree 65: Last leaves pure\n",
            "Tree 66: Last leaves pure\n",
            "Tree 67: Last leaves pure\n",
            "Tree 68: Last leaves pure\n",
            "Tree 69: Last leaves pure\n",
            "Tree 70: Last leaves pure\n",
            "Tree 71: Last leaves pure\n",
            "Tree 72: Last leaves pure\n",
            "Tree 73: Last leaves pure\n",
            "Tree 74: Last leaves pure\n",
            "Tree 75: Last leaves pure\n",
            "Tree 76: Last leaves pure\n",
            "Tree 77: Last leaves pure\n",
            "Tree 78: Last leaves pure\n",
            "Tree 79: Last leaves pure\n",
            "Tree 80: Last leaves pure\n",
            "Tree 81: Last leaves pure\n",
            "Tree 82: Last leaves pure\n",
            "Tree 83: Last leaves pure\n",
            "Tree 84: Last leaves pure\n",
            "Tree 85: Last leaves pure\n",
            "Tree 86: Last leaves pure\n",
            "Tree 87: Last leaves pure\n",
            "Tree 88: Last leaves pure\n",
            "Tree 89: Last leaves pure\n",
            "Tree 90: Last leaves pure\n",
            "Tree 91: Last leaves pure\n",
            "Tree 92: Last leaves pure\n",
            "Tree 93: Last leaves pure\n",
            "Tree 94: Last leaves pure\n",
            "Tree 95: Last leaves pure\n",
            "Tree 96: Last leaves pure\n",
            "Tree 97: Last leaves pure\n",
            "Tree 98: Last leaves pure\n",
            "Tree 99: Last leaves pure\n",
            "Tree 100: Last leaves pure\n"
          ]
        }
      ]
    },
    {
      "cell_type": "markdown",
      "metadata": {
        "id": "CWK0CAqE7SQh"
      },
      "source": [
        "**2.3: Assume you want to improve the performance of this model. Also, assume that you had to pick two hyperparameters that you could tune to improve its performance. Which hyperparameters would you choose and why?**"
      ]
    },
    {
      "cell_type": "markdown",
      "source": [
        "# I will choose these as my hyperparameters:\n",
        "\n",
        "\n",
        "1. **Number of Trees (n_estimators):** This hyperparameter determines the number of decision trees in the random forest. Increasing the number of trees can lead to a more robust and stable model, as it reduces overfitting by averaging predictions across multiple trees.\n",
        "  - However, adding too many trees may increase computational cost and training time.\n",
        "\n",
        "2. **Maximum Depth of Trees (max_depth):** This controls the maximum depth of each decision tree in the random forest. Increasing the maximum depth allows the trees to capture more complex relationships in the data, potentially leading to better performance on the training set.\n",
        "  - However, deeper trees are more likely to overfit the training data and may not generalize well to unseen data."
      ],
      "metadata": {
        "id": "pQ9I8Drdoa3u"
      }
    },
    {
      "cell_type": "markdown",
      "metadata": {
        "id": "dfYVZUCw7hS7"
      },
      "source": [
        "**2.4: Now, assume you had to choose up to 5 different values (each) for these two hyperparameters. How would you choose these values that could potentially give you a performance lift?**"
      ]
    },
    {
      "cell_type": "markdown",
      "source": [
        "**While selecting values for hyperparameters (n_estimators, max_depth) for a RF model, it's essential to consider a range of values that span different levels of model complexity and then we can do a RandomizedSearch or GridSearchCV.**\n",
        "\n",
        "**1. n_estimators:**\n",
        "\n",
        "- Start with a relatively small number of trees to keep the model simple and prevent overfitting. Values such as 50 or 100 can be good starting points.\n",
        "Increase the number of trees gradually to capture more complex patterns in the data. Values such as 200, 300, and 400 can be considered to assess the model's scalability.\n",
        "\n",
        "\n",
        "**2. max_features:**\n",
        "\n",
        "- This determines the maximum number of features considered for splitting a node. It controls the randomness of each tree in the forest. Setting max_features to a lower value can introduce more randomness and diversity among the trees, which can help prevent overfitting and improve generalization performance. On the other hand, setting it to a higher value may lead to more correlated trees and potentially overfitting.\n",
        "\n",
        "\\- Here's a selection of 5 values for each hyperparameter that I chose:\n",
        "\n",
        "    n_estimators: [50, 100, 200, 300, 1000]\n",
        "    max_depth: [None, 10, 20, 30, 50]"
      ],
      "metadata": {
        "id": "n8lUs82n_Nha"
      }
    },
    {
      "cell_type": "code",
      "execution_count": 39,
      "metadata": {
        "id": "5RvUNeRW7l-W"
      },
      "outputs": [],
      "source": [
        "## YOUR SOLUTION HERE: given in markdown above"
      ]
    },
    {
      "cell_type": "markdown",
      "metadata": {
        "id": "hQa_8Uef7oXA"
      },
      "source": [
        "**2.5: Perform model selection using the chosen values for the hyperparameters. Use cross-validation for finding the optimal hyperparameters. Report on the optimal hyperparameters. Estimate the performance of the optimal model (model trained with optimal hyperparameters) on test dataset? Has the performance improved over your plain-vanilla random forest model trained in Q2.1?**"
      ]
    },
    {
      "cell_type": "code",
      "source": [
        "## YOUR CODE HERE\n",
        "param_grid = {\n",
        "    'n_estimators': [50, 100, 200, 300, 400],  # trees in the forest\n",
        "    'max_features': [2, 3, 5, 7, 8]\n",
        "}\n",
        "\n",
        "rf_model2 = RandomForestClassifier(oob_score=True, random_state=42, warm_start=True)\n",
        "\n",
        "grid_search = GridSearchCV(estimator=rf_model2, param_grid=param_grid, cv=5, return_train_score=True, n_jobs=-1)\n",
        "\n",
        "grid_search.fit(X_train, y_train)\n",
        "\n",
        "print(\"Best Hyperparameters:\", grid_search.best_params_)\n",
        "\n",
        "best_rf_model = grid_search.best_estimator_\n",
        "\n",
        "accuracy = best_rf_model.score(X_test, y_test)\n",
        "print(\"Accuracy on Test Set:\", accuracy)"
      ],
      "metadata": {
        "id": "g-yxqQKjnoHf",
        "outputId": "78fd1d98-efb9-44a9-a4da-eb5e25426a54",
        "colab": {
          "base_uri": "https://localhost:8080/"
        }
      },
      "execution_count": 40,
      "outputs": [
        {
          "output_type": "stream",
          "name": "stdout",
          "text": [
            "Best Hyperparameters: {'max_features': 3, 'n_estimators': 100}\n",
            "Accuracy on Test Set: 0.7597402597402597\n"
          ]
        }
      ]
    },
    {
      "cell_type": "markdown",
      "source": [
        "> **For me the model performance did improve a bit. Looks like the default parameters are the close to the best hyperparamters**"
      ],
      "metadata": {
        "id": "sKQssHg8sCb0"
      }
    },
    {
      "cell_type": "code",
      "source": [
        "from sklearn.model_selection import cross_val_score\n",
        "\n",
        "cv_scores = cross_val_score(best_rf_model, X_train, y_train, cv=5)\n",
        "\n",
        "print(\"Cross-validation scores:\", cv_scores)\n",
        "\n",
        "mean_cv_score = np.mean(cv_scores)\n",
        "print(\"Mean Cross-validation score:\", mean_cv_score)\n"
      ],
      "metadata": {
        "id": "dXDLXocWuR1l",
        "outputId": "9b6692c2-aba9-40c9-c952-3b9b8cf6951a",
        "colab": {
          "base_uri": "https://localhost:8080/"
        }
      },
      "execution_count": 41,
      "outputs": [
        {
          "output_type": "stream",
          "name": "stdout",
          "text": [
            "Cross-validation scores: [0.76422764 0.81300813 0.72357724 0.7804878  0.80327869]\n",
            "Mean Cross-validation score: 0.776915900306544\n"
          ]
        }
      ]
    },
    {
      "cell_type": "markdown",
      "metadata": {
        "id": "7b-pPjmd8AOa"
      },
      "source": [
        "**2.6: Can you find the top 3 most important features from the model trained in Q2.5? How do these features compare to the important features that you found from Q1.8? If they differ, which feature set makes more sense?**"
      ]
    },
    {
      "cell_type": "code",
      "source": [
        "feat_imp = best_rf_model.feature_importances_\n",
        "\n",
        "print(\"Total features: \",len(features))\n",
        "print(\"Weights for features: \", len(feat_imp))"
      ],
      "metadata": {
        "colab": {
          "base_uri": "https://localhost:8080/"
        },
        "id": "0hwlPB7Kuu3S",
        "outputId": "8da84c28-b9f9-49f5-bbea-e62d8cb25f2c"
      },
      "execution_count": 42,
      "outputs": [
        {
          "output_type": "stream",
          "name": "stdout",
          "text": [
            "Total features:  8\n",
            "Weights for features:  8\n"
          ]
        }
      ]
    },
    {
      "cell_type": "code",
      "source": [
        "ax = sns.barplot(x=list(features), y=list(feat_imp), palette='viridis')\n",
        "ax.set_xlabel('Features')\n",
        "ax.set_ylabel('Importance')\n",
        "ax.set_title('Feature Importances')\n",
        "ax.tick_params(axis='x', rotation=90)\n",
        "plt.show()"
      ],
      "metadata": {
        "colab": {
          "base_uri": "https://localhost:8080/",
          "height": 639
        },
        "id": "7w8l_nfxvGg_",
        "outputId": "e3a69485-0a3c-4738-f108-45e1a0febcd2"
      },
      "execution_count": 43,
      "outputs": [
        {
          "output_type": "display_data",
          "data": {
            "text/plain": [
              "<Figure size 640x480 with 1 Axes>"
            ],
            "image/png": "[encoded data removed]"
          },
          "metadata": {}
        }
      ]
    },
    {
      "cell_type": "code",
      "execution_count": 44,
      "metadata": {
        "id": "tmmk3WWV744q",
        "colab": {
          "base_uri": "https://localhost:8080/",
          "height": 300
        },
        "outputId": "db8e3a11-7447-49b5-8171-941b0f7885cf"
      },
      "outputs": [
        {
          "output_type": "execute_result",
          "data": {
            "text/plain": [
              "                   Features   Weights\n",
              "1                   Glucose  0.292768\n",
              "5                       BMI  0.168607\n",
              "6  DiabetesPedigreeFunction  0.124303\n",
              "7                       Age  0.123728\n",
              "2             BloodPressure  0.088036\n",
              "0               Pregnancies  0.078773\n",
              "4                   Insulin  0.062336\n",
              "3             SkinThickness  0.061447"
            ],
            "text/html": [
              "\n",
              "  <div id=\"df-59d4564d-8ba5-41b4-b138-1b2e35fff648\" class=\"colab-df-container\">\n",
              "    <div>\n",
              "<style scoped>\n",
              "    .dataframe tbody tr th:only-of-type {\n",
              "        vertical-align: middle;\n",
              "    }\n",
              "\n",
              "    .dataframe tbody tr th {\n",
              "        vertical-align: top;\n",
              "    }\n",
              "\n",
              "    .dataframe thead th {\n",
              "        text-align: right;\n",
              "    }\n",
              "</style>\n",
              "<table border=\"1\" class=\"dataframe\">\n",
              "  <thead>\n",
              "    <tr style=\"text-align: right;\">\n",
              "      <th></th>\n",
              "      <th>Features</th>\n",
              "      <th>Weights</th>\n",
              "    </tr>\n",
              "  </thead>\n",
              "  <tbody>\n",
              "    <tr>\n",
              "      <th>1</th>\n",
              "      <td>Glucose</td>\n",
              "      <td>0.292768</td>\n",
              "    </tr>\n",
              "    <tr>\n",
              "      <th>5</th>\n",
              "      <td>BMI</td>\n",
              "      <td>0.168607</td>\n",
              "    </tr>\n",
              "    <tr>\n",
              "      <th>6</th>\n",
              "      <td>DiabetesPedigreeFunction</td>\n",
              "      <td>0.124303</td>\n",
              "    </tr>\n",
              "    <tr>\n",
              "      <th>7</th>\n",
              "      <td>Age</td>\n",
              "      <td>0.123728</td>\n",
              "    </tr>\n",
              "    <tr>\n",
              "      <th>2</th>\n",
              "      <td>BloodPressure</td>\n",
              "      <td>0.088036</td>\n",
              "    </tr>\n",
              "    <tr>\n",
              "      <th>0</th>\n",
              "      <td>Pregnancies</td>\n",
              "      <td>0.078773</td>\n",
              "    </tr>\n",
              "    <tr>\n",
              "      <th>4</th>\n",
              "      <td>Insulin</td>\n",
              "      <td>0.062336</td>\n",
              "    </tr>\n",
              "    <tr>\n",
              "      <th>3</th>\n",
              "      <td>SkinThickness</td>\n",
              "      <td>0.061447</td>\n",
              "    </tr>\n",
              "  </tbody>\n",
              "</table>\n",
              "</div>\n",
              "    <div class=\"colab-df-buttons\">\n",
              "\n",
              "  <div class=\"colab-df-container\">\n",
              "    <button class=\"colab-df-convert\" onclick=\"convertToInteractive('df-59d4564d-8ba5-41b4-b138-1b2e35fff648')\"\n",
              "            title=\"Convert this dataframe to an interactive table.\"\n",
              "            style=\"display:none;\">\n",
              "\n",
              "  <svg xmlns=\"http://www.w3.org/2000/svg\" height=\"24px\" viewBox=\"0 -960 960 960\">\n",
              "    <path d=\"M120-120v-720h720v720H120Zm60-500h600v-160H180v160Zm220 220h160v-160H400v160Zm0 220h160v-160H400v160ZM180-400h160v-160H180v160Zm440 0h160v-160H620v160ZM180-180h160v-160H180v160Zm440 0h160v-160H620v160Z\"/>\n",
              "  </svg>\n",
              "    </button>\n",
              "\n",
              "  <style>\n",
              "    .colab-df-container {\n",
              "      display:flex;\n",
              "      gap: 12px;\n",
              "    }\n",
              "\n",
              "    .colab-df-convert {\n",
              "      background-color: #E8F0FE;\n",
              "      border: none;\n",
              "      border-radius: 50%;\n",
              "      cursor: pointer;\n",
              "      display: none;\n",
              "      fill: #1967D2;\n",
              "      height: 32px;\n",
              "      padding: 0 0 0 0;\n",
              "      width: 32px;\n",
              "    }\n",
              "\n",
              "    .colab-df-convert:hover {\n",
              "      background-color: #E2EBFA;\n",
              "      box-shadow: 0px 1px 2px rgba(60, 64, 67, 0.3), 0px 1px 3px 1px rgba(60, 64, 67, 0.15);\n",
              "      fill: #174EA6;\n",
              "    }\n",
              "\n",
              "    .colab-df-buttons div {\n",
              "      margin-bottom: 4px;\n",
              "    }\n",
              "\n",
              "    [theme=dark] .colab-df-convert {\n",
              "      background-color: #3B4455;\n",
              "      fill: #D2E3FC;\n",
              "    }\n",
              "\n",
              "    [theme=dark] .colab-df-convert:hover {\n",
              "      background-color: #434B5C;\n",
              "      box-shadow: 0px 1px 3px 1px rgba(0, 0, 0, 0.15);\n",
              "      filter: drop-shadow(0px 1px 2px rgba(0, 0, 0, 0.3));\n",
              "      fill: #FFFFFF;\n",
              "    }\n",
              "  </style>\n",
              "\n",
              "    <script>\n",
              "      const buttonEl =\n",
              "        document.querySelector('#df-59d4564d-8ba5-41b4-b138-1b2e35fff648 button.colab-df-convert');\n",
              "      buttonEl.style.display =\n",
              "        google.colab.kernel.accessAllowed ? 'block' : 'none';\n",
              "\n",
              "      async function convertToInteractive(key) {\n",
              "        const element = document.querySelector('#df-59d4564d-8ba5-41b4-b138-1b2e35fff648');\n",
              "        const dataTable =\n",
              "          await google.colab.kernel.invokeFunction('convertToInteractive',\n",
              "                                                    [key], {});\n",
              "        if (!dataTable) return;\n",
              "\n",
              "        const docLinkHtml = 'Like what you see? Visit the ' +\n",
              "          '<a target=\"_blank\" href=https://colab.research.google.com/notebooks/data_table.ipynb>data table notebook</a>'\n",
              "          + ' to learn more about interactive tables.';\n",
              "        element.innerHTML = '';\n",
              "        dataTable['output_type'] = 'display_data';\n",
              "        await google.colab.output.renderOutput(dataTable, element);\n",
              "        const docLink = document.createElement('div');\n",
              "        docLink.innerHTML = docLinkHtml;\n",
              "        element.appendChild(docLink);\n",
              "      }\n",
              "    </script>\n",
              "  </div>\n",
              "\n",
              "\n",
              "<div id=\"df-8ec7d572-7869-4bda-afb9-a3e8d802531d\">\n",
              "  <button class=\"colab-df-quickchart\" onclick=\"quickchart('df-8ec7d572-7869-4bda-afb9-a3e8d802531d')\"\n",
              "            title=\"Suggest charts\"\n",
              "            style=\"display:none;\">\n",
              "\n",
              "<svg xmlns=\"http://www.w3.org/2000/svg\" height=\"24px\"viewBox=\"0 0 24 24\"\n",
              "     width=\"24px\">\n",
              "    <g>\n",
              "        <path d=\"M19 3H5c-1.1 0-2 .9-2 2v14c0 1.1.9 2 2 2h14c1.1 0 2-.9 2-2V5c0-1.1-.9-2-2-2zM9 17H7v-7h2v7zm4 0h-2V7h2v10zm4 0h-2v-4h2v4z\"/>\n",
              "    </g>\n",
              "</svg>\n",
              "  </button>\n",
              "\n",
              "<style>\n",
              "  .colab-df-quickchart {\n",
              "      --bg-color: #E8F0FE;\n",
              "      --fill-color: #1967D2;\n",
              "      --hover-bg-color: #E2EBFA;\n",
              "      --hover-fill-color: #174EA6;\n",
              "      --disabled-fill-color: #AAA;\n",
              "      --disabled-bg-color: #DDD;\n",
              "  }\n",
              "\n",
              "  [theme=dark] .colab-df-quickchart {\n",
              "      --bg-color: #3B4455;\n",
              "      --fill-color: #D2E3FC;\n",
              "      --hover-bg-color: #434B5C;\n",
              "      --hover-fill-color: #FFFFFF;\n",
              "      --disabled-bg-color: #3B4455;\n",
              "      --disabled-fill-color: #666;\n",
              "  }\n",
              "\n",
              "  .colab-df-quickchart {\n",
              "    background-color: var(--bg-color);\n",
              "    border: none;\n",
              "    border-radius: 50%;\n",
              "    cursor: pointer;\n",
              "    display: none;\n",
              "    fill: var(--fill-color);\n",
              "    height: 32px;\n",
              "    padding: 0;\n",
              "    width: 32px;\n",
              "  }\n",
              "\n",
              "  .colab-df-quickchart:hover {\n",
              "    background-color: var(--hover-bg-color);\n",
              "    box-shadow: 0 1px 2px rgba(60, 64, 67, 0.3), 0 1px 3px 1px rgba(60, 64, 67, 0.15);\n",
              "    fill: var(--button-hover-fill-color);\n",
              "  }\n",
              "\n",
              "  .colab-df-quickchart-complete:disabled,\n",
              "  .colab-df-quickchart-complete:disabled:hover {\n",
              "    background-color: var(--disabled-bg-color);\n",
              "    fill: var(--disabled-fill-color);\n",
              "    box-shadow: none;\n",
              "  }\n",
              "\n",
              "  .colab-df-spinner {\n",
              "    border: 2px solid var(--fill-color);\n",
              "    border-color: transparent;\n",
              "    border-bottom-color: var(--fill-color);\n",
              "    animation:\n",
              "      spin 1s steps(1) infinite;\n",
              "  }\n",
              "\n",
              "  @keyframes spin {\n",
              "    0% {\n",
              "      border-color: transparent;\n",
              "      border-bottom-color: var(--fill-color);\n",
              "      border-left-color: var(--fill-color);\n",
              "    }\n",
              "    20% {\n",
              "      border-color: transparent;\n",
              "      border-left-color: var(--fill-color);\n",
              "      border-top-color: var(--fill-color);\n",
              "    }\n",
              "    30% {\n",
              "      border-color: transparent;\n",
              "      border-left-color: var(--fill-color);\n",
              "      border-top-color: var(--fill-color);\n",
              "      border-right-color: var(--fill-color);\n",
              "    }\n",
              "    40% {\n",
              "      border-color: transparent;\n",
              "      border-right-color: var(--fill-color);\n",
              "      border-top-color: var(--fill-color);\n",
              "    }\n",
              "    60% {\n",
              "      border-color: transparent;\n",
              "      border-right-color: var(--fill-color);\n",
              "    }\n",
              "    80% {\n",
              "      border-color: transparent;\n",
              "      border-right-color: var(--fill-color);\n",
              "      border-bottom-color: var(--fill-color);\n",
              "    }\n",
              "    90% {\n",
              "      border-color: transparent;\n",
              "      border-bottom-color: var(--fill-color);\n",
              "    }\n",
              "  }\n",
              "</style>\n",
              "\n",
              "  <script>\n",
              "    async function quickchart(key) {\n",
              "      const quickchartButtonEl =\n",
              "        document.querySelector('#' + key + ' button');\n",
              "      quickchartButtonEl.disabled = true;  // To prevent multiple clicks.\n",
              "      quickchartButtonEl.classList.add('colab-df-spinner');\n",
              "      try {\n",
              "        const charts = await google.colab.kernel.invokeFunction(\n",
              "            'suggestCharts', [key], {});\n",
              "      } catch (error) {\n",
              "        console.error('Error during call to suggestCharts:', error);\n",
              "      }\n",
              "      quickchartButtonEl.classList.remove('colab-df-spinner');\n",
              "      quickchartButtonEl.classList.add('colab-df-quickchart-complete');\n",
              "    }\n",
              "    (() => {\n",
              "      let quickchartButtonEl =\n",
              "        document.querySelector('#df-8ec7d572-7869-4bda-afb9-a3e8d802531d button');\n",
              "      quickchartButtonEl.style.display =\n",
              "        google.colab.kernel.accessAllowed ? 'block' : 'none';\n",
              "    })();\n",
              "  </script>\n",
              "</div>\n",
              "    </div>\n",
              "  </div>\n"
            ],
            "application/vnd.google.colaboratory.intrinsic+json": {
              "type": "dataframe",
              "variable_name": "imp_sorted2",
              "summary": "{\n  \"name\": \"imp_sorted2\",\n  \"rows\": 8,\n  \"fields\": [\n    {\n      \"column\": \"Features\",\n      \"properties\": {\n        \"dtype\": \"string\",\n        \"num_unique_values\": 8,\n        \"samples\": [\n          \"BMI\",\n          \"Pregnancies\",\n          \"Glucose\"\n        ],\n        \"semantic_type\": \"\",\n        \"description\": \"\"\n      }\n    },\n    {\n      \"column\": \"Weights\",\n      \"properties\": {\n        \"dtype\": \"number\",\n        \"std\": 0.07701468673231118,\n        \"min\": 0.06144678383845264,\n        \"max\": 0.2927681563242343,\n        \"num_unique_values\": 8,\n        \"samples\": [\n          0.16860734947672776,\n          0.07877308365320845,\n          0.2927681563242343\n        ],\n        \"semantic_type\": \"\",\n        \"description\": \"\"\n      }\n    }\n  ]\n}"
            }
          },
          "metadata": {},
          "execution_count": 44
        }
      ],
      "source": [
        "## YOUR CODE HERE\n",
        "imp_df2 = pd.DataFrame({'Features': features, 'Weights': feat_imp})\n",
        "imp_sorted2 = imp_df2.sort_values(by = ['Weights'], ascending = False)\n",
        "imp_sorted2\n"
      ]
    },
    {
      "cell_type": "code",
      "source": [
        "ax = sns.barplot(x='Features', y='Weights', data=imp_sorted2, palette='viridis')\n",
        "ax.set_xlabel('Features')\n",
        "ax.set_ylabel('Importance')\n",
        "ax.set_title('Feature Importances')\n",
        "ax.tick_params(axis='x', rotation=90)\n",
        "plt.show()"
      ],
      "metadata": {
        "colab": {
          "base_uri": "https://localhost:8080/",
          "height": 639
        },
        "id": "LM6cHGRZvdXr",
        "outputId": "33deb352-303e-44f7-e84c-54d4e8b0d284"
      },
      "execution_count": 45,
      "outputs": [
        {
          "output_type": "display_data",
          "data": {
            "text/plain": [
              "<Figure size 640x480 with 1 Axes>"
            ],
            "image/png": "[encoded data removed]"
          },
          "metadata": {}
        }
      ]
    },
    {
      "cell_type": "markdown",
      "source": [
        "- Here the top 2 features remain the same whereas the 3rd important feature is changed. This is can be justified that DiabetesPeigreeFinction is directly correlated to the diabetes outcome.\n",
        "- If we talk about the feature set which makes more sense, the one obtained in randomforest makes mre sense as it is a more generalized model than a single decidsion tree."
      ],
      "metadata": {
        "id": "U7sd5k_8vl47"
      }
    },
    {
      "cell_type": "markdown",
      "metadata": {
        "id": "HehLS7lW8Q-B"
      },
      "source": [
        "## Question 3: Gradient Boosted Trees"
      ]
    },
    {
      "cell_type": "markdown",
      "metadata": {
        "id": "FNxL7Gq28XGN"
      },
      "source": [
        "**3.1: Choose three hyperparameters to tune HistGradientBoostingClassifier on the development dataset using 5-fold cross validation. For each hyperparmeter, give it 3 potential values. Report on the time taken to do model selection for the model. Also, report the performance of the test dataset from the optimal models.**"
      ]
    },
    {
      "cell_type": "code",
      "source": [
        "import time"
      ],
      "metadata": {
        "id": "O4LjNZ7KthW0"
      },
      "execution_count": 47,
      "outputs": []
    },
    {
      "cell_type": "code",
      "execution_count": 49,
      "metadata": {
        "id": "RlP0Y4ke8fDL",
        "colab": {
          "base_uri": "https://localhost:8080/"
        },
        "outputId": "580462fa-014d-445f-d030-9ed76dd466b2"
      },
      "outputs": [
        {
          "output_type": "stream",
          "name": "stdout",
          "text": [
            "Time taken for model selection: 25.29 seconds\n",
            "Best train score: 0.7671731307477009\n",
            "Best parameters: {'learning_rate': 0.01, 'max_depth': 2, 'max_iter': 200}\n",
            "Test score: 0.7207792207792207\n"
          ]
        }
      ],
      "source": [
        "from sklearn.ensemble import HistGradientBoostingClassifier\n",
        "from sklearn.pipeline import make_pipeline\n",
        "\n",
        "learning_rate = [0.01, 0.1, 0.2]\n",
        "max_iter = [50, 100, 200]\n",
        "max_depth = [2, 3, 6]\n",
        "\n",
        "hgb = HistGradientBoostingClassifier(random_state=42)\n",
        "\n",
        "pipe = make_pipeline(GridSearchCV( hgb, param_grid={ 'learning_rate': learning_rate,\n",
        "                                                    'max_iter': max_iter, 'max_depth': max_depth}, cv=5, n_jobs=-1 ))\n",
        "\n",
        "start_time = time.time()\n",
        "pipe.fit(X_train, y_train)\n",
        "end_time = time.time()\n",
        "print(\"Time taken for model selection: {:.2f} seconds\".format(end_time - start_time))\n",
        "\n",
        "grid_search_results = pipe.named_steps['gridsearchcv']\n",
        "best_params = grid_search_results.best_params_\n",
        "best_score = grid_search_results.best_score_\n",
        "\n",
        "test_score = pipe.score(X_test, y_test)\n",
        "\n",
        "print(\"Best train score:\", best_score)\n",
        "print(\"Best parameters:\", best_params)\n",
        "print(\"Test score:\", test_score)\n"
      ]
    },
    {
      "cell_type": "markdown",
      "metadata": {
        "id": "tFs84nru8ius"
      },
      "source": [
        "**3.2: Train an XGBoost model by tuning 3 hyperparameters using 10 fold cross-validation. Compare the performance of the trained XGBoost model on the test dataset against the performances obtained from 3.1**"
      ]
    },
    {
      "cell_type": "code",
      "execution_count": 50,
      "metadata": {
        "id": "ktepV1Bt8KFi",
        "colab": {
          "base_uri": "https://localhost:8080/"
        },
        "outputId": "8ae81fa8-f2df-4075-9bc1-d60040a57bf2"
      },
      "outputs": [
        {
          "output_type": "stream",
          "name": "stdout",
          "text": [
            "Time taken for model selection: 23.64 seconds\n",
            "Best train score: 0.7669751454257007\n",
            "Best parameters: {'learning_rate': 0.01, 'max_depth': 3, 'n_estimators': 200}\n",
            "Test score: 0.7467532467532467\n"
          ]
        }
      ],
      "source": [
        "## YOUR CODE HERE\n",
        "import xgboost as xgb\n",
        "\n",
        "params = {\n",
        "    'learning_rate': [0.01, 0.1, 0.2],\n",
        "    'n_estimators': [50, 100, 200],\n",
        "    'max_depth': [2, 3, 6]\n",
        "}\n",
        "\n",
        "xgb_model = xgb.XGBClassifier(random_state=42)\n",
        "\n",
        "pipe_xgb = make_pipeline(GridSearchCV(\n",
        "    xgb_model,\n",
        "    param_grid=params,\n",
        "    cv=10,\n",
        "    n_jobs=-1\n",
        "))\n",
        "\n",
        "start_time = time.time()\n",
        "pipe_xgb.fit(X_train, y_train)\n",
        "end_time = time.time()\n",
        "print(\"Time taken for model selection: {:.2f} seconds\".format(end_time - start_time))\n",
        "\n",
        "grid_search_results_xgb = pipe_xgb.named_steps['gridsearchcv']\n",
        "best_params_xgb = grid_search_results_xgb.best_params_\n",
        "best_score_xgb = grid_search_results_xgb.best_score_\n",
        "\n",
        "y_pred_xgb = pipe_xgb.predict(X_test)\n",
        "test_score_xgb = accuracy_score(y_test, y_pred_xgb)\n",
        "\n",
        "print(\"Best train score:\", best_score_xgb)\n",
        "print(\"Best parameters:\", best_params_xgb)\n",
        "print(\"Test score:\", test_score_xgb)"
      ]
    },
    {
      "cell_type": "markdown",
      "metadata": {
        "id": "ZBzc4Mcx9IBT"
      },
      "source": [
        "**3.3: Can you list the top 3 features from the trained XGBoost model? How do they differ from the features found from Random Forest and Decision Tree? Which one would you trust the most?**"
      ]
    },
    {
      "cell_type": "code",
      "source": [
        "## YOUR CODE HERE\n",
        "xgb_model = pipe_xgb.named_steps['gridsearchcv'].best_estimator_\n",
        "feat_imp = xgb_model.feature_importances_\n",
        "\n",
        "# Create a DataFrame to store feature names and their importances\n",
        "imp_df = pd.DataFrame({'Features': features, 'Weights': feat_imp})\n",
        "\n",
        "# Sort the DataFrame based on feature importances\n",
        "imp_sorted = imp_df.sort_values(by='Weights', ascending=False)\n",
        "\n",
        "# Plot the sorted feature importances\n",
        "plt.figure(figsize=(10, 6))\n",
        "ax = sns.barplot(x='Features', y='Weights', data=imp_sorted, palette='viridis')\n",
        "ax.set_xlabel('Features')\n",
        "ax.set_ylabel('Importance')\n",
        "ax.set_title('Feature Importances (XGBoost)')\n",
        "ax.tick_params(axis='x', rotation=90)\n",
        "plt.show()\n",
        "\n",
        "top_feat_indices = feat_imp.argsort()[-3:][::-1]\n",
        "top_features = [features[i] for i in top_feat_indices]\n",
        "\n",
        "print(\"Top 3 features from XGBoost model:\", top_features)"
      ],
      "metadata": {
        "colab": {
          "base_uri": "https://localhost:8080/",
          "height": 749
        },
        "id": "ldz7MYy5w43H",
        "outputId": "19c5bae4-e29a-4481-d1e0-35994de17526"
      },
      "execution_count": 55,
      "outputs": [
        {
          "output_type": "display_data",
          "data": {
            "text/plain": [
              "<Figure size 1000x600 with 1 Axes>"
            ],
            "image/png": "[encoded data removed]"
          },
          "metadata": {}
        },
        {
          "output_type": "stream",
          "name": "stdout",
          "text": [
            "Top 3 features from XGBoost model: ['Glucose', 'Age', 'BMI']\n"
          ]
        }
      ]
    },
    {
      "cell_type": "markdown",
      "metadata": {
        "id": "DvJwLfIS8sTi"
      },
      "source": [
        " **3.4 Can you choose the top 7 features (as given by feature importances from XGBoost) and repeat Q3.2? Does this model perform better than the one trained in Q3.2? Why or why not is the performance better?**"
      ]
    },
    {
      "cell_type": "code",
      "execution_count": 56,
      "metadata": {
        "id": "zium-SOj8lhS",
        "colab": {
          "base_uri": "https://localhost:8080/"
        },
        "outputId": "0ae1c161-a06b-4766-9a92-91f6cbd1bc6e"
      },
      "outputs": [
        {
          "output_type": "stream",
          "name": "stdout",
          "text": [
            "Time taken for model selection with top 7 features: 19.38 seconds\n",
            "Test score with top 7 features: 0.7402597402597403\n"
          ]
        }
      ],
      "source": [
        "## YOUR CODE HERE\n",
        "top_feat_indices = feat_imp.argsort()[-7:][::-1]\n",
        "top_features = [features[i] for i in top_feat_indices]\n",
        "\n",
        "X_train_top = X_train[top_features]\n",
        "X_test_top = X_test[top_features]\n",
        "\n",
        "xgb_model_top = xgb.XGBClassifier(random_state=42)\n",
        "pipe_xgb_top = make_pipeline(GridSearchCV(\n",
        "    xgb_model_top,\n",
        "    param_grid=params,\n",
        "    cv=10,\n",
        "    n_jobs=-1\n",
        "))\n",
        "start_time = time.time()\n",
        "pipe_xgb_top.fit(X_train_top, y_train)\n",
        "end_time = time.time()\n",
        "print(\"Time taken for model selection with top 7 features: {:.2f} seconds\".format(end_time - start_time))\n",
        "\n",
        "test_score_xgb_top = pipe_xgb_top.score(X_test_top, y_test)\n",
        "\n",
        "print(\"Test score with top 7 features:\", test_score_xgb_top)"
      ]
    },
    {
      "cell_type": "markdown",
      "source": [
        "- No for me the performance isn't better than firts one because here essentially we are dropping one feature which has +ve correlation with the model.\n",
        "- This in return reduces the test accuracy."
      ],
      "metadata": {
        "id": "-XKO8JAvx6oU"
      }
    }
  ],
  "metadata": {
    "colab": {
      "provenance": []
    },
    "kernelspec": {
      "display_name": "Python 3",
      "name": "python3"
    },
    "language_info": {
      "name": "python"
    }
  },
  "nbformat": 4,
  "nbformat_minor": 0
}