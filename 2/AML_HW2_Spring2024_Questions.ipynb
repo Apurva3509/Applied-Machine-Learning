{
  "cells": [
    {
      "cell_type": "markdown",
      "metadata": {
        "id": "PmmINRw92NZ7"
      },
      "source": [
        "## Homework 2: Trees and Calibration\n",
        "### Instructions:\n",
        "Please upload the .ipynb, .pdf to Github prior to the deadline. Please include your UNI as well.\n",
        "\n",
        "Make sure to use the dataset that we provide in CourseWorks/Classroom.\n",
        "\n",
        "There are a lot of applied questions based on the code results. Please make sure to answer them all. These are primarily to test your understanding of the results your code generate (similar to any Data Science/ML case study interviews)."
      ]
    },
    {
      "cell_type": "markdown",
      "metadata": {
        "id": "Paj_32xL2fBV"
      },
      "source": [
        "## Name:  Apurva Patel\n",
        "\n",
        "## UNI: amp2365"
      ]
    },
    {
      "cell_type": "markdown",
      "metadata": {
        "id": "8F3SYLuF2zk6"
      },
      "source": [
        "## The Dataset\n",
        "\n",
        "\n",
        "### Description\n",
        "\n",
        "The Diabetes Dataset comprises medical data from 768 female patients of Pima Indian heritage, including 8 health-related features and a binary target indicating the presence or absence of diabetes.\n"
      ]
    },
    {
      "cell_type": "code",
      "execution_count": null,
      "metadata": {
        "id": "K4qKRFeR4x9t"
      },
      "outputs": [],
      "source": [
        "import warnings\n",
        "warnings.filterwarnings(\"ignore\")\n",
        "\n",
        "import numpy as np\n",
        "import pandas as pd\n",
        "import matplotlib.pyplot as plt\n",
        "import seaborn as sns\n",
        "from sklearn.model_selection import train_test_split\n",
        "from sklearn.preprocessing import StandardScaler, MinMaxScaler\n",
        "from sklearn.preprocessing import OrdinalEncoder"
      ]
    },
    {
      "cell_type": "markdown",
      "metadata": {
        "id": "9gNer0Ey5ERR"
      },
      "source": [
        "## Question 1: Decision Trees"
      ]
    },
    {
      "cell_type": "markdown",
      "metadata": {
        "id": "spGKpLA65Isu"
      },
      "source": [
        "**1.1: Load the provided dataset**"
      ]
    },
    {
      "cell_type": "code",
      "execution_count": null,
      "metadata": {
        "id": "3KuFin5A5HIE"
      },
      "outputs": [],
      "source": [
        "## YOUR CODE HERE"
      ]
    },
    {
      "cell_type": "markdown",
      "metadata": {
        "id": "fvwrl_RH5SAS"
      },
      "source": [
        "**1.2: How many instances are there in the dataset for each class (diabetic and non-diabetic patients)? What does this tell you about the balance of the dataset?**"
      ]
    },
    {
      "cell_type": "code",
      "execution_count": null,
      "metadata": {
        "id": "M8mVUEW13LJt"
      },
      "outputs": [],
      "source": [
        "## YOUR CODE HERE"
      ]
    },
    {
      "cell_type": "markdown",
      "metadata": {
        "id": "Kivt__ZW5wIB"
      },
      "source": [
        "**1.3: Are there any missing values in the dataset? If so, how will you handle them?**"
      ]
    },
    {
      "cell_type": "code",
      "execution_count": null,
      "metadata": {
        "id": "D9_Wqbtw5q5d"
      },
      "outputs": [],
      "source": [
        "## YOUR CODE HERE"
      ]
    },
    {
      "cell_type": "markdown",
      "metadata": {
        "id": "tde1cAL451-9"
      },
      "source": [
        "**1.4: Split the data into development and test datasets. Which splitting methodology did you choose and why?**\n",
        "\n",
        "**Hint: Based on the distribution of the data, try to use the best splitting strategy."
      ]
    },
    {
      "cell_type": "code",
      "execution_count": null,
      "metadata": {
        "id": "1jsR9wdG6CmC"
      },
      "outputs": [],
      "source": [
        "## YOUR CODE HERE"
      ]
    },
    {
      "cell_type": "markdown",
      "metadata": {
        "id": "cg5UnTg_6Bxm"
      },
      "source": [
        "**1.5: Build a decision tree classifier to predict the onset of diabetes. What criterion (e.g., Gini impurity, entropy) did you choose for splitting, and why?**"
      ]
    },
    {
      "cell_type": "code",
      "execution_count": null,
      "metadata": {
        "id": "H8U2azY551Qg"
      },
      "outputs": [],
      "source": [
        "## YOUR CODE HERE"
      ]
    },
    {
      "cell_type": "markdown",
      "metadata": {
        "id": "iqMP3tIT6Orb"
      },
      "source": [
        "**1.6: Evaluate your model using accuracy, precision, recall, and F1-score. What do these metrics reveal about your model's performance?**"
      ]
    },
    {
      "cell_type": "code",
      "execution_count": null,
      "metadata": {
        "id": "rUmMtpQM50xM"
      },
      "outputs": [],
      "source": [
        "## YOUR CODE HERE"
      ]
    },
    {
      "cell_type": "markdown",
      "metadata": {
        "id": "DxTDRJqj6gfn"
      },
      "source": [
        "**1.8: List the top 3 most important features for this trained tree? How would you justify these features being the most important?**"
      ]
    },
    {
      "cell_type": "markdown",
      "metadata": {
        "id": "lFZzklLK6oqx"
      },
      "source": [
        "## Question 2: Random Forests"
      ]
    },
    {
      "cell_type": "markdown",
      "metadata": {
        "id": "lGedQ_QL6sNB"
      },
      "source": [
        "**2.1: Train a Random Forest model on the development dataset using RandomForestClassifier class in sklearn. Use the default parameters. Evaluate the performance of the model on test dataset. Does this perform better than Decision Tree on the test dataset**"
      ]
    },
    {
      "cell_type": "code",
      "execution_count": null,
      "metadata": {
        "id": "Mf0Qbl1u6f5O"
      },
      "outputs": [],
      "source": [
        "## YOUR CODE HERE"
      ]
    },
    {
      "cell_type": "markdown",
      "metadata": {
        "id": "qIiSQKS87D6j"
      },
      "source": [
        "**2.2 Does all trees in the trained random forest model have pure leaves? How would you verify this?**"
      ]
    },
    {
      "cell_type": "code",
      "execution_count": null,
      "metadata": {
        "id": "TIRbd2zd6_1h"
      },
      "outputs": [],
      "source": [
        "## YOUR CODE HERE"
      ]
    },
    {
      "cell_type": "markdown",
      "metadata": {
        "id": "CWK0CAqE7SQh"
      },
      "source": [
        "**2.3: Assume you want to improve the performance of this model. Also, assume that you had to pick two hyperparameters that you could tune to improve its performance. Which hyperparameters would you choose and why?**"
      ]
    },
    {
      "cell_type": "code",
      "execution_count": null,
      "metadata": {
        "id": "Z0tV1hiJ7MCv"
      },
      "outputs": [],
      "source": [
        "## YOUR SOLUTION HERE"
      ]
    },
    {
      "cell_type": "markdown",
      "metadata": {
        "id": "dfYVZUCw7hS7"
      },
      "source": [
        "**2.4: Now, assume you had to choose up to 5 different values (each) for these two hyperparameters. How would you choose these values that could potentially give you a performance lift?**"
      ]
    },
    {
      "cell_type": "code",
      "execution_count": null,
      "metadata": {
        "id": "5RvUNeRW7l-W"
      },
      "outputs": [],
      "source": [
        "## YOUR SOLUTION HERE"
      ]
    },
    {
      "cell_type": "markdown",
      "metadata": {
        "id": "hQa_8Uef7oXA"
      },
      "source": [
        "**2.5: Perform model selection using the chosen values for the hyperparameters. Use cross-validation for finding the optimal hyperparameters. Report on the optimal hyperparameters. Estimate the performance of the optimal model (model trained with optimal hyperparameters) on test dataset? Has the performance improved over your plain-vanilla random forest model trained in Q2.1?**"
      ]
    },
    {
      "cell_type": "code",
      "execution_count": null,
      "metadata": {
        "id": "Dn8RRB4s7Vqw"
      },
      "outputs": [],
      "source": [
        "## YOUR CODE HERE"
      ]
    },
    {
      "cell_type": "markdown",
      "metadata": {
        "id": "7b-pPjmd8AOa"
      },
      "source": [
        "**2.6: Can you find the top 3 most important features from the model trained in Q2.5? How do these features compare to the important features that you found from Q1.8? If they differ, which feature set makes more sense?**"
      ]
    },
    {
      "cell_type": "code",
      "execution_count": null,
      "metadata": {
        "id": "tmmk3WWV744q"
      },
      "outputs": [],
      "source": [
        "## YOUR CODE HERE"
      ]
    },
    {
      "cell_type": "markdown",
      "metadata": {
        "id": "HehLS7lW8Q-B"
      },
      "source": [
        "## Question 3: Gradient Boosted Trees"
      ]
    },
    {
      "cell_type": "markdown",
      "metadata": {
        "id": "FNxL7Gq28XGN"
      },
      "source": [
        "**3.1: Choose three hyperparameters to tune HistGradientBoostingClassifier on the development dataset using 5-fold cross validation. For each hyperparmeter, give it 3 potential values. Report on the time taken to do model selection for the model. Also, report the performance of the test dataset from the optimal models.**"
      ]
    },
    {
      "cell_type": "code",
      "execution_count": null,
      "metadata": {
        "id": "RlP0Y4ke8fDL"
      },
      "outputs": [],
      "source": [
        "## YOUR CODE HERE"
      ]
    },
    {
      "cell_type": "markdown",
      "metadata": {
        "id": "tFs84nru8ius"
      },
      "source": [
        "**3.2: Train an XGBoost model by tuning 3 hyperparameters using 10 fold cross-validation. Compare the performance of the trained XGBoost model on the test dataset against the performances obtained from 3.1**"
      ]
    },
    {
      "cell_type": "code",
      "execution_count": null,
      "metadata": {
        "id": "ktepV1Bt8KFi"
      },
      "outputs": [],
      "source": [
        "## YOUR CODE HERE"
      ]
    },
    {
      "cell_type": "markdown",
      "metadata": {
        "id": "ZBzc4Mcx9IBT"
      },
      "source": [
        "**3.3: Can you list the top 3 features from the trained XGBoost model? How do they differ from the features found from Random Forest and Decision Tree? Which one would you trust the most?**"
      ]
    },
    {
      "cell_type": "code",
      "execution_count": null,
      "metadata": {
        "id": "Q7dZGZpY9J8B"
      },
      "outputs": [],
      "source": [
        "## YOUR CODE HERE"
      ]
    },
    {
      "cell_type": "markdown",
      "metadata": {
        "id": "DvJwLfIS8sTi"
      },
      "source": [
        " **3.4 Can you choose the top 7 features (as given by feature importances from XGBoost) and repeat Q3.2? Does this model perform better than the one trained in Q3.2? Why or why not is the performance better?**"
      ]
    },
    {
      "cell_type": "code",
      "execution_count": null,
      "metadata": {
        "id": "zium-SOj8lhS"
      },
      "outputs": [],
      "source": [
        "## YOUR CODE HERE"
      ]
    }
  ],
  "metadata": {
    "colab": {
      "provenance": []
    },
    "kernelspec": {
      "display_name": "Python 3",
      "name": "python3"
    },
    "language_info": {
      "name": "python"
    }
  },
  "nbformat": 4,
  "nbformat_minor": 0
}
