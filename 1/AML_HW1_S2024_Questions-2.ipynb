{
  "cells": [
    {
      "cell_type": "markdown",
      "id": "4c63f41a",
      "metadata": {
        "id": "4c63f41a"
      },
      "source": [
        "## Homework 1: Applied Machine Learning"
      ]
    },
    {
      "cell_type": "markdown",
      "id": "a6168d8c",
      "metadata": {
        "id": "a6168d8c"
      },
      "source": [
        "This assignment covers contents of the first three lectures.\n",
        "\n",
        "The emphasis for this assignment would be on the following:\n",
        "1. Data Visualization and Analysis\n",
        "2. Linear Models for Regression and Classification\n",
        "3. Support Vector Machines"
      ]
    },
    {
      "cell_type": "code",
      "execution_count": 1,
      "id": "a8ebd22f",
      "metadata": {
        "id": "a8ebd22f"
      },
      "outputs": [],
      "source": [
        "import warnings\n",
        "\n",
        "def fxn():\n",
        "    warnings.warn(\"deprecated\", DeprecationWarning)\n",
        "\n",
        "with warnings.catch_warnings():\n",
        "    warnings.simplefilter(\"ignore\")\n",
        "    fxn()"
      ]
    },
    {
      "cell_type": "code",
      "execution_count": 2,
      "id": "5c4b6bbb",
      "metadata": {
        "id": "5c4b6bbb"
      },
      "outputs": [],
      "source": [
        "import numpy as np\n",
        "import pandas as pd\n",
        "import seaborn as sns\n",
        "import matplotlib.pyplot as plt\n",
        "from numpy.linalg import inv\n",
        "%matplotlib inline\n",
        "from sklearn.model_selection import train_test_split\n",
        "from sklearn.preprocessing import StandardScaler, OneHotEncoder, OrdinalEncoder\n",
        "from sklearn.metrics import r2_score\n",
        "from sklearn.svm import LinearSVC, SVC"
      ]
    },
    {
      "cell_type": "markdown",
      "id": "8953e7b8",
      "metadata": {
        "id": "8953e7b8"
      },
      "source": [
        "## Part 1: Data Visualization and Analysis"
      ]
    },
    {
      "cell_type": "markdown",
      "id": "32d79413",
      "metadata": {
        "id": "32d79413"
      },
      "source": [
        "Data visualization comes in handy when we want to understand data characteristics and read patterns in datasets with thousands of samples and features.\n",
        "\n",
        "<b>Note: Remember to label plot axes while plotting.</b>\n",
        "\n",
        "### The dataset to be used for this section is data / AdultIncome.csv\n",
        "\n"
      ]
    },
    {
      "cell_type": "code",
      "execution_count": 4,
      "id": "61135e32",
      "metadata": {
        "colab": {
          "base_uri": "https://localhost:8080/",
          "height": 669
        },
        "id": "61135e32",
        "outputId": "467b9ad3-4f66-489c-96f8-cf3fabd3f78e"
      },
      "outputs": [
        {
          "data": {
            "text/html": [
              "<div>\n",
              "<style scoped>\n",
              "    .dataframe tbody tr th:only-of-type {\n",
              "        vertical-align: middle;\n",
              "    }\n",
              "\n",
              "    .dataframe tbody tr th {\n",
              "        vertical-align: top;\n",
              "    }\n",
              "\n",
              "    .dataframe thead th {\n",
              "        text-align: right;\n",
              "    }\n",
              "</style>\n",
              "<table border=\"1\" class=\"dataframe\">\n",
              "  <thead>\n",
              "    <tr style=\"text-align: right;\">\n",
              "      <th></th>\n",
              "      <th>age</th>\n",
              "      <th>workclass</th>\n",
              "      <th>education</th>\n",
              "      <th>marital status</th>\n",
              "      <th>occupation</th>\n",
              "      <th>relationship</th>\n",
              "      <th>race</th>\n",
              "      <th>gender</th>\n",
              "      <th>capital gain</th>\n",
              "      <th>capital loss</th>\n",
              "      <th>hours per week</th>\n",
              "      <th>income</th>\n",
              "      <th>income_value</th>\n",
              "    </tr>\n",
              "  </thead>\n",
              "  <tbody>\n",
              "    <tr>\n",
              "      <th>0</th>\n",
              "      <td>90</td>\n",
              "      <td>NaN</td>\n",
              "      <td>HS-grad</td>\n",
              "      <td>Widowed</td>\n",
              "      <td>NaN</td>\n",
              "      <td>Not-in-family</td>\n",
              "      <td>White</td>\n",
              "      <td>Female</td>\n",
              "      <td>0</td>\n",
              "      <td>4356</td>\n",
              "      <td>40</td>\n",
              "      <td>&lt;=50K</td>\n",
              "      <td>47710</td>\n",
              "    </tr>\n",
              "    <tr>\n",
              "      <th>1</th>\n",
              "      <td>82</td>\n",
              "      <td>Private</td>\n",
              "      <td>HS-grad</td>\n",
              "      <td>Widowed</td>\n",
              "      <td>Exec-managerial</td>\n",
              "      <td>Not-in-family</td>\n",
              "      <td>White</td>\n",
              "      <td>Female</td>\n",
              "      <td>0</td>\n",
              "      <td>4356</td>\n",
              "      <td>18</td>\n",
              "      <td>&lt;=50K</td>\n",
              "      <td>40375</td>\n",
              "    </tr>\n",
              "    <tr>\n",
              "      <th>2</th>\n",
              "      <td>66</td>\n",
              "      <td>NaN</td>\n",
              "      <td>Some-college</td>\n",
              "      <td>Widowed</td>\n",
              "      <td>NaN</td>\n",
              "      <td>Unmarried</td>\n",
              "      <td>Black</td>\n",
              "      <td>Female</td>\n",
              "      <td>0</td>\n",
              "      <td>4356</td>\n",
              "      <td>40</td>\n",
              "      <td>&lt;=50K</td>\n",
              "      <td>43369</td>\n",
              "    </tr>\n",
              "    <tr>\n",
              "      <th>3</th>\n",
              "      <td>54</td>\n",
              "      <td>Private</td>\n",
              "      <td>7th-8th</td>\n",
              "      <td>Divorced</td>\n",
              "      <td>Machine-op-inspct</td>\n",
              "      <td>Unmarried</td>\n",
              "      <td>White</td>\n",
              "      <td>Female</td>\n",
              "      <td>0</td>\n",
              "      <td>3900</td>\n",
              "      <td>40</td>\n",
              "      <td>&lt;=50K</td>\n",
              "      <td>32399</td>\n",
              "    </tr>\n",
              "    <tr>\n",
              "      <th>4</th>\n",
              "      <td>41</td>\n",
              "      <td>Private</td>\n",
              "      <td>Some-college</td>\n",
              "      <td>Separated</td>\n",
              "      <td>Prof-specialty</td>\n",
              "      <td>Own-child</td>\n",
              "      <td>White</td>\n",
              "      <td>Female</td>\n",
              "      <td>0</td>\n",
              "      <td>3900</td>\n",
              "      <td>40</td>\n",
              "      <td>&lt;=50K</td>\n",
              "      <td>39642</td>\n",
              "    </tr>\n",
              "    <tr>\n",
              "      <th>...</th>\n",
              "      <td>...</td>\n",
              "      <td>...</td>\n",
              "      <td>...</td>\n",
              "      <td>...</td>\n",
              "      <td>...</td>\n",
              "      <td>...</td>\n",
              "      <td>...</td>\n",
              "      <td>...</td>\n",
              "      <td>...</td>\n",
              "      <td>...</td>\n",
              "      <td>...</td>\n",
              "      <td>...</td>\n",
              "      <td>...</td>\n",
              "    </tr>\n",
              "    <tr>\n",
              "      <th>32556</th>\n",
              "      <td>22</td>\n",
              "      <td>Private</td>\n",
              "      <td>Some-college</td>\n",
              "      <td>Never-married</td>\n",
              "      <td>Protective-serv</td>\n",
              "      <td>Not-in-family</td>\n",
              "      <td>White</td>\n",
              "      <td>Male</td>\n",
              "      <td>0</td>\n",
              "      <td>0</td>\n",
              "      <td>40</td>\n",
              "      <td>&lt;=50K</td>\n",
              "      <td>41979</td>\n",
              "    </tr>\n",
              "    <tr>\n",
              "      <th>32557</th>\n",
              "      <td>27</td>\n",
              "      <td>Private</td>\n",
              "      <td>Assoc-acdm</td>\n",
              "      <td>Married-civ-spouse</td>\n",
              "      <td>Tech-support</td>\n",
              "      <td>Wife</td>\n",
              "      <td>White</td>\n",
              "      <td>Female</td>\n",
              "      <td>0</td>\n",
              "      <td>0</td>\n",
              "      <td>38</td>\n",
              "      <td>&lt;=50K</td>\n",
              "      <td>48434</td>\n",
              "    </tr>\n",
              "    <tr>\n",
              "      <th>32558</th>\n",
              "      <td>40</td>\n",
              "      <td>Private</td>\n",
              "      <td>HS-grad</td>\n",
              "      <td>Married-civ-spouse</td>\n",
              "      <td>Machine-op-inspct</td>\n",
              "      <td>Husband</td>\n",
              "      <td>White</td>\n",
              "      <td>Male</td>\n",
              "      <td>0</td>\n",
              "      <td>0</td>\n",
              "      <td>40</td>\n",
              "      <td>&gt;50K</td>\n",
              "      <td>1247500</td>\n",
              "    </tr>\n",
              "    <tr>\n",
              "      <th>32559</th>\n",
              "      <td>58</td>\n",
              "      <td>Private</td>\n",
              "      <td>HS-grad</td>\n",
              "      <td>Widowed</td>\n",
              "      <td>Adm-clerical</td>\n",
              "      <td>Unmarried</td>\n",
              "      <td>White</td>\n",
              "      <td>Female</td>\n",
              "      <td>0</td>\n",
              "      <td>0</td>\n",
              "      <td>40</td>\n",
              "      <td>&lt;=50K</td>\n",
              "      <td>38473</td>\n",
              "    </tr>\n",
              "    <tr>\n",
              "      <th>32560</th>\n",
              "      <td>22</td>\n",
              "      <td>Private</td>\n",
              "      <td>HS-grad</td>\n",
              "      <td>Never-married</td>\n",
              "      <td>Adm-clerical</td>\n",
              "      <td>Own-child</td>\n",
              "      <td>White</td>\n",
              "      <td>Male</td>\n",
              "      <td>0</td>\n",
              "      <td>0</td>\n",
              "      <td>20</td>\n",
              "      <td>&lt;=50K</td>\n",
              "      <td>35115</td>\n",
              "    </tr>\n",
              "  </tbody>\n",
              "</table>\n",
              "<p>32561 rows × 13 columns</p>\n",
              "</div>"
            ],
            "text/plain": [
              "       age workclass     education      marital status         occupation  \\\n",
              "0       90       NaN       HS-grad             Widowed                NaN   \n",
              "1       82   Private       HS-grad             Widowed    Exec-managerial   \n",
              "2       66       NaN  Some-college             Widowed                NaN   \n",
              "3       54   Private       7th-8th            Divorced  Machine-op-inspct   \n",
              "4       41   Private  Some-college           Separated     Prof-specialty   \n",
              "...    ...       ...           ...                 ...                ...   \n",
              "32556   22   Private  Some-college       Never-married    Protective-serv   \n",
              "32557   27   Private    Assoc-acdm  Married-civ-spouse       Tech-support   \n",
              "32558   40   Private       HS-grad  Married-civ-spouse  Machine-op-inspct   \n",
              "32559   58   Private       HS-grad             Widowed       Adm-clerical   \n",
              "32560   22   Private       HS-grad       Never-married       Adm-clerical   \n",
              "\n",
              "        relationship   race  gender  capital gain  capital loss  \\\n",
              "0      Not-in-family  White  Female             0          4356   \n",
              "1      Not-in-family  White  Female             0          4356   \n",
              "2          Unmarried  Black  Female             0          4356   \n",
              "3          Unmarried  White  Female             0          3900   \n",
              "4          Own-child  White  Female             0          3900   \n",
              "...              ...    ...     ...           ...           ...   \n",
              "32556  Not-in-family  White    Male             0             0   \n",
              "32557           Wife  White  Female             0             0   \n",
              "32558        Husband  White    Male             0             0   \n",
              "32559      Unmarried  White  Female             0             0   \n",
              "32560      Own-child  White    Male             0             0   \n",
              "\n",
              "       hours per week income  income_value  \n",
              "0                  40  <=50K         47710  \n",
              "1                  18  <=50K         40375  \n",
              "2                  40  <=50K         43369  \n",
              "3                  40  <=50K         32399  \n",
              "4                  40  <=50K         39642  \n",
              "...               ...    ...           ...  \n",
              "32556              40  <=50K         41979  \n",
              "32557              38  <=50K         48434  \n",
              "32558              40   >50K       1247500  \n",
              "32559              40  <=50K         38473  \n",
              "32560              20  <=50K         35115  \n",
              "\n",
              "[32561 rows x 13 columns]"
            ]
          },
          "execution_count": 4,
          "metadata": {},
          "output_type": "execute_result"
        }
      ],
      "source": [
        "# Load the dataset\n",
        "adult_income_df = pd.read_csv(\"adult_income.csv\")\n",
        "adult_income_df\n",
        "\n"
      ]
    },
    {
      "cell_type": "markdown",
      "id": "c654de2b",
      "metadata": {
        "id": "c654de2b"
      },
      "source": [
        "<b> 1.1 Handle the missing values of the data and Create a bar chart to compare the average income for Females and Males from Income Dataset. Are there differences in income ? </b>"
      ]
    },
    {
      "cell_type": "code",
      "execution_count": null,
      "id": "4bf04d4a",
      "metadata": {
        "id": "4bf04d4a"
      },
      "outputs": [],
      "source": [
        "### Code here\n",
        "\n"
      ]
    },
    {
      "cell_type": "code",
      "execution_count": null,
      "id": "9n5yH9PwVbKS",
      "metadata": {
        "id": "9n5yH9PwVbKS"
      },
      "outputs": [],
      "source": []
    },
    {
      "cell_type": "code",
      "execution_count": null,
      "id": "f58feee3",
      "metadata": {
        "id": "f58feee3"
      },
      "outputs": [],
      "source": [
        "### Comment here\n"
      ]
    },
    {
      "cell_type": "markdown",
      "id": "19775726",
      "metadata": {
        "id": "19775726"
      },
      "source": [
        "<b> 1.2 Plot a small multiple of bar charts to understand data distribution of the following categorical variables Income Dataset. </b>\n",
        "1. race\n",
        "2. gender\n",
        "3. maritial_status\n",
        "4. working class\n",
        "5. relation\n",
        "<b></b>"
      ]
    },
    {
      "cell_type": "code",
      "execution_count": null,
      "id": "3cc55aba",
      "metadata": {
        "id": "3cc55aba",
        "scrolled": false
      },
      "outputs": [],
      "source": []
    },
    {
      "cell_type": "markdown",
      "id": "635fd0a9",
      "metadata": {
        "id": "635fd0a9"
      },
      "source": [
        "<b> 1.3 Compare the income of based on Education Qualification in Income Data Set</b>\n",
        "\n",
        "\n",
        "\n"
      ]
    },
    {
      "cell_type": "code",
      "execution_count": null,
      "id": "43e12866",
      "metadata": {
        "id": "43e12866"
      },
      "outputs": [],
      "source": [
        "### Code here\n",
        "\n"
      ]
    },
    {
      "cell_type": "markdown",
      "id": "6e31ae61",
      "metadata": {
        "id": "6e31ae61"
      },
      "source": [
        "<b> 1.4 Plot relationships between the following features and the target variable Income_value as a small multiple of scatter plots, is there any relation between them ? Is it possible to perform Regression on it ? </b>\n",
        "\n",
        "1. age\n",
        "2. capital gain\n",
        "3. capital loss\n",
        "4. hours per week\n",
        "\n",
        "\n",
        "\n",
        "<b></b>"
      ]
    },
    {
      "cell_type": "code",
      "execution_count": null,
      "id": "eb04cac6",
      "metadata": {
        "id": "eb04cac6"
      },
      "outputs": [],
      "source": [
        "### Code here\n"
      ]
    },
    {
      "cell_type": "markdown",
      "id": "XXbR4gJOgEXt",
      "metadata": {
        "id": "XXbR4gJOgEXt"
      },
      "source": [
        "<b> 1.5  Load the Car Rental Data Set , handle missing values and Create a bar chart to compare the average car rental count on holiday and non-holiday weekdays. Are there differences in rental patterns? </b>\n",
        "\n",
        "\n",
        "### The dataset to be used for this section is data / car_rental.csv"
      ]
    },
    {
      "cell_type": "code",
      "execution_count": null,
      "id": "V-_JE9m_0ZVz",
      "metadata": {
        "id": "V-_JE9m_0ZVz"
      },
      "outputs": [],
      "source": [
        "# Load the dataset\n",
        "car_rental_df = pd.read_csv('car_rental.csv')\n",
        "car_rental_df"
      ]
    },
    {
      "cell_type": "code",
      "execution_count": null,
      "id": "IktHBc5Qhaiq",
      "metadata": {
        "id": "IktHBc5Qhaiq"
      },
      "outputs": [],
      "source": [
        "### Code here"
      ]
    },
    {
      "cell_type": "code",
      "execution_count": null,
      "id": "FgvDrLczgPlp",
      "metadata": {
        "id": "FgvDrLczgPlp"
      },
      "outputs": [],
      "source": [
        "### Comment here"
      ]
    },
    {
      "cell_type": "markdown",
      "id": "1hfxqaFjgboQ",
      "metadata": {
        "id": "1hfxqaFjgboQ"
      },
      "source": [
        "<b> 1.6 Plot a small multiple of bar charts to understand data distribution of the following categorical variables. </b>\n",
        "1. month\n",
        "2. season\n",
        "3. working_day\n",
        "4. weather\n",
        "<b></b>"
      ]
    },
    {
      "cell_type": "code",
      "execution_count": null,
      "id": "m1Ha5k9-gYK6",
      "metadata": {
        "id": "m1Ha5k9-gYK6"
      },
      "outputs": [],
      "source": [
        "### Code Here"
      ]
    },
    {
      "cell_type": "markdown",
      "id": "stcEERMPgi5i",
      "metadata": {
        "id": "stcEERMPgi5i"
      },
      "source": [
        "<b> 1.7 Compare the number of registered and casual car rentals over time by month. Create a stacked bar chart to show the contributions of each user type. </b>"
      ]
    },
    {
      "cell_type": "code",
      "execution_count": null,
      "id": "HVrMGpK1grkj",
      "metadata": {
        "id": "HVrMGpK1grkj"
      },
      "outputs": [],
      "source": [
        "### Code here"
      ]
    },
    {
      "cell_type": "markdown",
      "id": "IaFSchdhgz8x",
      "metadata": {
        "id": "IaFSchdhgz8x"
      },
      "source": [
        "<b> 1.4 Plot relationships between the following features and the target variable count as a small multiple of scatter plots.is there any relationship between them ? </b>\n",
        "\n",
        "1. temp\n",
        "2. feels_temp\n",
        "3. humidity\n",
        "4. windspeed\n",
        "<b></b>"
      ]
    },
    {
      "cell_type": "code",
      "execution_count": null,
      "id": "QcW3rEU1ger0",
      "metadata": {
        "id": "QcW3rEU1ger0"
      },
      "outputs": [],
      "source": [
        "### Code here"
      ]
    },
    {
      "cell_type": "code",
      "execution_count": null,
      "id": "ja1kXd7Z02AB",
      "metadata": {
        "id": "ja1kXd7Z02AB"
      },
      "outputs": [],
      "source": [
        "### Comment here"
      ]
    },
    {
      "cell_type": "markdown",
      "id": "02351dde",
      "metadata": {
        "id": "02351dde"
      },
      "source": [
        "## Part 2: Linear Models for Regression and Classification\n",
        "\n",
        "In this section, we will be implementing three linear models **linear regression, logistic regression, and SVM**. We will see that despite some of their differences at the surface, these linear models (and many machine learning models in general) are fundamentally doing the same thing - that is, optimizing model parameters to minimize a loss function on data."
      ]
    },
    {
      "cell_type": "markdown",
      "id": "827061fc",
      "metadata": {
        "id": "827061fc"
      },
      "source": [
        "### 2.1 Linear Regression\n"
      ]
    },
    {
      "cell_type": "markdown",
      "id": "7b15f701",
      "metadata": {
        "id": "7b15f701"
      },
      "source": [
        "The objective of this dataset is to predict the count of car rentals based on weather and time. We will use linear regression to predict the count using weather and time."
      ]
    },
    {
      "cell_type": "code",
      "execution_count": null,
      "id": "938b19cc",
      "metadata": {
        "id": "938b19cc"
      },
      "outputs": [],
      "source": [
        "# split data into features and labels\n",
        "\n",
        "car_rental_X = car_rental_df.drop(columns=['count_value'])\n",
        "car_rental_y = car_rental_df['count_value']"
      ]
    },
    {
      "cell_type": "markdown",
      "id": "ca73bc64",
      "metadata": {
        "id": "ca73bc64"
      },
      "source": [
        "**2.1.1 Plot the relationships between the label (count_value) and the continuous features (temp, feels_temp, humidity, windspeed, casual, registered) using a small multiple of scatter plots. Make sure to label the axes.**"
      ]
    },
    {
      "cell_type": "code",
      "execution_count": null,
      "id": "2b989f12",
      "metadata": {
        "id": "2b989f12"
      },
      "outputs": [],
      "source": [
        "### Code here\n",
        "\n"
      ]
    },
    {
      "cell_type": "markdown",
      "id": "c7125b5a",
      "metadata": {
        "id": "c7125b5a"
      },
      "source": [
        "**2.1.2 From the visualizations above, do you think linear regression is a good model for this problem? Why and/or why not? Please explain.**"
      ]
    },
    {
      "cell_type": "code",
      "execution_count": null,
      "id": "0c597cb1",
      "metadata": {
        "id": "0c597cb1"
      },
      "outputs": [],
      "source": [
        "### Comment here\n"
      ]
    },
    {
      "cell_type": "markdown",
      "id": "0c506563",
      "metadata": {
        "id": "0c506563"
      },
      "source": [
        "### Data Preprocessing\n",
        "\n",
        "Before we can fit a linear regression model, there are several pre-processing steps we should apply to the datasets:\n",
        "\n",
        "1. Encode categorial features appropriately.\n",
        "2. Remove highly collinear features by reading the correlation plot.\n",
        "3. Split the dataset into training (60%), validation (20%), and test (20%) sets.\n",
        "4. Standardize the columns in the feature matrices X_train, X_val, and X_test to have zero mean and unit variance. To avoid information leakage, learn the standardization parameters (mean, variance) from X_train, and apply it to X_train, X_val, and X_test.\n",
        "5. Add a column of ones to the feature matrices X_train, X_val, and X_test. This is a common trick so that we can learn a coefficient for the bias term of a linear model.\n"
      ]
    },
    {
      "cell_type": "markdown",
      "id": "e4fb1681",
      "metadata": {
        "id": "e4fb1681"
      },
      "source": [
        "**2.1.3 Encode the categorical variables of the dataset.**"
      ]
    },
    {
      "cell_type": "code",
      "execution_count": null,
      "id": "dd5a01e1",
      "metadata": {
        "id": "dd5a01e1"
      },
      "outputs": [],
      "source": [
        "### Code here\n"
      ]
    },
    {
      "cell_type": "code",
      "execution_count": null,
      "id": "f46c2812",
      "metadata": {
        "id": "f46c2812"
      },
      "outputs": [],
      "source": [
        "### Code here\n"
      ]
    },
    {
      "cell_type": "markdown",
      "id": "506c6d2f",
      "metadata": {
        "id": "506c6d2f"
      },
      "source": [
        "**2.1.4 Plot the correlation matrix, and check if there is high correlation between the given numerical features (Threshold >=0.9). If yes, drop one from each pair of highly correlated features from the dataframe. Why is necessary to drop those columns before proceeding further?**"
      ]
    },
    {
      "cell_type": "code",
      "execution_count": null,
      "id": "90fcf047",
      "metadata": {
        "id": "90fcf047"
      },
      "outputs": [],
      "source": [
        "### Code here\n",
        "\n"
      ]
    },
    {
      "cell_type": "code",
      "execution_count": null,
      "id": "4448aac9",
      "metadata": {
        "id": "4448aac9"
      },
      "outputs": [],
      "source": [
        "### Code here\n"
      ]
    },
    {
      "cell_type": "code",
      "execution_count": null,
      "id": "c238b6b3",
      "metadata": {
        "id": "c238b6b3"
      },
      "outputs": [],
      "source": [
        "### Comment here\n"
      ]
    },
    {
      "cell_type": "markdown",
      "id": "9f399b30",
      "metadata": {
        "id": "9f399b30"
      },
      "source": [
        "**2.1.5 Split the dataset into training (60%), validation (20%), and test (20%) sets.**"
      ]
    },
    {
      "cell_type": "code",
      "execution_count": null,
      "id": "762148ac",
      "metadata": {
        "id": "762148ac"
      },
      "outputs": [],
      "source": [
        "### Code here\n"
      ]
    },
    {
      "cell_type": "markdown",
      "id": "24b496c9",
      "metadata": {
        "id": "24b496c9"
      },
      "source": [
        "**2.1.6 Standardize the columns in the feature matrices.**"
      ]
    },
    {
      "cell_type": "code",
      "execution_count": null,
      "id": "0e26e324",
      "metadata": {
        "id": "0e26e324"
      },
      "outputs": [],
      "source": [
        "### Code here\n"
      ]
    },
    {
      "cell_type": "code",
      "execution_count": null,
      "id": "9f578552",
      "metadata": {
        "id": "9f578552"
      },
      "outputs": [],
      "source": [
        "#Adding a column of ones to the feature matrices for the bias term.\n",
        "\n",
        "# car_rental_X_train = np.hstack([np.ones((car_rental_X_train.shape[0], 1)), car_rental_X_train])\n",
        "# car_rental_X_val = np.hstack([np.ones((car_rental_X_val.shape[0], 1)), car_rental_X_val])\n",
        "# car_rental_X_test = np.hstack([np.ones((car_rental_X_test.shape[0], 1)), car_rental_X_test])\n"
      ]
    },
    {
      "cell_type": "markdown",
      "id": "28e5828d",
      "metadata": {
        "id": "28e5828d"
      },
      "source": [
        "At the end of this pre-processing, you should have the following vectors and matrices:\n",
        "- Car_Rental Prediction dataset: car_rental_X_train, car_rental_X_val, car_rental_X_test, car_rental_y_train, car_rental_y_val, car_rental_y_test"
      ]
    },
    {
      "cell_type": "markdown",
      "id": "bfa6ebb6",
      "metadata": {
        "id": "bfa6ebb6"
      },
      "source": [
        "### Implement Linear Regression"
      ]
    },
    {
      "cell_type": "markdown",
      "id": "e2219502",
      "metadata": {
        "id": "e2219502"
      },
      "source": [
        "Now, we can implement our linear regression model! Specifically, we will be implementing ridge regression, which is linear regression with L2 regularization. Given an (m x n) feature matrix $X$, an (m x 1) label vector $y$, and an (n x 1) weight vector $w$, the hypothesis function for linear regression is:\n",
        "\n",
        "$$\n",
        "y = X w\n",
        "$$\n",
        "\n",
        "Note that we can omit the bias term here because we have included a column of ones in our $X$ matrix, so the bias term is learned implicitly as a part of $w$. This will make our implementation easier.\n",
        "\n",
        "Our objective in linear regression is to learn the weights $w$ which best fit the data. This notion can be formalized as finding the optimal $w$ which minimizes the following loss function:\n",
        "\n",
        "$$\n",
        "\\min_{w} \\| X w - y \\|^2_2 + \\alpha \\| w \\|^2_2 \\\\\n",
        "$$\n",
        "\n",
        "This is the ridge regression loss function. The $\\| X w - y \\|^2_2$ term penalizes predictions $Xw$ which are not close to the label $y$. And the $\\alpha \\| w \\|^2_2$ penalizes large weight values, to favor a simpler, more generalizable model. The $\\alpha$ hyperparameter, known as the regularization parameter, is used to tune the complexity of the model - a higher $\\alpha$ results in smaller weights and lower complexity, and vice versa. Setting $\\alpha = 0$ gives us vanilla linear regression.\n",
        "\n",
        "Conveniently, ridge regression has a closed-form solution which gives us the optimal $w$ without having to do iterative methods such as gradient descent. The closed-form solution, known as the Normal Equations, is given by:\n",
        "\n",
        "$$\n",
        "w = (X^T X + \\alpha I)^{-1} X^T y\n",
        "$$"
      ]
    },
    {
      "cell_type": "markdown",
      "id": "032bf7ed",
      "metadata": {
        "id": "032bf7ed"
      },
      "source": [
        "**2.1.7 Implement a `LinearRegression` class with two methods: `train` and `predict`.**\n",
        "\n",
        "**Note: You may NOT use sklearn for this implementation. You may, however, use `np.linalg.solve` to find the closed-form solution. It is highly recommended that you vectorize your code.**"
      ]
    },
    {
      "cell_type": "code",
      "execution_count": null,
      "id": "d1a0741b",
      "metadata": {
        "id": "d1a0741b"
      },
      "outputs": [],
      "source": [
        "class LinearRegression():\n",
        "    '''\n",
        "    Linear regression model with L2-regularization (i.e. ridge regression).\n",
        "\n",
        "    Attributes\n",
        "    ----------\n",
        "    alpha: regularization parameter\n",
        "    w: (n x 1) weight vector\n",
        "    '''\n",
        "\n",
        "    def __init__(self, alpha=0):\n",
        "        self.alpha = alpha\n",
        "        self.w = None\n",
        "\n",
        "    def train(self, X, y):\n",
        "        '''Trains model using ridge regression closed-form solution\n",
        "        (sets w to its optimal value).\n",
        "\n",
        "        Parameters\n",
        "        ----------\n",
        "        X : (m x n) feature matrix\n",
        "        y: (m x 1) label vector\n",
        "\n",
        "        Returns\n",
        "        -------\n",
        "        None\n",
        "        '''\n",
        "        ### Your code here\n",
        "\n",
        "\n",
        "        return None\n",
        "\n",
        "    def predict(self, X):\n",
        "        '''Predicts on X using trained model.\n",
        "\n",
        "        Parameters\n",
        "        ----------\n",
        "        X : (m x n) feature matrix\n",
        "\n",
        "        Returns\n",
        "        -------\n",
        "        y_pred: (m x 1) prediction vector\n",
        "        '''\n",
        "        ### Your code here\n",
        "\n"
      ]
    },
    {
      "cell_type": "markdown",
      "id": "9efff72f",
      "metadata": {
        "id": "9efff72f"
      },
      "source": [
        "### Train, Evaluate, and Interpret LR Model"
      ]
    },
    {
      "cell_type": "markdown",
      "id": "da794206",
      "metadata": {
        "id": "da794206"
      },
      "source": [
        "**2.1.8 Train a linear regression model ($\\alpha = 0$) on the training data. Make predictions and report the $R^2$ score on the training, validation, and test sets. Report the first 3 and last 3 predictions on the test set, along with the actual labels.**"
      ]
    },
    {
      "cell_type": "code",
      "execution_count": null,
      "id": "0af9824b",
      "metadata": {
        "id": "0af9824b"
      },
      "outputs": [],
      "source": [
        "def get_report(y_pred, y_test):\n",
        "    \"\"\"\n",
        "    function to Report the first 3 and last 3 predictions on X_test,\n",
        "    along with the actual labels in y_test.\n",
        "\n",
        "    Returns a dataframe with 6 rows.\n",
        "    \"\"\"\n",
        "    preds = np.concatenate([y_pred[:3], y_pred[-3:]])\n",
        "    actuals = np.concatenate([y_test[:3], y_test[-3:]])\n",
        "    df_compare = pd.DataFrame({'Prediction': preds,\n",
        "                               'Actual':actuals})\n",
        "    df_compare['Position'] = [1, 2, 3, len(y_pred) - 2, len(y_pred) - 1, len(y_pred)]\n",
        "    df_compare = df_compare.set_index('Position')\n",
        "    return df_compare"
      ]
    },
    {
      "cell_type": "code",
      "execution_count": null,
      "id": "3336c55f",
      "metadata": {
        "id": "3336c55f"
      },
      "outputs": [],
      "source": [
        "### Code here\n"
      ]
    },
    {
      "cell_type": "markdown",
      "id": "7b79ca6b",
      "metadata": {
        "id": "7b79ca6b"
      },
      "source": [
        "**2.1.9 As a baseline model, use the mean of the training labels (car_rental_y_train) as the prediction for all instances. Report the $R^2$ on the training, validation, and test sets using this baseline.**\n",
        "\n",
        ">This is a common baseline used in regression problems and tells you if your model is any good. Your linear regression $R^2$ should be much higher than these baseline $R^2$."
      ]
    },
    {
      "cell_type": "code",
      "execution_count": null,
      "id": "5bd3cdb9",
      "metadata": {
        "id": "5bd3cdb9"
      },
      "outputs": [],
      "source": [
        "### Code here\n"
      ]
    },
    {
      "cell_type": "markdown",
      "id": "70d82552",
      "metadata": {
        "id": "70d82552"
      },
      "source": [
        "**2.1.10 Interpret your model trained on the car rental dataset using a bar chart of the model weights. Make sure to label the bars (x-axis) and don't forget the bias term!**"
      ]
    },
    {
      "cell_type": "code",
      "execution_count": null,
      "id": "a26a0159",
      "metadata": {
        "id": "a26a0159"
      },
      "outputs": [],
      "source": [
        "### Code here\n"
      ]
    },
    {
      "cell_type": "markdown",
      "id": "61337976",
      "metadata": {
        "id": "61337976"
      },
      "source": [
        "**2.1.11 According to your model, which features are the greatest contributors to the income?**"
      ]
    },
    {
      "cell_type": "code",
      "execution_count": null,
      "id": "5db507b9",
      "metadata": {
        "id": "5db507b9"
      },
      "outputs": [],
      "source": [
        "### Comment here\n"
      ]
    },
    {
      "cell_type": "markdown",
      "id": "f203c527",
      "metadata": {
        "id": "f203c527"
      },
      "source": [
        "### Hyperparameter Tuning ($\\alpha$)"
      ]
    },
    {
      "cell_type": "markdown",
      "id": "96546618",
      "metadata": {
        "id": "96546618"
      },
      "source": [
        "Now, let's do ridge regression and tune the $\\alpha$ regularization parameter on the car rental dataset.\n",
        "\n",
        "**2.1.12 Sweep out values for $\\alpha$ using alphas = np.logspace(-5, 1, 20). Perform a grid search over these $\\alpha$ values, recording the training and validation $R^2$ for each $\\alpha$. A simple grid search is fine, no need for k-fold cross validation. Plot the training and validation $R^2$ as a function of $\\alpha$ on a single figure. Make sure to label the axes and the training and validation $R^2$ curves. Use a log scale for the x-axis.**"
      ]
    },
    {
      "cell_type": "code",
      "execution_count": null,
      "id": "eeb83ffd",
      "metadata": {
        "id": "eeb83ffd"
      },
      "outputs": [],
      "source": [
        "### Code here\n"
      ]
    },
    {
      "cell_type": "markdown",
      "id": "da9244f5",
      "metadata": {
        "id": "da9244f5"
      },
      "source": [
        "**2.1.13 Explain your plot above. How do training and validation $R^2$ behave with decreasing model complexity (increasing $\\alpha$)?**"
      ]
    },
    {
      "cell_type": "code",
      "execution_count": null,
      "id": "8373ca6d",
      "metadata": {
        "id": "8373ca6d"
      },
      "outputs": [],
      "source": [
        "### Comment here\n"
      ]
    },
    {
      "cell_type": "markdown",
      "id": "c6bb572a",
      "metadata": {
        "id": "c6bb572a"
      },
      "source": [
        "### 2.2 Logistic Regression"
      ]
    },
    {
      "cell_type": "markdown",
      "id": "d7bd2d36",
      "metadata": {
        "id": "d7bd2d36"
      },
      "source": [
        "**2.2.1 Load the dataset, the dataset to be used is loan_data.csv**"
      ]
    },
    {
      "cell_type": "code",
      "execution_count": null,
      "id": "a531b507",
      "metadata": {
        "id": "a531b507"
      },
      "outputs": [],
      "source": [
        "### Code here\n"
      ]
    },
    {
      "cell_type": "code",
      "execution_count": null,
      "id": "8ccfa17a",
      "metadata": {
        "id": "8ccfa17a"
      },
      "outputs": [],
      "source": [
        "# loan_data_df = loan_data_df.drop(columns=['Loan_ID'])"
      ]
    },
    {
      "cell_type": "markdown",
      "id": "b2c491a2",
      "metadata": {
        "id": "b2c491a2"
      },
      "source": [
        "**2.2.2 Are there any missing values in the dataset? If so, what is the best way to deal with it and why?**"
      ]
    },
    {
      "cell_type": "code",
      "execution_count": null,
      "id": "462cfc1e",
      "metadata": {
        "id": "462cfc1e"
      },
      "outputs": [],
      "source": [
        "### Code here\n"
      ]
    },
    {
      "cell_type": "code",
      "execution_count": null,
      "id": "b9db29c3",
      "metadata": {
        "id": "b9db29c3"
      },
      "outputs": [],
      "source": [
        "### Code here\n"
      ]
    },
    {
      "cell_type": "code",
      "execution_count": null,
      "id": "7ac212e4",
      "metadata": {
        "id": "7ac212e4"
      },
      "outputs": [],
      "source": [
        "### Comment here\n"
      ]
    },
    {
      "cell_type": "markdown",
      "id": "8d1f500e",
      "metadata": {
        "id": "8d1f500e"
      },
      "source": [
        "**2.2.3 Encode the categorical variables.**"
      ]
    },
    {
      "cell_type": "code",
      "execution_count": null,
      "id": "bf9b90f8",
      "metadata": {
        "id": "bf9b90f8"
      },
      "outputs": [],
      "source": [
        "### Code here\n"
      ]
    },
    {
      "cell_type": "markdown",
      "id": "ad6c857e",
      "metadata": {
        "id": "ad6c857e"
      },
      "source": [
        "**2.2.4 Do you think that the distribution of labels is balanced? Why/why not? Hint: Find the probability of the different categories.**"
      ]
    },
    {
      "cell_type": "code",
      "execution_count": null,
      "id": "2651fe71",
      "metadata": {
        "id": "2651fe71"
      },
      "outputs": [],
      "source": [
        "### Code here\n"
      ]
    },
    {
      "cell_type": "code",
      "execution_count": null,
      "id": "b8858d66",
      "metadata": {
        "id": "b8858d66"
      },
      "outputs": [],
      "source": [
        "### Comment here\n"
      ]
    },
    {
      "cell_type": "markdown",
      "id": "81d214f9",
      "metadata": {
        "id": "81d214f9"
      },
      "source": [
        "**2.2.5 Plot the correlation matrix (first separate features and Y variable), and check if there is high correlation between the given numerical features (Threshold >=0.9). If yes, drop those highly correlated features from the dataframe.**"
      ]
    },
    {
      "cell_type": "code",
      "execution_count": null,
      "id": "088981a4",
      "metadata": {
        "id": "088981a4"
      },
      "outputs": [],
      "source": [
        "### Code here\n"
      ]
    },
    {
      "cell_type": "code",
      "execution_count": null,
      "id": "8754f3e2",
      "metadata": {
        "id": "8754f3e2"
      },
      "outputs": [],
      "source": [
        "### Code here\n"
      ]
    },
    {
      "cell_type": "code",
      "execution_count": null,
      "id": "a65ebe12",
      "metadata": {
        "id": "a65ebe12"
      },
      "outputs": [],
      "source": [
        "### Code here\n"
      ]
    },
    {
      "cell_type": "markdown",
      "id": "09a40883",
      "metadata": {
        "id": "09a40883"
      },
      "source": [
        "**2.2.6 Apply the following pre-processing steps:**\n",
        "\n",
        "1. Convert the label from a Pandas series to a Numpy (m x 1) vector. If you don't do this, it may cause problems when implementing the logistic regression model.\n",
        "2. Split the dataset into training (60%), validation (20%), and test (20%) sets.\n",
        "3. Standardize the columns in the feature matrices. To avoid information leakage, learn the standardization parameters from training, and then apply training, validation and test dataset.\n",
        "4. Add a column of ones to the feature matrices of train, validation and test dataset. This is a common trick so that we can learn a coefficient for the bias term of a linear model."
      ]
    },
    {
      "cell_type": "code",
      "execution_count": null,
      "id": "41150c25",
      "metadata": {
        "id": "41150c25"
      },
      "outputs": [],
      "source": [
        "### Code here\n"
      ]
    },
    {
      "cell_type": "markdown",
      "id": "7eb29880",
      "metadata": {
        "id": "7eb29880"
      },
      "source": [
        "### Implement Logisitc Regression\n",
        "\n",
        "We will now implement logistic regression with L2 regularization. Given an (m x n) feature matrix $X$, an (m x 1) label vector $y$, and an (n x 1) weight vector $w$, the hypothesis function for logistic regression is:\n",
        "\n",
        "$$\n",
        "y = \\sigma(X w)\n",
        "$$\n",
        "\n",
        "where $\\sigma(x) = \\frac{1}{1 + e^{-x}}$, i.e. the sigmoid function. This function scales the prediction to be a probability between 0 and 1, and can then be thresholded to get a discrete class prediction.\n",
        "\n",
        "Just as with linear regression, our objective in logistic regression is to learn the weights $𝑤$ which best fit the data. For L2-regularized logistic regression, we find an optimal $w$ to minimize the following loss function:\n",
        "\n",
        "$$\n",
        "\\min_{w} \\ -y^T \\ \\text{log}(\\sigma(Xw)) \\ - \\  (\\mathbf{1} - y)^T \\ \\text{log}(\\mathbf{1} - \\sigma(Xw)) \\ + \\ \\alpha \\| w \\|^2_2 \\\\\n",
        "$$\n",
        "\n",
        "Unlike linear regression, however, logistic regression has no closed-form solution for the optimal $w$. So, we will use gradient descent to find the optimal $w$. The (n x 1) gradient vector $g$ for the loss function above is:\n",
        "\n",
        "$$\n",
        "g = X^T \\Big(\\sigma(Xw) - y\\Big) + 2 \\alpha w\n",
        "$$\n",
        "\n",
        "Below is pseudocode for gradient descent to find the optimal $w$. You should first initialize $w$ (e.g. to a (n x 1) zero vector). Then, for some number of epochs $t$, you should update $w$ with $w - \\eta g $, where $\\eta$ is the learning rate and $g$ is the gradient. You can learn more about gradient descent [here](https://www.coursera.org/lecture/machine-learning/gradient-descent-8SpIM).\n",
        "\n",
        "> $w = \\mathbf{0}$\n",
        ">\n",
        "> $\\text{for } i = 1, 2, ..., t$\n",
        ">\n",
        "> $\\quad \\quad w = w - \\eta g $\n"
      ]
    },
    {
      "cell_type": "markdown",
      "id": "f7bad34c",
      "metadata": {
        "id": "f7bad34c"
      },
      "source": [
        "**A LogisticRegression class with five methods: train, predict, calculate_loss, calculate_gradient, and calculate_sigmoid has been implemented for you below.**"
      ]
    },
    {
      "cell_type": "code",
      "execution_count": null,
      "id": "7df28ab3",
      "metadata": {
        "id": "7df28ab3"
      },
      "outputs": [],
      "source": [
        "class LogisticRegression():\n",
        "    '''\n",
        "    Logistic regression model with L2 regularization.\n",
        "\n",
        "    Attributes\n",
        "    ----------\n",
        "    alpha: regularization parameter\n",
        "    t: number of epochs to run gradient descent\n",
        "    eta: learning rate for gradient descent\n",
        "    w: (n x 1) weight vector\n",
        "    '''\n",
        "\n",
        "    def __init__(self, alpha=0, t=100, eta=1e-3):\n",
        "        self.alpha = alpha\n",
        "        self.t = t\n",
        "        self.eta = eta\n",
        "        self.w = None\n",
        "\n",
        "    def train(self, X, y):\n",
        "        '''Trains logistic regression model using gradient descent\n",
        "        (sets w to its optimal value).\n",
        "\n",
        "        Parameters\n",
        "        ----------\n",
        "        X : (m x n) feature matrix\n",
        "        y: (m x 1) label vector\n",
        "\n",
        "        Returns\n",
        "        -------\n",
        "        losses: (t x 1) vector of losses at each epoch of gradient descent\n",
        "        '''\n",
        "\n",
        "        loss = list()\n",
        "        self.w = np.zeros((X.shape[1],1))\n",
        "        for i in range(self.t):\n",
        "            self.w = self.w - (self.eta * self.calculate_gradient(X, y))\n",
        "            loss.append(self.calculate_loss(X, y))\n",
        "        return loss\n",
        "\n",
        "    def predict(self, X):\n",
        "        '''Predicts on X using trained model. Make sure to threshold\n",
        "        the predicted probability to return a 0 or 1 prediction.\n",
        "\n",
        "        Parameters\n",
        "        ----------\n",
        "        X : (m x n) feature matrix\n",
        "\n",
        "        Returns\n",
        "        -------\n",
        "        y_pred: (m x 1) 0/1 prediction vector\n",
        "        '''\n",
        "        y_pred = self.calculate_sigmoid(X.dot(self.w))\n",
        "        y_pred[y_pred >= 0.5] = 1\n",
        "        y_pred[y_pred < 0.5] = 0\n",
        "        return y_pred\n",
        "\n",
        "    def calculate_loss(self, X, y):\n",
        "        '''Calculates the logistic regression loss using X, y, w,\n",
        "        and alpha. Useful as a helper function for train().\n",
        "\n",
        "        Parameters\n",
        "        ----------\n",
        "        X : (m x n) feature matrix\n",
        "        y: (m x 1) label vector\n",
        "\n",
        "        Returns\n",
        "        -------\n",
        "        loss: (scalar) logistic regression loss\n",
        "        '''\n",
        "        return -y.T.dot(np.log(self.calculate_sigmoid(X.dot(self.w)))) - (1-y).T.dot(np.log(1-self.calculate_sigmoid(X.dot(self.w)))) + self.alpha*np.linalg.norm(self.w, ord=2)**2\n",
        "\n",
        "    def calculate_gradient(self, X, y):\n",
        "        '''Calculates the gradient of the logistic regression loss\n",
        "        using X, y, w, and alpha. Useful as a helper function\n",
        "        for train().\n",
        "\n",
        "        Parameters\n",
        "        ----------\n",
        "        X : (m x n) feature matrix\n",
        "        y: (m x 1) label vector\n",
        "\n",
        "        Returns\n",
        "        -------\n",
        "        gradient: (n x 1) gradient vector for logistic regression loss\n",
        "        '''\n",
        "        return X.T.dot(self.calculate_sigmoid( X.dot(self.w)) - y) + 2*self.alpha*self.w\n",
        "\n",
        "\n",
        "    def calculate_sigmoid(self, x):\n",
        "        '''Calculates the sigmoid function on each element in vector x.\n",
        "        Useful as a helper function for predict(), calculate_loss(),\n",
        "        and calculate_gradient().\n",
        "\n",
        "        Parameters\n",
        "        ----------\n",
        "        x: (m x 1) vector\n",
        "\n",
        "        Returns\n",
        "        -------\n",
        "        sigmoid_x: (m x 1) vector of sigmoid on each element in x\n",
        "        '''\n",
        "        return (1)/(1 + np.exp(-x.astype('float')))"
      ]
    },
    {
      "cell_type": "markdown",
      "id": "861990c4",
      "metadata": {
        "id": "861990c4"
      },
      "source": [
        "**2.2.7 Plot Loss over Epoch and Search the space randomly to find best hyperparameters.**\n",
        "\n",
        "i) Using your implementation above, train a logistic regression model **(alpha=0, t=100, eta=1e-3)** on the loan training data. Plot the training loss over epochs. Make sure to label your axes. You should see the loss decreasing and start to converge.\n",
        "\n",
        "ii) Using **alpha between (0,1), eta between(0, 0.001) and t between (0, 100)**, find the best hyperparameters for LogisticRegression. You can randomly search the space 20 times to find the best hyperparameters.\n",
        "\n",
        "iii) Compare accuracy on the test dataset for both the scenarios."
      ]
    },
    {
      "cell_type": "code",
      "execution_count": null,
      "id": "bec1adb5",
      "metadata": {
        "id": "bec1adb5"
      },
      "outputs": [],
      "source": [
        "### Code here\n"
      ]
    },
    {
      "cell_type": "code",
      "execution_count": null,
      "id": "3043a971",
      "metadata": {
        "id": "3043a971"
      },
      "outputs": [],
      "source": [
        "### Code here\n"
      ]
    },
    {
      "cell_type": "code",
      "execution_count": null,
      "id": "a2b80593",
      "metadata": {
        "id": "a2b80593"
      },
      "outputs": [],
      "source": [
        "### Code here\n"
      ]
    },
    {
      "cell_type": "code",
      "execution_count": null,
      "id": "7f2c2e20",
      "metadata": {
        "id": "7f2c2e20"
      },
      "outputs": [],
      "source": [
        "### Code here\n"
      ]
    },
    {
      "cell_type": "markdown",
      "id": "c91a46d6",
      "metadata": {
        "id": "c91a46d6"
      },
      "source": [
        "### Feature Importance\n",
        "\n",
        "**2.2.8 Interpret your trained model using a bar chart of the model weights. Make sure to label the bars (x-axis) and don't forget the bias term!**"
      ]
    },
    {
      "cell_type": "code",
      "execution_count": null,
      "id": "a7f59753",
      "metadata": {
        "id": "a7f59753"
      },
      "outputs": [],
      "source": [
        "### Code here\n"
      ]
    },
    {
      "cell_type": "code",
      "execution_count": null,
      "id": "1d80a40d",
      "metadata": {
        "id": "1d80a40d"
      },
      "outputs": [],
      "source": [
        "### Comment here\n"
      ]
    },
    {
      "cell_type": "markdown",
      "id": "ccd1133f",
      "metadata": {
        "id": "ccd1133f"
      },
      "source": [
        "### 2.3 Support Vector Machines\n",
        "\n",
        "In this part, we will be using support vector machines for classification on the loan dataset."
      ]
    },
    {
      "cell_type": "markdown",
      "id": "fa721556",
      "metadata": {
        "id": "fa721556"
      },
      "source": [
        "### Train Primal SVM\n",
        "**2.3.1 Train a primal SVM (with default parameters) on the loan dataset. Make predictions and report the accuracy on the training, validation, and test sets.**"
      ]
    },
    {
      "cell_type": "code",
      "execution_count": null,
      "id": "3490ce4f",
      "metadata": {
        "id": "3490ce4f"
      },
      "outputs": [],
      "source": [
        "### Code here\n"
      ]
    },
    {
      "cell_type": "markdown",
      "id": "395b73d4",
      "metadata": {
        "id": "395b73d4"
      },
      "source": [
        "### Train Dual SVM\n",
        "**2.3.2 Train a dual SVM (with default parameters) on the loan dataset. Make predictions and report the accuracy on the training, validation, and test sets.**"
      ]
    },
    {
      "cell_type": "code",
      "execution_count": null,
      "id": "c4d762dd",
      "metadata": {
        "id": "c4d762dd"
      },
      "outputs": [],
      "source": [
        "### Code here\n"
      ]
    },
    {
      "cell_type": "code",
      "execution_count": null,
      "id": "c1cbb04c",
      "metadata": {
        "id": "c1cbb04c"
      },
      "outputs": [],
      "source": []
    }
  ],
  "metadata": {
    "colab": {
      "provenance": []
    },
    "kernelspec": {
      "display_name": "Python 3 (ipykernel)",
      "language": "python",
      "name": "python3"
    },
    "language_info": {
      "codemirror_mode": {
        "name": "ipython",
        "version": 3
      },
      "file_extension": ".py",
      "mimetype": "text/x-python",
      "name": "python",
      "nbconvert_exporter": "python",
      "pygments_lexer": "ipython3",
      "version": "3.9.6"
    }
  },
  "nbformat": 4,
  "nbformat_minor": 5
}
